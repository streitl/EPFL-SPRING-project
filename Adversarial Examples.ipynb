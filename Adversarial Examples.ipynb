{
 "cells": [
  {
   "cell_type": "markdown",
   "metadata": {},
   "source": [
    "# Links to dataset information\n",
    "\n",
    "**UCI**:\n",
    "- __[adult](http://archive.ics.uci.edu/ml/datasets/Adult)__\n",
    "- __[annealing](https://archive.ics.uci.edu/ml/datasets/Annealing)__\n",
    "- __[audiology-std](https://archive.ics.uci.edu/ml/datasets/Audiology+%28Standardized%29)__\n",
    "- __[bank](https://archive.ics.uci.edu/ml/datasets/Bank%2BMarketing)__\n",
    "- __[bankruptcy](http://archive.ics.uci.edu/ml/datasets/Qualitative_Bankruptcy)__\n",
    "- __[car](https://archive.ics.uci.edu/ml/datasets/Car+Evaluation)__\n",
    "- __[chess-krvk](https://archive.ics.uci.edu/ml/datasets/Chess+%28King-Rook+vs.+King%29)__\n",
    "- __[chess-krvkp](http://archive.ics.uci.edu/ml/datasets/Chess+%28King-Rook+vs.+King-Pawn%29)__\n",
    "- __[congress-voting](https://archive.ics.uci.edu/ml/datasets/Congressional+Voting+Records)__\n",
    "- __[contrac](https://archive.ics.uci.edu/ml/datasets/Contraceptive+Method+Choice)__\n",
    "- __[credit-approval](http://archive.ics.uci.edu/ml/datasets/Credit+Approval)__\n",
    "- **unsure about this one**: __[ctg](https://www.kaggle.com/akshat0007/fetalhr)__\n",
    "- __[cylinder-bands](http://archive.ics.uci.edu/ml/datasets/Cylinder+Bands)__\n",
    "- __[dermatology](https://archive.ics.uci.edu/ml/datasets/Dermatology)__\n",
    "- __[german_credit](https://archive.ics.uci.edu/ml/datasets/Statlog+%28German+Credit+Data%29)__\n",
    "- __[heart-cleveland](https://archive.ics.uci.edu/ml/datasets/Heart+Disease)__\n",
    "- __[ilpd](http://archive.ics.uci.edu/ml/datasets/ILPD+%28Indian+Liver+Patient+Dataset%29)__\n",
    "- __[mammo](https://archive.ics.uci.edu/ml/datasets/Mammographic+Mass)__\n",
    "- __[mushroom](https://archive.ics.uci.edu/ml/datasets/Mushroom)__\n",
    "- __[wine](https://archive.ics.uci.edu/ml/datasets/wine)__\n",
    "- __[wine_qual](https://archive.ics.uci.edu/ml/datasets/Wine+Quality)__\n",
    "\n",
    "Others:\n",
    "- __[texas](https://www.dshs.texas.gov/thcic/hospitals/UserManual1Q2013.pdf)__\n",
    "- __[IEEECIS](https://www.kaggle.com/c/ieee-fraud-detection/discussion/101203)__\n"
   ]
  },
  {
   "cell_type": "markdown",
   "metadata": {},
   "source": [
    "# Imports"
   ]
  },
  {
   "cell_type": "code",
   "execution_count": 1,
   "metadata": {},
   "outputs": [],
   "source": [
    "import pandas as pd\n",
    "import numpy as np\n",
    "\n",
    "import matplotlib.pyplot as plt\n",
    "import seaborn as sns\n",
    "\n",
    "from sklearn.metrics import accuracy_score\n",
    "from sklearn.model_selection import train_test_split\n",
    "\n",
    "from tqdm import tqdm"
   ]
  },
  {
   "cell_type": "code",
   "execution_count": 2,
   "metadata": {},
   "outputs": [],
   "source": [
    "from src.loader import load_dataset\n",
    "from src.models import SRR\n",
    "from src.preprocessing import processing_pipeline\n",
    "from src.vulnerabilities import *"
   ]
  },
  {
   "cell_type": "code",
   "execution_count": 3,
   "metadata": {},
   "outputs": [],
   "source": [
    "uci_datasets = ['adult', 'annealing', 'audiology-std', 'bank', 'bankruptcy', 'car',\n",
    "                'chess-krvk', 'chess-krvkp', 'congress-voting', 'contrac', 'credit-approval',\n",
    "                'ctg', 'cylinder-bands', 'dermatology', 'german_credit', 'heart-cleveland',\n",
    "                'ilpd', 'mammo', 'mushroom', 'wine', 'wine_qual']\n",
    "\n",
    "all_datasets = uci_datasets + ['texas', 'ieeecis']"
   ]
  },
  {
   "cell_type": "markdown",
   "metadata": {},
   "source": [
    "# Adversarial Examples"
   ]
  },
  {
   "cell_type": "markdown",
   "metadata": {},
   "source": [
    "|   dataset   | M | k |nbins|modifiable features|percentage|\n",
    "|:------------|:--|:--|:----|:------|:---------|\n",
    "|german_credit| 5 | 3 |  3  |Duration_in_months|19.76|\n",
    "|german_credit|10 | 3 |  3  |Duration_in_months|16.49|\n",
    "|german_credit| 5 | 5 |  5  |Credit_amount - Purpose - Duration_in_months|75.95|\n",
    "|bankruptcy   | 5 | 3 |  -  |competitiveness|100|\n",
    "|bankruptcy   | 5 | 3 |  -  |credibility - financial_flex|21.78|\n",
    "|bankruptcy   | 5 | 3 |  -  |credibility|2.67|\n",
    "|bankruptcy   | 5 | 3 |  -  |financial_flex|1.78|\n",
    "|IEEE-CIS     | 5 | 3 |  3  |browser|100|\n",
    "|IEEE-CIS     | 5 | 3 |  3  |card_type|48.59|\n",
    "|IEEE-CIS     | 5 | 3 |  3  |TransactionAmt|14.22|\n",
    "|IEEE-CIS     | 5 | 3 |  3  |card_type - TransactionAmt|88.12|"
   ]
  },
  {
   "cell_type": "markdown",
   "metadata": {},
   "source": [
    "## german_credit"
   ]
  },
  {
   "cell_type": "code",
   "execution_count": 4,
   "metadata": {},
   "outputs": [
    {
     "name": "stdout",
     "output_type": "stream",
     "text": [
      "-> german_credit dataset\n",
      "Loading german_credit...\n"
     ]
    }
   ],
   "source": [
    "dataset = 'german_credit'\n",
    "print(f\"-> {dataset} dataset\")\n",
    "# Load the data\n",
    "X, y = load_dataset(name=dataset)"
   ]
  },
  {
   "cell_type": "code",
   "execution_count": 5,
   "metadata": {},
   "outputs": [
    {
     "name": "stdout",
     "output_type": "stream",
     "text": [
      "Select-Regress-Round (SRR) [k=3, M=5]\n",
      "\n",
      "                    Feature                                                     Category  Score\n",
      " Status_of_checking_account                                                   ... < 0 DM     -3\n",
      " Status_of_checking_account       ... >= 200 DM / salary assignments for at least 1 year      2\n",
      " Status_of_checking_account                                            0 <= ... < 200 DM     -1\n",
      " Status_of_checking_account                                          no checking account      5\n",
      "             Credit_history                      all credits at this bank paid back duly     -3\n",
      "             Credit_history  critical account/ other credits existing (not at this bank)      3\n",
      "             Credit_history                 no credits taken/ all credits paid back duly     -3\n",
      "         Duration_in_months                                                 (-inf, 11.5]      3\n",
      "         Duration_in_months                                                  (23.0, inf]     -2\n",
      "\n",
      "Intercept: 3\n",
      "\n",
      "Predict class 1 if sum of scores and intercept is >= 0, otherwise predict 0.\n"
     ]
    }
   ],
   "source": [
    "# Apply the processing pipeline\n",
    "X_train, X_test, y_train, y_test = processing_pipeline(X, y, nbins=3)\n",
    "\n",
    "# Construct and train Select-Regress-Round model\n",
    "srr = SRR(k=3, M=5)\n",
    "srr.fit(X_train, y_train)\n",
    "\n",
    "srr.show_scoring_table()"
   ]
  },
  {
   "cell_type": "code",
   "execution_count": 6,
   "metadata": {},
   "outputs": [
    {
     "name": "stderr",
     "output_type": "stream",
     "text": [
      "                                                  "
     ]
    },
    {
     "name": "stdout",
     "output_type": "stream",
     "text": [
      "Found adversarial examples for 19.76 % of the correctly classified points\n"
     ]
    },
    {
     "name": "stderr",
     "output_type": "stream",
     "text": [
      "\r"
     ]
    }
   ],
   "source": [
    "advs = find_adversarial_examples(srr, X_train, y_train, can_change=['Duration_in_months'], unit_changes=True)"
   ]
  },
  {
   "cell_type": "code",
   "execution_count": 7,
   "metadata": {},
   "outputs": [
    {
     "name": "stdout",
     "output_type": "stream",
     "text": [
      "Select-Regress-Round (SRR) [k=3, M=10]\n",
      "\n",
      "                    Feature                                                     Category  Score\n",
      " Status_of_checking_account                                                   ... < 0 DM     -6\n",
      " Status_of_checking_account       ... >= 200 DM / salary assignments for at least 1 year      3\n",
      " Status_of_checking_account                                            0 <= ... < 200 DM     -2\n",
      " Status_of_checking_account                                          no checking account     10\n",
      "             Credit_history                      all credits at this bank paid back duly     -6\n",
      "             Credit_history  critical account/ other credits existing (not at this bank)      7\n",
      "             Credit_history                 no credits taken/ all credits paid back duly     -7\n",
      "         Duration_in_months                                                 (-inf, 11.5]      5\n",
      "         Duration_in_months                                                  (23.0, inf]     -3\n",
      "\n",
      "Intercept: 6\n",
      "\n",
      "Predict class 1 if sum of scores and intercept is >= 0, otherwise predict 0.\n"
     ]
    }
   ],
   "source": [
    "# Apply the processing pipeline\n",
    "X_train, X_test, y_train, y_test = processing_pipeline(X, y, nbins=3)\n",
    "\n",
    "# Construct and train Select-Regress-Round model\n",
    "srr = SRR(k=3, M=10)\n",
    "srr.fit(X_train, y_train)\n",
    "\n",
    "srr.show_scoring_table()"
   ]
  },
  {
   "cell_type": "code",
   "execution_count": 8,
   "metadata": {},
   "outputs": [
    {
     "name": "stderr",
     "output_type": "stream",
     "text": [
      "                                                  "
     ]
    },
    {
     "name": "stdout",
     "output_type": "stream",
     "text": [
      "Found adversarial examples for 16.49 % of the correctly classified points\n"
     ]
    },
    {
     "name": "stderr",
     "output_type": "stream",
     "text": [
      "\r"
     ]
    }
   ],
   "source": [
    "advs = find_adversarial_examples(srr, X_train, y_train, can_change=['Duration_in_months'], unit_changes=True)"
   ]
  },
  {
   "cell_type": "code",
   "execution_count": 9,
   "metadata": {},
   "outputs": [
    {
     "name": "stdout",
     "output_type": "stream",
     "text": [
      "Select-Regress-Round (SRR) [k=5, M=5]\n",
      "\n",
      "                    Feature                                                     Category  Score\n",
      " Status_of_checking_account                                                   ... < 0 DM     -3\n",
      " Status_of_checking_account       ... >= 200 DM / salary assignments for at least 1 year      2\n",
      " Status_of_checking_account                                            0 <= ... < 200 DM     -1\n",
      " Status_of_checking_account                                          no checking account      4\n",
      "             Credit_history                      all credits at this bank paid back duly     -3\n",
      "             Credit_history  critical account/ other credits existing (not at this bank)      3\n",
      "             Credit_history                              delay in paying off in the past      1\n",
      "             Credit_history                 no credits taken/ all credits paid back duly     -3\n",
      "              Credit_amount                                               (-inf, 1401.0]     -1\n",
      "              Credit_amount                                             (1401.0, 2382.0]      1\n",
      "              Credit_amount                                             (2382.0, 4053.0]      3\n",
      "              Credit_amount                                                (4053.0, inf]     -2\n",
      "                    Purpose                                                    car (new)     -2\n",
      "                    Purpose                                                   car (used)      4\n",
      "                    Purpose                                                    education     -3\n",
      "                    Purpose                                                       others      1\n",
      "                    Purpose                                             radio/television      1\n",
      "                    Purpose                                                      repairs     -2\n",
      "                    Purpose                                                   retraining      5\n",
      "         Duration_in_months                                                 (-inf, 11.5]      4\n",
      "         Duration_in_months                                                 (11.5, 20.0]      1\n",
      "         Duration_in_months                                                 (20.0, 29.0]     -1\n",
      "         Duration_in_months                                                  (29.0, inf]     -2\n",
      "\n",
      "Intercept: 2\n",
      "\n",
      "Predict class 1 if sum of scores and intercept is >= 0, otherwise predict 0.\n"
     ]
    }
   ],
   "source": [
    "# Apply the processing pipeline\n",
    "X_train, X_test, y_train, y_test = processing_pipeline(X, y, nbins=5)\n",
    "\n",
    "# Construct and train Select-Regress-Round model\n",
    "srr = SRR(k=5, M=5)\n",
    "srr.fit(X_train, y_train)\n",
    "\n",
    "srr.show_scoring_table()"
   ]
  },
  {
   "cell_type": "code",
   "execution_count": 10,
   "metadata": {},
   "outputs": [
    {
     "name": "stderr",
     "output_type": "stream",
     "text": [
      "                                                 \r"
     ]
    },
    {
     "name": "stdout",
     "output_type": "stream",
     "text": [
      "Found adversarial examples for 75.95 % of the correctly classified points\n"
     ]
    }
   ],
   "source": [
    "advs = find_adversarial_examples(srr, X_train, y_train,\n",
    "                                 unit_changes=False,\n",
    "                                 can_change=['Duration_in_months', 'Credit_amount', 'Purpose'])"
   ]
  },
  {
   "cell_type": "markdown",
   "metadata": {},
   "source": [
    "## bankruptcy"
   ]
  },
  {
   "cell_type": "code",
   "execution_count": 11,
   "metadata": {},
   "outputs": [
    {
     "name": "stdout",
     "output_type": "stream",
     "text": [
      "-> bankruptcy dataset\n",
      "Loading bankruptcy...\n",
      "Selected features competitiveness, credibility, financial_flex\n",
      "Logistic model accuracy of 100.0 % on the training set (baseline 57.3 %)\n",
      "Select-Regress-Round (SRR) [k=3, M=5]\n",
      "\n",
      "         Feature Category  Score\n",
      " competitiveness        N      5\n",
      " competitiveness        P     -2\n",
      "     credibility        N      3\n",
      "  financial_flex        N      2\n",
      "\n",
      "Intercept: -4\n",
      "\n",
      "Predict class 1 if sum of scores and intercept is >= 0, otherwise predict 0.\n"
     ]
    }
   ],
   "source": [
    "dataset = 'bankruptcy'\n",
    "print(f\"-> {dataset} dataset\")\n",
    "# Load the data\n",
    "X, y = load_dataset(name=dataset)\n",
    "\n",
    "# Apply the processing pipeline\n",
    "X_train, X_test, y_train, y_test = processing_pipeline(X, y)\n",
    "\n",
    "# Construct and train Select-Regress-Round model\n",
    "srr = SRR(k=3, M=5)\n",
    "srr.fit(X_train, y_train, verbose=1)\n",
    "\n",
    "srr.show_scoring_table()"
   ]
  },
  {
   "cell_type": "code",
   "execution_count": 12,
   "metadata": {},
   "outputs": [
    {
     "name": "stderr",
     "output_type": "stream",
     "text": [
      "                                                  "
     ]
    },
    {
     "name": "stdout",
     "output_type": "stream",
     "text": [
      "Found adversarial examples for 100.00 % of the correctly classified points\n"
     ]
    },
    {
     "name": "stderr",
     "output_type": "stream",
     "text": [
      "\r"
     ]
    }
   ],
   "source": [
    "advs = find_adversarial_examples(srr, X_train, y_train, can_change=['competitiveness'], unit_changes=True)"
   ]
  },
  {
   "cell_type": "code",
   "execution_count": 13,
   "metadata": {},
   "outputs": [
    {
     "name": "stderr",
     "output_type": "stream",
     "text": [
      "                                                 "
     ]
    },
    {
     "name": "stdout",
     "output_type": "stream",
     "text": [
      "Found adversarial examples for 21.78 % of the correctly classified points\n"
     ]
    },
    {
     "name": "stderr",
     "output_type": "stream",
     "text": [
      "\r"
     ]
    }
   ],
   "source": [
    "advs = find_adversarial_examples(srr, X_train, y_train, unit_changes=False,\n",
    "                                 can_change=['credibility', 'financial_flex'])"
   ]
  },
  {
   "cell_type": "code",
   "execution_count": 14,
   "metadata": {},
   "outputs": [
    {
     "name": "stderr",
     "output_type": "stream",
     "text": [
      "                                                  \r"
     ]
    },
    {
     "name": "stdout",
     "output_type": "stream",
     "text": [
      "Found adversarial examples for 2.67 % of the correctly classified points\n"
     ]
    }
   ],
   "source": [
    "advs = find_adversarial_examples(srr, X_train, y_train, can_change=['credibility'], unit_changes=True)"
   ]
  },
  {
   "cell_type": "code",
   "execution_count": 15,
   "metadata": {},
   "outputs": [
    {
     "name": "stderr",
     "output_type": "stream",
     "text": [
      "                                                  \r"
     ]
    },
    {
     "name": "stdout",
     "output_type": "stream",
     "text": [
      "Found adversarial examples for 1.78 % of the correctly classified points\n"
     ]
    }
   ],
   "source": [
    "advs = find_adversarial_examples(srr, X_train, y_train, can_change=['financial_flex'], unit_changes=True)"
   ]
  },
  {
   "cell_type": "markdown",
   "metadata": {},
   "source": [
    "## IEEE-CIS"
   ]
  },
  {
   "cell_type": "code",
   "execution_count": 16,
   "metadata": {},
   "outputs": [
    {
     "name": "stdout",
     "output_type": "stream",
     "text": [
      "-> ieeecis dataset\n",
      "Loading ieeecis...\n"
     ]
    }
   ],
   "source": [
    "dataset = 'ieeecis'\n",
    "print(f\"-> {dataset} dataset\")\n",
    "# Load the data\n",
    "X, y = load_dataset(name=dataset)\n",
    "\n",
    "# This dataset is too big so get a reasonably-sized subset\n",
    "X_subset = pd.concat([\n",
    "    X[y == 1].sample(n=1500, random_state=15),\n",
    "    X[y == 0].sample(n=1500, random_state=15)\n",
    "])\n",
    "y_subset = y.loc[X_subset.index]\n",
    "\n",
    "del X\n",
    "del y"
   ]
  },
  {
   "cell_type": "code",
   "execution_count": 17,
   "metadata": {},
   "outputs": [
    {
     "name": "stdout",
     "output_type": "stream",
     "text": [
      "Select-Regress-Round (SRR) [k=3, M=5]\n",
      "\n",
      "        Feature            Category  Score\n",
      "        browser     android webview      2\n",
      "        browser  chrome for android      2\n",
      "        browser                edge     -2\n",
      "        browser             firefox     -1\n",
      "        browser      ie for desktop     -3\n",
      "        browser       ie for tablet     -2\n",
      "        browser               opera      5\n",
      "        browser               other      1\n",
      "        browser              safari     -2\n",
      "        browser     samsung browser      1\n",
      "        browser             unknown     -2\n",
      "      card_type              credit      1\n",
      "      card_type                 nan     -2\n",
      " TransactionAmt      (108.476, inf]      1\n",
      "\n",
      "Intercept: 0\n",
      "\n",
      "Predict class 1 if sum of scores and intercept is >= 0, otherwise predict 0.\n"
     ]
    }
   ],
   "source": [
    "# Apply the processing pipeline\n",
    "X_train, X_test, y_train, y_test = processing_pipeline(X_subset, y_subset, nbins=3)\n",
    "\n",
    "# Construct and train Select-Regress-Round model\n",
    "srr = SRR(k=3, M=5)\n",
    "srr.fit(X_train, y_train)\n",
    "\n",
    "srr.show_scoring_table()"
   ]
  },
  {
   "cell_type": "code",
   "execution_count": 18,
   "metadata": {},
   "outputs": [
    {
     "name": "stderr",
     "output_type": "stream",
     "text": [
      "                                                   \r"
     ]
    },
    {
     "name": "stdout",
     "output_type": "stream",
     "text": [
      "Found adversarial examples for 100.00 % of the correctly classified points\n"
     ]
    }
   ],
   "source": [
    "advs = find_adversarial_examples(srr, X_train, y_train, can_change=['browser'], unit_changes=True)"
   ]
  },
  {
   "cell_type": "code",
   "execution_count": 19,
   "metadata": {},
   "outputs": [
    {
     "name": "stderr",
     "output_type": "stream",
     "text": [
      "                                                    \r"
     ]
    },
    {
     "name": "stdout",
     "output_type": "stream",
     "text": [
      "Found adversarial examples for 48.59 % of the correctly classified points\n"
     ]
    }
   ],
   "source": [
    "advs = find_adversarial_examples(srr, X_train, y_train, can_change=['card_type'], unit_changes=True)"
   ]
  },
  {
   "cell_type": "code",
   "execution_count": 20,
   "metadata": {},
   "outputs": [
    {
     "name": "stderr",
     "output_type": "stream",
     "text": [
      "                                                    "
     ]
    },
    {
     "name": "stdout",
     "output_type": "stream",
     "text": [
      "Found adversarial examples for 14.22 % of the correctly classified points\n"
     ]
    },
    {
     "name": "stderr",
     "output_type": "stream",
     "text": [
      "\r"
     ]
    }
   ],
   "source": [
    "advs = find_adversarial_examples(srr, X_train, y_train, can_change=['TransactionAmt'], unit_changes=True)"
   ]
  },
  {
   "cell_type": "code",
   "execution_count": 21,
   "metadata": {},
   "outputs": [
    {
     "name": "stderr",
     "output_type": "stream",
     "text": [
      "                                                   \r"
     ]
    },
    {
     "name": "stdout",
     "output_type": "stream",
     "text": [
      "Found adversarial examples for 88.12 % of the correctly classified points\n"
     ]
    }
   ],
   "source": [
    "advs = find_adversarial_examples(srr, X_train, y_train, can_change=['card_type', 'TransactionAmt'], unit_changes=False)"
   ]
  },
  {
   "cell_type": "code",
   "execution_count": null,
   "metadata": {},
   "outputs": [],
   "source": []
  }
 ],
 "metadata": {
  "kernelspec": {
   "display_name": "SPRING (Python 3)",
   "language": "python",
   "name": "python3"
  },
  "language_info": {
   "codemirror_mode": {
    "name": "ipython",
    "version": 3
   },
   "file_extension": ".py",
   "mimetype": "text/x-python",
   "name": "python",
   "nbconvert_exporter": "python",
   "pygments_lexer": "ipython3",
   "version": "3.8.5"
  }
 },
 "nbformat": 4,
 "nbformat_minor": 4
}
