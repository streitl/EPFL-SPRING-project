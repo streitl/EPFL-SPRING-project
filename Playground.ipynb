{
 "cells": [
  {
   "cell_type": "markdown",
   "metadata": {},
   "source": [
    "# Links to dataset information\n",
    "\n",
    "**UCI**:\n",
    "- __[adult](http://archive.ics.uci.edu/ml/datasets/Adult)__\n",
    "- __[annealing](https://archive.ics.uci.edu/ml/datasets/Annealing)__\n",
    "- __[audiology-std](https://archive.ics.uci.edu/ml/datasets/Audiology+%28Standardized%29)__\n",
    "- __[bank](https://archive.ics.uci.edu/ml/datasets/Bank%2BMarketing)__\n",
    "- __[bankruptcy](http://archive.ics.uci.edu/ml/datasets/Qualitative_Bankruptcy)__\n",
    "- __[car](https://archive.ics.uci.edu/ml/datasets/Car+Evaluation)__\n",
    "- __[chess-krvk](https://archive.ics.uci.edu/ml/datasets/Chess+%28King-Rook+vs.+King%29)__\n",
    "- __[chess-krvkp](http://archive.ics.uci.edu/ml/datasets/Chess+%28King-Rook+vs.+King-Pawn%29)__\n",
    "- __[congress-voting](https://archive.ics.uci.edu/ml/datasets/Congressional+Voting+Records)__\n",
    "- __[contrac](https://archive.ics.uci.edu/ml/datasets/Contraceptive+Method+Choice)__\n",
    "- __[credit-approval](http://archive.ics.uci.edu/ml/datasets/Credit+Approval)__\n",
    "- **unsure about this one**: __[ctg](https://www.kaggle.com/akshat0007/fetalhr)__\n",
    "- __[cylinder-bands](http://archive.ics.uci.edu/ml/datasets/Cylinder+Bands)__\n",
    "- __[dermatology](https://archive.ics.uci.edu/ml/datasets/Dermatology)__\n",
    "- __[german_credit](https://archive.ics.uci.edu/ml/datasets/Statlog+%28German+Credit+Data%29)__\n",
    "- __[heart-cleveland](https://archive.ics.uci.edu/ml/datasets/Heart+Disease)__\n",
    "- __[ilpd](http://archive.ics.uci.edu/ml/datasets/ILPD+%28Indian+Liver+Patient+Dataset%29)__\n",
    "- __[mammo](https://archive.ics.uci.edu/ml/datasets/Mammographic+Mass)__\n",
    "- __[mushroom](https://archive.ics.uci.edu/ml/datasets/Mushroom)__\n",
    "- __[wine](https://archive.ics.uci.edu/ml/datasets/wine)__\n",
    "- __[wine_qual](https://archive.ics.uci.edu/ml/datasets/Wine+Quality)__\n",
    "\n",
    "Others:\n",
    "- __[texas](https://www.dshs.texas.gov/thcic/hospitals/UserManual1Q2013.pdf)__\n",
    "- __[IEEECIS](https://www.kaggle.com/c/ieee-fraud-detection/discussion/101203)__\n"
   ]
  },
  {
   "cell_type": "markdown",
   "metadata": {},
   "source": [
    "# Imports"
   ]
  },
  {
   "cell_type": "code",
   "execution_count": 1,
   "metadata": {},
   "outputs": [],
   "source": [
    "import pandas as pd\n",
    "import numpy as np\n",
    "\n",
    "import matplotlib.pyplot as plt\n",
    "import seaborn as sns\n",
    "\n",
    "from sklearn.metrics import accuracy_score\n",
    "from sklearn.model_selection import train_test_split\n",
    "\n",
    "from tqdm import tqdm"
   ]
  },
  {
   "cell_type": "code",
   "execution_count": 2,
   "metadata": {},
   "outputs": [],
   "source": [
    "from src.loader import load_dataset\n",
    "from src.models import SRR\n",
    "from src.preprocessing import one_hot_encode_pair, processing_pipeline, bin_features\n",
    "from src.feature_selection import forward_stepwise_regression\n",
    "from src.vulnerabilities import *"
   ]
  },
  {
   "cell_type": "code",
   "execution_count": 3,
   "metadata": {},
   "outputs": [],
   "source": [
    "uci_datasets = ['adult', 'annealing', 'audiology-std', 'bank', 'bankruptcy', 'car',\n",
    "                'chess-krvk', 'chess-krvkp', 'congress-voting', 'contrac', 'credit-approval',\n",
    "                'ctg', 'cylinder-bands', 'dermatology', 'german_credit', 'heart-cleveland',\n",
    "                'ilpd', 'mammo', 'mushroom', 'wine', 'wine_qual']\n",
    "\n",
    "all_datasets = uci_datasets + ['texas', 'ieeecis']"
   ]
  },
  {
   "cell_type": "markdown",
   "metadata": {},
   "source": [
    "# Poisoning attacks"
   ]
  },
  {
   "cell_type": "code",
   "execution_count": 12,
   "metadata": {
    "scrolled": false
   },
   "outputs": [
    {
     "name": "stdout",
     "output_type": "stream",
     "text": [
      "-> german_credit dataset\n",
      "Loading german_credit...\n",
      "Selected features Status_of_checking_account, Credit_history, Duration_in_months, Purpose, Savings_account\n",
      "Logistic model accuracy of 76.8 % on the training set (baseline 70.0 %)\n",
      "Select-Regress-Round (SRR) [k=5, M=5]\n",
      "\n",
      "                    Feature                                                     Category  Score\n",
      " Status_of_checking_account                                                   ... < 0 DM     -1\n",
      " Status_of_checking_account       ... >= 200 DM / salary assignments for at least 1 year      2\n",
      " Status_of_checking_account                                            0 <= ... < 200 DM     -1\n",
      " Status_of_checking_account                                          no checking account      3\n",
      "             Credit_history                      all credits at this bank paid back duly     -3\n",
      "             Credit_history  critical account/ other credits existing (not at this bank)      3\n",
      "             Credit_history                              delay in paying off in the past      0\n",
      "             Credit_history                     existing credits paid back duly till now      0\n",
      "             Credit_history                 no credits taken/ all credits paid back duly     -3\n",
      "         Duration_in_months                                                 (-inf, 11.5]      3\n",
      "         Duration_in_months                                                 (11.5, 23.0]      0\n",
      "         Duration_in_months                                                  (23.0, inf]     -2\n",
      "                    Purpose                                                     business      0\n",
      "                    Purpose                                                    car (new)     -2\n",
      "                    Purpose                                                   car (used)      3\n",
      "                    Purpose                                          domestic appliances     -1\n",
      "                    Purpose                                                    education     -4\n",
      "                    Purpose                                          furniture/equipment      0\n",
      "                    Purpose                                                       others      0\n",
      "                    Purpose                                             radio/television      1\n",
      "                    Purpose                                                      repairs     -2\n",
      "                    Purpose                                                   retraining      5\n",
      "            Savings_account                                                .. >= 1000 DM      2\n",
      "            Savings_account                                                 ... < 100 DM     -2\n",
      "            Savings_account                                          100 <= ... < 500 DM      0\n",
      "            Savings_account                                         500 <= ... < 1000 DM      0\n",
      "            Savings_account                                  unknown/ no savings account      1\n",
      "\n",
      "Model's bias: 4\n",
      "\n",
      "Predict class 1 if sum of scores and bias is >= 0, otherwise predict 0.\n"
     ]
    }
   ],
   "source": [
    "dataset = 'german_credit'\n",
    "print(f\"-> {dataset} dataset\")\n",
    "# Load the data\n",
    "X, y = load_dataset(name=dataset)\n",
    "\n",
    "# These datasets are too big so get a reasonably-sized subset\n",
    "if X.shape[0] > 3000:\n",
    "    X_subset = pd.concat([\n",
    "        X[y == 1].sample(n=3000, random_state=15),\n",
    "        X[y == 0].sample(n=3000, random_state=15)\n",
    "    ])\n",
    "    y_subset = y.loc[X_subset.index]\n",
    "else:\n",
    "    X_subset = X\n",
    "    y_subset = y\n",
    "\n",
    "# Apply the processing pipeline\n",
    "X_train_bin, X_test_bin, y_train, y_test = processing_pipeline(X_subset, y_subset)\n",
    "\n",
    "\n",
    "# One-hot encode the categorical variables\n",
    "X_train_one_hot, X_test_one_hot = one_hot_encode_pair(X_train_bin, X_test_bin)\n",
    "\n",
    "# Construct and train Select-Regress-Round model\n",
    "original_srr = SRR(k=5, M=5)\n",
    "original_srr.fit(X_train_one_hot, y_train, verbose=1)\n",
    "\n",
    "print(original_srr)"
   ]
  },
  {
   "cell_type": "code",
   "execution_count": 9,
   "metadata": {},
   "outputs": [
    {
     "data": {
      "text/html": [
       "<div>\n",
       "<style scoped>\n",
       "    .dataframe tbody tr th:only-of-type {\n",
       "        vertical-align: middle;\n",
       "    }\n",
       "\n",
       "    .dataframe tbody tr th {\n",
       "        vertical-align: top;\n",
       "    }\n",
       "\n",
       "    .dataframe thead th {\n",
       "        text-align: right;\n",
       "    }\n",
       "</style>\n",
       "<table border=\"1\" class=\"dataframe\">\n",
       "  <thead>\n",
       "    <tr style=\"text-align: right;\">\n",
       "      <th></th>\n",
       "      <th>industrial_risk</th>\n",
       "      <th>management_risk</th>\n",
       "      <th>financial_flex</th>\n",
       "      <th>credibility</th>\n",
       "      <th>competitiveness</th>\n",
       "      <th>operating_risk</th>\n",
       "    </tr>\n",
       "  </thead>\n",
       "  <tbody>\n",
       "    <tr>\n",
       "      <th>168</th>\n",
       "      <td>A</td>\n",
       "      <td>A</td>\n",
       "      <td>N</td>\n",
       "      <td>N</td>\n",
       "      <td>N</td>\n",
       "      <td>N</td>\n",
       "    </tr>\n",
       "    <tr>\n",
       "      <th>195</th>\n",
       "      <td>N</td>\n",
       "      <td>P</td>\n",
       "      <td>N</td>\n",
       "      <td>N</td>\n",
       "      <td>N</td>\n",
       "      <td>N</td>\n",
       "    </tr>\n",
       "    <tr>\n",
       "      <th>100</th>\n",
       "      <td>P</td>\n",
       "      <td>P</td>\n",
       "      <td>A</td>\n",
       "      <td>A</td>\n",
       "      <td>P</td>\n",
       "      <td>N</td>\n",
       "    </tr>\n",
       "    <tr>\n",
       "      <th>56</th>\n",
       "      <td>A</td>\n",
       "      <td>P</td>\n",
       "      <td>P</td>\n",
       "      <td>P</td>\n",
       "      <td>P</td>\n",
       "      <td>P</td>\n",
       "    </tr>\n",
       "    <tr>\n",
       "      <th>54</th>\n",
       "      <td>A</td>\n",
       "      <td>A</td>\n",
       "      <td>N</td>\n",
       "      <td>P</td>\n",
       "      <td>P</td>\n",
       "      <td>A</td>\n",
       "    </tr>\n",
       "    <tr>\n",
       "      <th>...</th>\n",
       "      <td>...</td>\n",
       "      <td>...</td>\n",
       "      <td>...</td>\n",
       "      <td>...</td>\n",
       "      <td>...</td>\n",
       "      <td>...</td>\n",
       "    </tr>\n",
       "    <tr>\n",
       "      <th>10</th>\n",
       "      <td>P</td>\n",
       "      <td>P</td>\n",
       "      <td>P</td>\n",
       "      <td>P</td>\n",
       "      <td>A</td>\n",
       "      <td>P</td>\n",
       "    </tr>\n",
       "    <tr>\n",
       "      <th>196</th>\n",
       "      <td>A</td>\n",
       "      <td>P</td>\n",
       "      <td>N</td>\n",
       "      <td>A</td>\n",
       "      <td>N</td>\n",
       "      <td>N</td>\n",
       "    </tr>\n",
       "    <tr>\n",
       "      <th>224</th>\n",
       "      <td>P</td>\n",
       "      <td>A</td>\n",
       "      <td>N</td>\n",
       "      <td>N</td>\n",
       "      <td>N</td>\n",
       "      <td>N</td>\n",
       "    </tr>\n",
       "    <tr>\n",
       "      <th>222</th>\n",
       "      <td>P</td>\n",
       "      <td>A</td>\n",
       "      <td>N</td>\n",
       "      <td>N</td>\n",
       "      <td>N</td>\n",
       "      <td>A</td>\n",
       "    </tr>\n",
       "    <tr>\n",
       "      <th>97</th>\n",
       "      <td>P</td>\n",
       "      <td>A</td>\n",
       "      <td>A</td>\n",
       "      <td>P</td>\n",
       "      <td>P</td>\n",
       "      <td>N</td>\n",
       "    </tr>\n",
       "  </tbody>\n",
       "</table>\n",
       "<p>225 rows × 6 columns</p>\n",
       "</div>"
      ],
      "text/plain": [
       "    industrial_risk management_risk financial_flex credibility  \\\n",
       "168               A               A              N           N   \n",
       "195               N               P              N           N   \n",
       "100               P               P              A           A   \n",
       "56                A               P              P           P   \n",
       "54                A               A              N           P   \n",
       "..              ...             ...            ...         ...   \n",
       "10                P               P              P           P   \n",
       "196               A               P              N           A   \n",
       "224               P               A              N           N   \n",
       "222               P               A              N           N   \n",
       "97                P               A              A           P   \n",
       "\n",
       "    competitiveness operating_risk  \n",
       "168               N              N  \n",
       "195               N              N  \n",
       "100               P              N  \n",
       "56                P              P  \n",
       "54                P              A  \n",
       "..              ...            ...  \n",
       "10                A              P  \n",
       "196               N              N  \n",
       "224               N              N  \n",
       "222               N              A  \n",
       "97                P              N  \n",
       "\n",
       "[225 rows x 6 columns]"
      ]
     },
     "execution_count": 9,
     "metadata": {},
     "output_type": "execute_result"
    }
   ],
   "source": [
    "X_train_bin"
   ]
  },
  {
   "cell_type": "code",
   "execution_count": 5,
   "metadata": {},
   "outputs": [
    {
     "name": "stdout",
     "output_type": "stream",
     "text": [
      "Select-Regress-Round (SRR) [k=3, M=5]\n",
      "\n",
      "                    Feature                                                     Category  Score\n",
      " Status_of_checking_account                                                   ... < 0 DM     -3\n",
      " Status_of_checking_account       ... >= 200 DM / salary assignments for at least 1 year      2\n",
      " Status_of_checking_account                                            0 <= ... < 200 DM     -1\n",
      " Status_of_checking_account                                          no checking account      5\n",
      "             Credit_history                      all credits at this bank paid back duly     -3\n",
      "             Credit_history  critical account/ other credits existing (not at this bank)      3\n",
      "             Credit_history                              delay in paying off in the past      0\n",
      "             Credit_history                     existing credits paid back duly till now      0\n",
      "             Credit_history                 no credits taken/ all credits paid back duly     -3\n",
      "         Duration_in_months                                                 (-inf, 11.5]      3\n",
      "         Duration_in_months                                                 (11.5, 23.0]      0\n",
      "         Duration_in_months                                                  (23.0, inf]     -2\n",
      "\n",
      "Model's bias: 3\n",
      "\n",
      "Predict class 1 if sum of scores and bias is >= 0, otherwise predict 0.\n"
     ]
    }
   ],
   "source": [
    "print(original_model)"
   ]
  },
  {
   "cell_type": "code",
   "execution_count": 6,
   "metadata": {},
   "outputs": [],
   "source": [
    "to_drop = y_train.loc[X_train_bin.Status_of_checking_account == 'A12'].index"
   ]
  },
  {
   "cell_type": "code",
   "execution_count": 16,
   "metadata": {},
   "outputs": [
    {
     "data": {
      "text/html": [
       "<div>\n",
       "<style scoped>\n",
       "    .dataframe tbody tr th:only-of-type {\n",
       "        vertical-align: middle;\n",
       "    }\n",
       "\n",
       "    .dataframe tbody tr th {\n",
       "        vertical-align: top;\n",
       "    }\n",
       "\n",
       "    .dataframe thead th {\n",
       "        text-align: right;\n",
       "    }\n",
       "</style>\n",
       "<table border=\"1\" class=\"dataframe\">\n",
       "  <thead>\n",
       "    <tr style=\"text-align: right;\">\n",
       "      <th></th>\n",
       "      <th>Weight</th>\n",
       "      <th>original</th>\n",
       "      <th>relative</th>\n",
       "      <th>normal</th>\n",
       "      <th>1</th>\n",
       "      <th>2</th>\n",
       "      <th>3</th>\n",
       "      <th>4</th>\n",
       "      <th>5</th>\n",
       "      <th>6</th>\n",
       "      <th>7</th>\n",
       "      <th>8</th>\n",
       "      <th>9</th>\n",
       "      <th>10</th>\n",
       "    </tr>\n",
       "    <tr>\n",
       "      <th>Feature</th>\n",
       "      <th>Category</th>\n",
       "      <th></th>\n",
       "      <th></th>\n",
       "      <th></th>\n",
       "      <th></th>\n",
       "      <th></th>\n",
       "      <th></th>\n",
       "      <th></th>\n",
       "      <th></th>\n",
       "      <th></th>\n",
       "      <th></th>\n",
       "      <th></th>\n",
       "      <th></th>\n",
       "      <th></th>\n",
       "    </tr>\n",
       "  </thead>\n",
       "  <tbody>\n",
       "    <tr>\n",
       "      <th rowspan=\"4\" valign=\"top\">Status_of_checking_account</th>\n",
       "      <th>A11</th>\n",
       "      <td>-1.356496</td>\n",
       "      <td>-0.766516</td>\n",
       "      <td>-1.960518</td>\n",
       "      <td>-1</td>\n",
       "      <td>-2</td>\n",
       "      <td>-2</td>\n",
       "      <td>-3</td>\n",
       "      <td>-4</td>\n",
       "      <td>-5</td>\n",
       "      <td>-5</td>\n",
       "      <td>-6</td>\n",
       "      <td>-7</td>\n",
       "      <td>-8</td>\n",
       "    </tr>\n",
       "    <tr>\n",
       "      <th>A12</th>\n",
       "      <td>0.000000</td>\n",
       "      <td>0.000000</td>\n",
       "      <td>-0.127626</td>\n",
       "      <td>0</td>\n",
       "      <td>0</td>\n",
       "      <td>0</td>\n",
       "      <td>0</td>\n",
       "      <td>0</td>\n",
       "      <td>0</td>\n",
       "      <td>0</td>\n",
       "      <td>0</td>\n",
       "      <td>0</td>\n",
       "      <td>0</td>\n",
       "    </tr>\n",
       "    <tr>\n",
       "      <th>A13</th>\n",
       "      <td>0.000000</td>\n",
       "      <td>0.000000</td>\n",
       "      <td>-0.127626</td>\n",
       "      <td>0</td>\n",
       "      <td>0</td>\n",
       "      <td>0</td>\n",
       "      <td>0</td>\n",
       "      <td>0</td>\n",
       "      <td>0</td>\n",
       "      <td>0</td>\n",
       "      <td>0</td>\n",
       "      <td>0</td>\n",
       "      <td>0</td>\n",
       "    </tr>\n",
       "    <tr>\n",
       "      <th>A14</th>\n",
       "      <td>0.502500</td>\n",
       "      <td>0.283948</td>\n",
       "      <td>0.551350</td>\n",
       "      <td>0</td>\n",
       "      <td>1</td>\n",
       "      <td>1</td>\n",
       "      <td>1</td>\n",
       "      <td>1</td>\n",
       "      <td>2</td>\n",
       "      <td>2</td>\n",
       "      <td>2</td>\n",
       "      <td>3</td>\n",
       "      <td>3</td>\n",
       "    </tr>\n",
       "    <tr>\n",
       "      <th rowspan=\"5\" valign=\"top\">Credit_history</th>\n",
       "      <th>A30</th>\n",
       "      <td>-0.222941</td>\n",
       "      <td>-0.125977</td>\n",
       "      <td>-0.428863</td>\n",
       "      <td>0</td>\n",
       "      <td>0</td>\n",
       "      <td>0</td>\n",
       "      <td>-1</td>\n",
       "      <td>-1</td>\n",
       "      <td>-1</td>\n",
       "      <td>-1</td>\n",
       "      <td>-1</td>\n",
       "      <td>-1</td>\n",
       "      <td>-1</td>\n",
       "    </tr>\n",
       "    <tr>\n",
       "      <th>A31</th>\n",
       "      <td>-0.246054</td>\n",
       "      <td>-0.139038</td>\n",
       "      <td>-0.460092</td>\n",
       "      <td>0</td>\n",
       "      <td>0</td>\n",
       "      <td>0</td>\n",
       "      <td>-1</td>\n",
       "      <td>-1</td>\n",
       "      <td>-1</td>\n",
       "      <td>-1</td>\n",
       "      <td>-1</td>\n",
       "      <td>-1</td>\n",
       "      <td>-1</td>\n",
       "    </tr>\n",
       "    <tr>\n",
       "      <th>A32</th>\n",
       "      <td>0.729403</td>\n",
       "      <td>0.412164</td>\n",
       "      <td>0.857940</td>\n",
       "      <td>0</td>\n",
       "      <td>1</td>\n",
       "      <td>1</td>\n",
       "      <td>2</td>\n",
       "      <td>2</td>\n",
       "      <td>2</td>\n",
       "      <td>3</td>\n",
       "      <td>3</td>\n",
       "      <td>4</td>\n",
       "      <td>4</td>\n",
       "    </tr>\n",
       "    <tr>\n",
       "      <th>A33</th>\n",
       "      <td>0.000000</td>\n",
       "      <td>0.000000</td>\n",
       "      <td>-0.127626</td>\n",
       "      <td>0</td>\n",
       "      <td>0</td>\n",
       "      <td>0</td>\n",
       "      <td>0</td>\n",
       "      <td>0</td>\n",
       "      <td>0</td>\n",
       "      <td>0</td>\n",
       "      <td>0</td>\n",
       "      <td>0</td>\n",
       "      <td>0</td>\n",
       "    </tr>\n",
       "    <tr>\n",
       "      <th>A34</th>\n",
       "      <td>1.769690</td>\n",
       "      <td>1.000000</td>\n",
       "      <td>2.263571</td>\n",
       "      <td>1</td>\n",
       "      <td>2</td>\n",
       "      <td>3</td>\n",
       "      <td>4</td>\n",
       "      <td>5</td>\n",
       "      <td>6</td>\n",
       "      <td>7</td>\n",
       "      <td>8</td>\n",
       "      <td>9</td>\n",
       "      <td>10</td>\n",
       "    </tr>\n",
       "    <tr>\n",
       "      <th rowspan=\"10\" valign=\"top\">Purpose</th>\n",
       "      <th>A40</th>\n",
       "      <td>-0.469657</td>\n",
       "      <td>-0.265390</td>\n",
       "      <td>-0.762225</td>\n",
       "      <td>0</td>\n",
       "      <td>-1</td>\n",
       "      <td>-1</td>\n",
       "      <td>-1</td>\n",
       "      <td>-1</td>\n",
       "      <td>-2</td>\n",
       "      <td>-2</td>\n",
       "      <td>-2</td>\n",
       "      <td>-2</td>\n",
       "      <td>-3</td>\n",
       "    </tr>\n",
       "    <tr>\n",
       "      <th>A41</th>\n",
       "      <td>0.763281</td>\n",
       "      <td>0.431307</td>\n",
       "      <td>0.903715</td>\n",
       "      <td>0</td>\n",
       "      <td>1</td>\n",
       "      <td>1</td>\n",
       "      <td>2</td>\n",
       "      <td>2</td>\n",
       "      <td>3</td>\n",
       "      <td>3</td>\n",
       "      <td>3</td>\n",
       "      <td>4</td>\n",
       "      <td>4</td>\n",
       "    </tr>\n",
       "    <tr>\n",
       "      <th>A410</th>\n",
       "      <td>0.922308</td>\n",
       "      <td>0.521169</td>\n",
       "      <td>1.118592</td>\n",
       "      <td>1</td>\n",
       "      <td>1</td>\n",
       "      <td>2</td>\n",
       "      <td>2</td>\n",
       "      <td>3</td>\n",
       "      <td>3</td>\n",
       "      <td>4</td>\n",
       "      <td>4</td>\n",
       "      <td>5</td>\n",
       "      <td>5</td>\n",
       "    </tr>\n",
       "    <tr>\n",
       "      <th>A42</th>\n",
       "      <td>0.269947</td>\n",
       "      <td>0.152539</td>\n",
       "      <td>0.237125</td>\n",
       "      <td>0</td>\n",
       "      <td>0</td>\n",
       "      <td>0</td>\n",
       "      <td>1</td>\n",
       "      <td>1</td>\n",
       "      <td>1</td>\n",
       "      <td>1</td>\n",
       "      <td>1</td>\n",
       "      <td>1</td>\n",
       "      <td>2</td>\n",
       "    </tr>\n",
       "    <tr>\n",
       "      <th>A43</th>\n",
       "      <td>0.272621</td>\n",
       "      <td>0.154050</td>\n",
       "      <td>0.240738</td>\n",
       "      <td>0</td>\n",
       "      <td>0</td>\n",
       "      <td>0</td>\n",
       "      <td>1</td>\n",
       "      <td>1</td>\n",
       "      <td>1</td>\n",
       "      <td>1</td>\n",
       "      <td>1</td>\n",
       "      <td>1</td>\n",
       "      <td>2</td>\n",
       "    </tr>\n",
       "    <tr>\n",
       "      <th>A44</th>\n",
       "      <td>-0.261797</td>\n",
       "      <td>-0.147934</td>\n",
       "      <td>-0.481365</td>\n",
       "      <td>0</td>\n",
       "      <td>0</td>\n",
       "      <td>0</td>\n",
       "      <td>-1</td>\n",
       "      <td>-1</td>\n",
       "      <td>-1</td>\n",
       "      <td>-1</td>\n",
       "      <td>-1</td>\n",
       "      <td>-1</td>\n",
       "      <td>-1</td>\n",
       "    </tr>\n",
       "    <tr>\n",
       "      <th>A45</th>\n",
       "      <td>-0.800488</td>\n",
       "      <td>-0.452332</td>\n",
       "      <td>-1.209241</td>\n",
       "      <td>0</td>\n",
       "      <td>-1</td>\n",
       "      <td>-1</td>\n",
       "      <td>-2</td>\n",
       "      <td>-2</td>\n",
       "      <td>-3</td>\n",
       "      <td>-3</td>\n",
       "      <td>-4</td>\n",
       "      <td>-4</td>\n",
       "      <td>-5</td>\n",
       "    </tr>\n",
       "    <tr>\n",
       "      <th>A46</th>\n",
       "      <td>-1.061712</td>\n",
       "      <td>-0.599942</td>\n",
       "      <td>-1.562206</td>\n",
       "      <td>-1</td>\n",
       "      <td>-1</td>\n",
       "      <td>-2</td>\n",
       "      <td>-2</td>\n",
       "      <td>-3</td>\n",
       "      <td>-4</td>\n",
       "      <td>-4</td>\n",
       "      <td>-5</td>\n",
       "      <td>-5</td>\n",
       "      <td>-6</td>\n",
       "    </tr>\n",
       "    <tr>\n",
       "      <th>A48</th>\n",
       "      <td>0.774272</td>\n",
       "      <td>0.437519</td>\n",
       "      <td>0.918567</td>\n",
       "      <td>0</td>\n",
       "      <td>1</td>\n",
       "      <td>1</td>\n",
       "      <td>2</td>\n",
       "      <td>2</td>\n",
       "      <td>3</td>\n",
       "      <td>3</td>\n",
       "      <td>4</td>\n",
       "      <td>4</td>\n",
       "      <td>4</td>\n",
       "    </tr>\n",
       "    <tr>\n",
       "      <th>A49</th>\n",
       "      <td>-0.314390</td>\n",
       "      <td>-0.177652</td>\n",
       "      <td>-0.552428</td>\n",
       "      <td>0</td>\n",
       "      <td>0</td>\n",
       "      <td>-1</td>\n",
       "      <td>-1</td>\n",
       "      <td>-1</td>\n",
       "      <td>-1</td>\n",
       "      <td>-1</td>\n",
       "      <td>-1</td>\n",
       "      <td>-2</td>\n",
       "      <td>-2</td>\n",
       "    </tr>\n",
       "    <tr>\n",
       "      <th>bias</th>\n",
       "      <th></th>\n",
       "      <td>0.618596</td>\n",
       "      <td>0.349550</td>\n",
       "      <td>0.708218</td>\n",
       "      <td>0</td>\n",
       "      <td>1</td>\n",
       "      <td>1</td>\n",
       "      <td>1</td>\n",
       "      <td>2</td>\n",
       "      <td>2</td>\n",
       "      <td>2</td>\n",
       "      <td>3</td>\n",
       "      <td>3</td>\n",
       "      <td>3</td>\n",
       "    </tr>\n",
       "  </tbody>\n",
       "</table>\n",
       "</div>"
      ],
      "text/plain": [
       "Weight                               original  relative    normal  1  2  3  4  \\\n",
       "Feature                    Category                                             \n",
       "Status_of_checking_account A11      -1.356496 -0.766516 -1.960518 -1 -2 -2 -3   \n",
       "                           A12       0.000000  0.000000 -0.127626  0  0  0  0   \n",
       "                           A13       0.000000  0.000000 -0.127626  0  0  0  0   \n",
       "                           A14       0.502500  0.283948  0.551350  0  1  1  1   \n",
       "Credit_history             A30      -0.222941 -0.125977 -0.428863  0  0  0 -1   \n",
       "                           A31      -0.246054 -0.139038 -0.460092  0  0  0 -1   \n",
       "                           A32       0.729403  0.412164  0.857940  0  1  1  2   \n",
       "                           A33       0.000000  0.000000 -0.127626  0  0  0  0   \n",
       "                           A34       1.769690  1.000000  2.263571  1  2  3  4   \n",
       "Purpose                    A40      -0.469657 -0.265390 -0.762225  0 -1 -1 -1   \n",
       "                           A41       0.763281  0.431307  0.903715  0  1  1  2   \n",
       "                           A410      0.922308  0.521169  1.118592  1  1  2  2   \n",
       "                           A42       0.269947  0.152539  0.237125  0  0  0  1   \n",
       "                           A43       0.272621  0.154050  0.240738  0  0  0  1   \n",
       "                           A44      -0.261797 -0.147934 -0.481365  0  0  0 -1   \n",
       "                           A45      -0.800488 -0.452332 -1.209241  0 -1 -1 -2   \n",
       "                           A46      -1.061712 -0.599942 -1.562206 -1 -1 -2 -2   \n",
       "                           A48       0.774272  0.437519  0.918567  0  1  1  2   \n",
       "                           A49      -0.314390 -0.177652 -0.552428  0  0 -1 -1   \n",
       "bias                                 0.618596  0.349550  0.708218  0  1  1  1   \n",
       "\n",
       "Weight                               5  6  7  8  9  10  \n",
       "Feature                    Category                     \n",
       "Status_of_checking_account A11      -4 -5 -5 -6 -7  -8  \n",
       "                           A12       0  0  0  0  0   0  \n",
       "                           A13       0  0  0  0  0   0  \n",
       "                           A14       1  2  2  2  3   3  \n",
       "Credit_history             A30      -1 -1 -1 -1 -1  -1  \n",
       "                           A31      -1 -1 -1 -1 -1  -1  \n",
       "                           A32       2  2  3  3  4   4  \n",
       "                           A33       0  0  0  0  0   0  \n",
       "                           A34       5  6  7  8  9  10  \n",
       "Purpose                    A40      -1 -2 -2 -2 -2  -3  \n",
       "                           A41       2  3  3  3  4   4  \n",
       "                           A410      3  3  4  4  5   5  \n",
       "                           A42       1  1  1  1  1   2  \n",
       "                           A43       1  1  1  1  1   2  \n",
       "                           A44      -1 -1 -1 -1 -1  -1  \n",
       "                           A45      -2 -3 -3 -4 -4  -5  \n",
       "                           A46      -3 -4 -4 -5 -5  -6  \n",
       "                           A48       2  3  3  4  4   4  \n",
       "                           A49      -1 -1 -1 -1 -2  -2  \n",
       "bias                                 2  2  2  3  3   3  "
      ]
     },
     "execution_count": 16,
     "metadata": {},
     "output_type": "execute_result"
    }
   ],
   "source": [
    "poisoned_model = SRR.copy_params(original_model)\n",
    "poisoned_model.fit(X_train_one_hot.drop(index=to_drop), y_train.drop(index=to_drop))\n",
    "poisoned_model.df"
   ]
  },
  {
   "cell_type": "code",
   "execution_count": 7,
   "metadata": {},
   "outputs": [
    {
     "name": "stdout",
     "output_type": "stream",
     "text": [
      "Original weight is negative (-1), so we want it to increase.\n"
     ]
    },
    {
     "name": "stderr",
     "output_type": "stream",
     "text": [
      "100%|██████████| 900/900 [01:17<00:00, 11.68it/s]\n"
     ]
    },
    {
     "name": "stdout",
     "output_type": "stream",
     "text": [
      "Iteration 1: removed 54, got weights: ['normal' 5], [-0.49698262 -1.        ]"
     ]
    },
    {
     "name": "stderr",
     "output_type": "stream",
     "text": [
      "100%|██████████| 899/899 [01:14<00:00, 11.99it/s]\n"
     ]
    },
    {
     "name": "stdout",
     "output_type": "stream",
     "text": [
      "Iteration 2: removed 646, got weights: ['normal' 5], [-0.46146892 -1.        ]"
     ]
    },
    {
     "name": "stderr",
     "output_type": "stream",
     "text": [
      "100%|██████████| 898/898 [01:14<00:00, 12.11it/s]\n"
     ]
    },
    {
     "name": "stdout",
     "output_type": "stream",
     "text": [
      "Iteration 3: removed 474, got weights: ['normal' 5], [-0.44302562 -1.        ]"
     ]
    },
    {
     "name": "stderr",
     "output_type": "stream",
     "text": [
      "100%|██████████| 897/897 [01:14<00:00, 11.99it/s]\n"
     ]
    },
    {
     "name": "stdout",
     "output_type": "stream",
     "text": [
      "Iteration 4: removed 217, got weights: ['normal' 5], [-0.33728657  0.        ]"
     ]
    },
    {
     "name": "stderr",
     "output_type": "stream",
     "text": [
      "100%|██████████| 896/896 [01:19<00:00, 11.31it/s]\n"
     ]
    },
    {
     "name": "stdout",
     "output_type": "stream",
     "text": [
      "Iteration 5: removed 613, got weights: ['normal' 5], [-0.34273473  0.        ]"
     ]
    },
    {
     "name": "stderr",
     "output_type": "stream",
     "text": [
      "100%|██████████| 895/895 [01:21<00:00, 11.03it/s]\n"
     ]
    },
    {
     "name": "stdout",
     "output_type": "stream",
     "text": [
      "Iteration 6: removed 975, got weights: ['normal' 5], [-0.32669967  0.        ]"
     ]
    },
    {
     "name": "stderr",
     "output_type": "stream",
     "text": [
      "100%|██████████| 894/894 [01:21<00:00, 10.98it/s]\n"
     ]
    },
    {
     "name": "stdout",
     "output_type": "stream",
     "text": [
      "Iteration 7: removed 986, got weights: ['normal' 5], [-0.28001024  0.        ]"
     ]
    },
    {
     "name": "stderr",
     "output_type": "stream",
     "text": [
      "100%|██████████| 893/893 [01:23<00:00, 10.72it/s]\n"
     ]
    },
    {
     "name": "stdout",
     "output_type": "stream",
     "text": [
      "Iteration 8: removed 27, got weights: ['normal' 5], [-0.29706302 -1.        ]"
     ]
    },
    {
     "name": "stderr",
     "output_type": "stream",
     "text": [
      "100%|██████████| 892/892 [01:18<00:00, 11.34it/s]\n"
     ]
    },
    {
     "name": "stdout",
     "output_type": "stream",
     "text": [
      "Iteration 9: removed 17, got weights: ['normal' 5], [-0.32194429 -1.        ]"
     ]
    },
    {
     "name": "stderr",
     "output_type": "stream",
     "text": [
      "100%|██████████| 891/891 [01:23<00:00, 10.72it/s]\n"
     ]
    },
    {
     "name": "stdout",
     "output_type": "stream",
     "text": [
      "Iteration 10: removed 605, got weights: ['normal' 5], [-0.20192664  0.        ]"
     ]
    },
    {
     "name": "stderr",
     "output_type": "stream",
     "text": [
      "100%|██████████| 890/890 [01:20<00:00, 11.08it/s]\n"
     ]
    },
    {
     "name": "stdout",
     "output_type": "stream",
     "text": [
      "Iteration 11: removed 282, got weights: ['normal' 5], [-0.14036853  0.        ]"
     ]
    },
    {
     "name": "stderr",
     "output_type": "stream",
     "text": [
      "100%|██████████| 889/889 [01:14<00:00, 11.89it/s]\n"
     ]
    },
    {
     "name": "stdout",
     "output_type": "stream",
     "text": [
      "Iteration 12: removed 293, got weights: ['normal' 5], [-0.10893701  0.        ]"
     ]
    },
    {
     "name": "stderr",
     "output_type": "stream",
     "text": [
      "100%|██████████| 888/888 [01:17<00:00, 11.44it/s]\n"
     ]
    },
    {
     "name": "stdout",
     "output_type": "stream",
     "text": [
      "Iteration 13: removed 740, got weights: ['normal' 5], [-0.09315766  0.        ]"
     ]
    },
    {
     "name": "stderr",
     "output_type": "stream",
     "text": [
      "100%|██████████| 887/887 [01:17<00:00, 11.41it/s]\n"
     ]
    },
    {
     "name": "stdout",
     "output_type": "stream",
     "text": [
      "Iteration 14: removed 743, got weights: ['normal' 5], [-0.15557385  0.        ]"
     ]
    },
    {
     "name": "stderr",
     "output_type": "stream",
     "text": [
      "100%|██████████| 886/886 [01:15<00:00, 11.70it/s]\n"
     ]
    },
    {
     "name": "stdout",
     "output_type": "stream",
     "text": [
      "Iteration 15: removed 477, got weights: ['normal' 5], [-0.07922592  0.        ]"
     ]
    },
    {
     "name": "stderr",
     "output_type": "stream",
     "text": [
      "100%|██████████| 885/885 [01:14<00:00, 11.91it/s]\n"
     ]
    },
    {
     "name": "stdout",
     "output_type": "stream",
     "text": [
      "Iteration 16: removed 216, got weights: ['normal' 5], [-0.12275202  0.        ]"
     ]
    },
    {
     "name": "stderr",
     "output_type": "stream",
     "text": [
      "100%|██████████| 884/884 [01:13<00:00, 12.11it/s]\n"
     ]
    },
    {
     "name": "stdout",
     "output_type": "stream",
     "text": [
      "Iteration 17: removed 615, got weights: ['normal' 5], [-0.05464888  0.        ]"
     ]
    },
    {
     "name": "stderr",
     "output_type": "stream",
     "text": [
      "100%|██████████| 883/883 [01:13<00:00, 11.94it/s]\n"
     ]
    },
    {
     "name": "stdout",
     "output_type": "stream",
     "text": [
      "Iteration 18: removed 945, got weights: ['normal' 5], [-0.04228358  0.        ]"
     ]
    },
    {
     "name": "stderr",
     "output_type": "stream",
     "text": [
      "100%|██████████| 882/882 [01:13<00:00, 11.95it/s]\n"
     ]
    },
    {
     "name": "stdout",
     "output_type": "stream",
     "text": [
      "Iteration 19: removed 658, got weights: ['normal' 5], [-0.02935814  0.        ]"
     ]
    },
    {
     "name": "stderr",
     "output_type": "stream",
     "text": [
      "100%|██████████| 881/881 [01:14<00:00, 11.88it/s]\n"
     ]
    },
    {
     "name": "stdout",
     "output_type": "stream",
     "text": [
      "Iteration 20: removed 78, got weights: ['normal' 5], [-0.01878918  0.        ]"
     ]
    },
    {
     "name": "stderr",
     "output_type": "stream",
     "text": [
      "100%|██████████| 880/880 [01:15<00:00, 11.60it/s]\n"
     ]
    },
    {
     "name": "stdout",
     "output_type": "stream",
     "text": [
      "Iteration 21: removed 225, got weights: ['normal' 5], [-0.00746226  0.        ]"
     ]
    },
    {
     "name": "stderr",
     "output_type": "stream",
     "text": [
      "100%|██████████| 879/879 [01:14<00:00, 11.74it/s]\n"
     ]
    },
    {
     "name": "stdout",
     "output_type": "stream",
     "text": [
      "Iteration 22: removed 782, got weights: ['normal' 5], [0.00323394 0.        ]"
     ]
    },
    {
     "name": "stderr",
     "output_type": "stream",
     "text": [
      "100%|██████████| 878/878 [01:12<00:00, 12.07it/s]\n"
     ]
    },
    {
     "name": "stdout",
     "output_type": "stream",
     "text": [
      "Iteration 23: removed 189, got weights: ['normal' 5], [0.01473344 0.        ]"
     ]
    },
    {
     "name": "stderr",
     "output_type": "stream",
     "text": [
      "100%|██████████| 877/877 [01:09<00:00, 12.53it/s]\n"
     ]
    },
    {
     "name": "stdout",
     "output_type": "stream",
     "text": [
      "Iteration 24: removed 719, got weights: ['normal' 5], [0.02712346 0.        ]"
     ]
    },
    {
     "name": "stderr",
     "output_type": "stream",
     "text": [
      "100%|██████████| 876/876 [26:37<00:00,  1.82s/it]    \n"
     ]
    },
    {
     "name": "stdout",
     "output_type": "stream",
     "text": [
      "Iteration 25: removed 452, got weights: ['normal' 5], [0.03787268 0.        ]"
     ]
    },
    {
     "name": "stderr",
     "output_type": "stream",
     "text": [
      "100%|██████████| 875/875 [01:21<00:00, 10.80it/s]\n"
     ]
    },
    {
     "name": "stdout",
     "output_type": "stream",
     "text": [
      "Iteration 26: removed 247, got weights: ['normal' 5], [0.04917981 0.        ]"
     ]
    },
    {
     "name": "stderr",
     "output_type": "stream",
     "text": [
      "100%|██████████| 874/874 [01:21<00:00, 10.68it/s]\n"
     ]
    },
    {
     "name": "stdout",
     "output_type": "stream",
     "text": [
      "Iteration 27: removed 26, got weights: ['normal' 5], [0.03079659 0.        ]"
     ]
    },
    {
     "name": "stderr",
     "output_type": "stream",
     "text": [
      "100%|██████████| 873/873 [01:22<00:00, 10.63it/s]\n"
     ]
    },
    {
     "name": "stdout",
     "output_type": "stream",
     "text": [
      "Iteration 28: removed 111, got weights: ['normal' 5], [0.05976047 0.        ]"
     ]
    },
    {
     "name": "stderr",
     "output_type": "stream",
     "text": [
      "100%|██████████| 872/872 [01:22<00:00, 10.57it/s]\n"
     ]
    },
    {
     "name": "stdout",
     "output_type": "stream",
     "text": [
      "Iteration 29: removed 157, got weights: ['normal' 5], [0.06709414 0.        ]"
     ]
    },
    {
     "name": "stderr",
     "output_type": "stream",
     "text": [
      "100%|██████████| 871/871 [01:22<00:00, 10.51it/s]\n"
     ]
    },
    {
     "name": "stdout",
     "output_type": "stream",
     "text": [
      "Iteration 30: removed 808, got weights: ['normal' 5], [0.07364982 0.        ]"
     ]
    },
    {
     "name": "stderr",
     "output_type": "stream",
     "text": [
      "100%|██████████| 870/870 [01:22<00:00, 10.53it/s]\n"
     ]
    },
    {
     "name": "stdout",
     "output_type": "stream",
     "text": [
      "Iteration 31: removed 666, got weights: ['normal' 5], [0.08051587 0.        ]"
     ]
    },
    {
     "name": "stderr",
     "output_type": "stream",
     "text": [
      "100%|██████████| 869/869 [01:20<00:00, 10.80it/s]\n"
     ]
    },
    {
     "name": "stdout",
     "output_type": "stream",
     "text": [
      "Iteration 32: removed 735, got weights: ['normal' 5], [0.08772469 0.        ]"
     ]
    },
    {
     "name": "stderr",
     "output_type": "stream",
     "text": [
      "100%|██████████| 868/868 [01:05<00:00, 13.29it/s]\n"
     ]
    },
    {
     "name": "stdout",
     "output_type": "stream",
     "text": [
      "Iteration 33: removed 272, got weights: ['normal' 5], [0.09525881 0.        ]"
     ]
    },
    {
     "name": "stderr",
     "output_type": "stream",
     "text": [
      "100%|██████████| 867/867 [01:09<00:00, 12.50it/s]\n"
     ]
    },
    {
     "name": "stdout",
     "output_type": "stream",
     "text": [
      "Iteration 34: removed 145, got weights: ['normal' 5], [0.10315665 0.        ]"
     ]
    },
    {
     "name": "stderr",
     "output_type": "stream",
     "text": [
      "100%|██████████| 866/866 [01:10<00:00, 12.27it/s]\n"
     ]
    },
    {
     "name": "stdout",
     "output_type": "stream",
     "text": [
      "Iteration 35: removed 667, got weights: ['normal' 5], [0.11111852 0.        ]"
     ]
    },
    {
     "name": "stderr",
     "output_type": "stream",
     "text": [
      "100%|██████████| 865/865 [01:10<00:00, 12.26it/s]\n"
     ]
    },
    {
     "name": "stdout",
     "output_type": "stream",
     "text": [
      "Iteration 36: removed 843, got weights: ['normal' 5], [0.11976827 0.        ]"
     ]
    },
    {
     "name": "stderr",
     "output_type": "stream",
     "text": [
      "100%|██████████| 864/864 [01:10<00:00, 12.31it/s]\n"
     ]
    },
    {
     "name": "stdout",
     "output_type": "stream",
     "text": [
      "Iteration 37: removed 741, got weights: ['normal' 5], [0.12912902 0.        ]"
     ]
    },
    {
     "name": "stderr",
     "output_type": "stream",
     "text": [
      "100%|██████████| 863/863 [01:09<00:00, 12.36it/s]\n"
     ]
    },
    {
     "name": "stdout",
     "output_type": "stream",
     "text": [
      "Iteration 38: removed 55, got weights: ['normal' 5], [0.13656505 0.        ]"
     ]
    },
    {
     "name": "stderr",
     "output_type": "stream",
     "text": [
      "100%|██████████| 862/862 [01:10<00:00, 12.29it/s]\n"
     ]
    },
    {
     "name": "stdout",
     "output_type": "stream",
     "text": [
      "Iteration 39: removed 991, got weights: ['normal' 5], [0.14431749 0.        ]"
     ]
    },
    {
     "name": "stderr",
     "output_type": "stream",
     "text": [
      "100%|██████████| 861/861 [01:10<00:00, 12.29it/s]\n"
     ]
    },
    {
     "name": "stdout",
     "output_type": "stream",
     "text": [
      "Iteration 40: removed 244, got weights: ['normal' 5], [0.15317192 0.        ]"
     ]
    },
    {
     "name": "stderr",
     "output_type": "stream",
     "text": [
      "100%|██████████| 860/860 [27:52<00:00,  1.95s/it]    \n"
     ]
    },
    {
     "name": "stdout",
     "output_type": "stream",
     "text": [
      "Iteration 41: removed 419, got weights: ['normal' 5], [0.15669239 0.        ]"
     ]
    },
    {
     "name": "stderr",
     "output_type": "stream",
     "text": [
      "100%|██████████| 859/859 [14:37:01<00:00, 61.26s/it]       \n"
     ]
    },
    {
     "name": "stdout",
     "output_type": "stream",
     "text": [
      "Iteration 42: removed 398, got weights: ['normal' 5], [0.16016778 0.        ]"
     ]
    },
    {
     "name": "stderr",
     "output_type": "stream",
     "text": [
      "100%|██████████| 858/858 [01:02<00:00, 13.66it/s]\n"
     ]
    },
    {
     "name": "stdout",
     "output_type": "stream",
     "text": [
      "Iteration 43: removed 124, got weights: ['normal' 5], [0.16368021 0.        ]"
     ]
    },
    {
     "name": "stderr",
     "output_type": "stream",
     "text": [
      "100%|██████████| 857/857 [01:04<00:00, 13.38it/s]\n"
     ]
    },
    {
     "name": "stdout",
     "output_type": "stream",
     "text": [
      "Iteration 44: removed 656, got weights: ['normal' 5], [0.1672347 0.       ]"
     ]
    },
    {
     "name": "stderr",
     "output_type": "stream",
     "text": [
      "100%|██████████| 856/856 [01:04<00:00, 13.36it/s]\n"
     ]
    },
    {
     "name": "stdout",
     "output_type": "stream",
     "text": [
      "Iteration 45: removed 424, got weights: ['normal' 5], [0.17081718 0.        ]"
     ]
    },
    {
     "name": "stderr",
     "output_type": "stream",
     "text": [
      "100%|██████████| 855/855 [01:04<00:00, 13.34it/s]\n"
     ]
    },
    {
     "name": "stdout",
     "output_type": "stream",
     "text": [
      "Iteration 46: removed 790, got weights: ['normal' 5], [0.1744308 0.       ]"
     ]
    },
    {
     "name": "stderr",
     "output_type": "stream",
     "text": [
      "100%|██████████| 854/854 [01:04<00:00, 13.17it/s]\n"
     ]
    },
    {
     "name": "stdout",
     "output_type": "stream",
     "text": [
      "Iteration 47: removed 435, got weights: ['normal' 5], [0.17807572 0.        ]"
     ]
    },
    {
     "name": "stderr",
     "output_type": "stream",
     "text": [
      "100%|██████████| 853/853 [01:04<00:00, 13.24it/s]\n"
     ]
    },
    {
     "name": "stdout",
     "output_type": "stream",
     "text": [
      "Iteration 48: removed 449, got weights: ['normal' 5], [0.18180297 0.        ]"
     ]
    },
    {
     "name": "stderr",
     "output_type": "stream",
     "text": [
      "100%|██████████| 852/852 [01:04<00:00, 13.19it/s]\n"
     ]
    },
    {
     "name": "stdout",
     "output_type": "stream",
     "text": [
      "Iteration 49: removed 783, got weights: ['normal' 5], [0.19436073 0.        ]"
     ]
    },
    {
     "name": "stderr",
     "output_type": "stream",
     "text": [
      "100%|██████████| 851/851 [01:04<00:00, 13.18it/s]\n"
     ]
    },
    {
     "name": "stdout",
     "output_type": "stream",
     "text": [
      "Iteration 50: removed 56, got weights: ['normal' 5], [0.20087162 0.        ]"
     ]
    },
    {
     "name": "stderr",
     "output_type": "stream",
     "text": [
      "100%|██████████| 850/850 [01:04<00:00, 13.16it/s]\n"
     ]
    },
    {
     "name": "stdout",
     "output_type": "stream",
     "text": [
      "Iteration 51: removed 127, got weights: ['normal' 5], [0.20775643 0.        ]"
     ]
    },
    {
     "name": "stderr",
     "output_type": "stream",
     "text": [
      "100%|██████████| 849/849 [01:05<00:00, 12.92it/s]\n"
     ]
    },
    {
     "name": "stdout",
     "output_type": "stream",
     "text": [
      "Iteration 52: removed 531, got weights: ['normal' 5], [0.22338999 0.        ]"
     ]
    },
    {
     "name": "stderr",
     "output_type": "stream",
     "text": [
      "100%|██████████| 848/848 [01:04<00:00, 13.07it/s]\n"
     ]
    },
    {
     "name": "stdout",
     "output_type": "stream",
     "text": [
      "Iteration 53: removed 651, got weights: ['normal' 5], [0.20043622 0.        ]"
     ]
    },
    {
     "name": "stderr",
     "output_type": "stream",
     "text": [
      "100%|██████████| 847/847 [01:05<00:00, 12.97it/s]\n"
     ]
    },
    {
     "name": "stdout",
     "output_type": "stream",
     "text": [
      "Iteration 54: removed 265, got weights: ['normal' 5], [0.23604015 0.        ]"
     ]
    },
    {
     "name": "stderr",
     "output_type": "stream",
     "text": [
      "100%|██████████| 846/846 [01:04<00:00, 13.15it/s]\n"
     ]
    },
    {
     "name": "stdout",
     "output_type": "stream",
     "text": [
      "Iteration 55: removed 328, got weights: ['normal' 5], [0.25774785 0.        ]"
     ]
    },
    {
     "name": "stderr",
     "output_type": "stream",
     "text": [
      "100%|██████████| 845/845 [01:05<00:00, 12.99it/s]\n"
     ]
    },
    {
     "name": "stdout",
     "output_type": "stream",
     "text": [
      "Iteration 56: removed 199, got weights: ['normal' 5], [0.26874428 0.        ]"
     ]
    },
    {
     "name": "stderr",
     "output_type": "stream",
     "text": [
      "100%|██████████| 844/844 [01:04<00:00, 13.18it/s]\n"
     ]
    },
    {
     "name": "stdout",
     "output_type": "stream",
     "text": [
      "Iteration 57: removed 313, got weights: ['normal' 5], [0.27160567 0.        ]"
     ]
    },
    {
     "name": "stderr",
     "output_type": "stream",
     "text": [
      "100%|██████████| 843/843 [01:04<00:00, 13.06it/s]\n"
     ]
    },
    {
     "name": "stdout",
     "output_type": "stream",
     "text": [
      "Iteration 58: removed 540, got weights: ['normal' 5], [0.27440584 0.        ]"
     ]
    },
    {
     "name": "stderr",
     "output_type": "stream",
     "text": [
      "100%|██████████| 842/842 [01:04<00:00, 13.08it/s]\n"
     ]
    },
    {
     "name": "stdout",
     "output_type": "stream",
     "text": [
      "Iteration 59: removed 137, got weights: ['normal' 5], [0.27721406 0.        ]"
     ]
    },
    {
     "name": "stderr",
     "output_type": "stream",
     "text": [
      "100%|██████████| 841/841 [01:05<00:00, 12.85it/s]\n"
     ]
    },
    {
     "name": "stdout",
     "output_type": "stream",
     "text": [
      "Iteration 60: removed 197, got weights: ['normal' 5], [0.2800441 0.       ]"
     ]
    },
    {
     "name": "stderr",
     "output_type": "stream",
     "text": [
      "100%|██████████| 840/840 [01:04<00:00, 13.11it/s]\n"
     ]
    },
    {
     "name": "stdout",
     "output_type": "stream",
     "text": [
      "Iteration 61: removed 381, got weights: ['normal' 5], [0.22632925 0.        ]"
     ]
    },
    {
     "name": "stderr",
     "output_type": "stream",
     "text": [
      "100%|██████████| 839/839 [01:04<00:00, 13.04it/s]\n"
     ]
    },
    {
     "name": "stdout",
     "output_type": "stream",
     "text": [
      "Iteration 62: removed 10, got weights: ['normal' 5], [0.23024295 0.        ]"
     ]
    },
    {
     "name": "stderr",
     "output_type": "stream",
     "text": [
      "100%|██████████| 838/838 [01:04<00:00, 12.95it/s]\n"
     ]
    },
    {
     "name": "stdout",
     "output_type": "stream",
     "text": [
      "Iteration 63: removed 543, got weights: ['normal' 5], [0.23421148 0.        ]"
     ]
    },
    {
     "name": "stderr",
     "output_type": "stream",
     "text": [
      "100%|██████████| 837/837 [01:04<00:00, 12.93it/s]\n"
     ]
    },
    {
     "name": "stdout",
     "output_type": "stream",
     "text": [
      "Iteration 64: removed 37, got weights: ['normal' 5], [0.26977594 0.        ]"
     ]
    },
    {
     "name": "stderr",
     "output_type": "stream",
     "text": [
      "100%|██████████| 836/836 [01:04<00:00, 12.88it/s]\n"
     ]
    },
    {
     "name": "stdout",
     "output_type": "stream",
     "text": [
      "Iteration 65: removed 152, got weights: ['normal' 5], [0.2884463 0.       ]"
     ]
    },
    {
     "name": "stderr",
     "output_type": "stream",
     "text": [
      "100%|██████████| 835/835 [01:04<00:00, 12.96it/s]\n"
     ]
    },
    {
     "name": "stdout",
     "output_type": "stream",
     "text": [
      "Iteration 66: removed 172, got weights: ['normal' 5], [0.29189157 0.        ]"
     ]
    },
    {
     "name": "stderr",
     "output_type": "stream",
     "text": [
      "100%|██████████| 834/834 [01:03<00:00, 13.14it/s]\n"
     ]
    },
    {
     "name": "stdout",
     "output_type": "stream",
     "text": [
      "Iteration 67: removed 580, got weights: ['normal' 5], [0.24057827 0.        ]"
     ]
    },
    {
     "name": "stderr",
     "output_type": "stream",
     "text": [
      "100%|██████████| 833/833 [01:03<00:00, 13.18it/s]\n"
     ]
    },
    {
     "name": "stdout",
     "output_type": "stream",
     "text": [
      "Iteration 68: removed 559, got weights: ['normal' 5], [0.24250389 0.        ]"
     ]
    },
    {
     "name": "stderr",
     "output_type": "stream",
     "text": [
      "100%|██████████| 832/832 [01:03<00:00, 13.09it/s]\n"
     ]
    },
    {
     "name": "stdout",
     "output_type": "stream",
     "text": [
      "Iteration 69: removed 535, got weights: ['normal' 5], [0.2444082 0.       ]"
     ]
    },
    {
     "name": "stderr",
     "output_type": "stream",
     "text": [
      "100%|██████████| 831/831 [01:03<00:00, 13.12it/s]\n"
     ]
    },
    {
     "name": "stdout",
     "output_type": "stream",
     "text": [
      "Iteration 70: removed 184, got weights: ['normal' 5], [0.24624579 0.        ]"
     ]
    },
    {
     "name": "stderr",
     "output_type": "stream",
     "text": [
      "100%|██████████| 830/830 [01:03<00:00, 13.05it/s]\n"
     ]
    },
    {
     "name": "stdout",
     "output_type": "stream",
     "text": [
      "Iteration 71: removed 409, got weights: ['normal' 5], [0.24805605 0.        ]"
     ]
    },
    {
     "name": "stderr",
     "output_type": "stream",
     "text": [
      "100%|██████████| 829/829 [01:02<00:00, 13.20it/s]\n"
     ]
    },
    {
     "name": "stdout",
     "output_type": "stream",
     "text": [
      "Iteration 72: removed 648, got weights: ['normal' 5], [0.24968123 0.        ]"
     ]
    },
    {
     "name": "stderr",
     "output_type": "stream",
     "text": [
      "100%|██████████| 828/828 [01:03<00:00, 13.00it/s]\n"
     ]
    },
    {
     "name": "stdout",
     "output_type": "stream",
     "text": [
      "Iteration 73: removed 884, got weights: ['normal' 5], [0.25130917 0.        ]"
     ]
    },
    {
     "name": "stderr",
     "output_type": "stream",
     "text": [
      "100%|██████████| 827/827 [01:03<00:00, 13.09it/s]\n"
     ]
    },
    {
     "name": "stdout",
     "output_type": "stream",
     "text": [
      "Iteration 74: removed 273, got weights: ['normal' 5], [0.25295442 0.        ]"
     ]
    },
    {
     "name": "stderr",
     "output_type": "stream",
     "text": [
      "100%|██████████| 826/826 [01:02<00:00, 13.24it/s]\n"
     ]
    },
    {
     "name": "stdout",
     "output_type": "stream",
     "text": [
      "Iteration 75: removed 431, got weights: ['normal' 5], [0.22635794 0.        ]"
     ]
    },
    {
     "name": "stderr",
     "output_type": "stream",
     "text": [
      "100%|██████████| 825/825 [01:03<00:00, 12.98it/s]\n"
     ]
    },
    {
     "name": "stdout",
     "output_type": "stream",
     "text": [
      "Iteration 76: removed 312, got weights: ['normal' 5], [0.25359348 0.        ]"
     ]
    },
    {
     "name": "stderr",
     "output_type": "stream",
     "text": [
      "100%|██████████| 824/824 [01:03<00:00, 13.04it/s]\n"
     ]
    },
    {
     "name": "stdout",
     "output_type": "stream",
     "text": [
      "Iteration 77: removed 87, got weights: ['normal' 5], [0.25528222 0.        ]"
     ]
    },
    {
     "name": "stderr",
     "output_type": "stream",
     "text": [
      "100%|██████████| 823/823 [01:02<00:00, 13.20it/s]\n"
     ]
    },
    {
     "name": "stdout",
     "output_type": "stream",
     "text": [
      "Iteration 78: removed 788, got weights: ['normal' 5], [0.24859455 0.        ]"
     ]
    },
    {
     "name": "stderr",
     "output_type": "stream",
     "text": [
      "100%|██████████| 822/822 [01:02<00:00, 13.23it/s]\n"
     ]
    },
    {
     "name": "stdout",
     "output_type": "stream",
     "text": [
      "Iteration 79: removed 618, got weights: ['normal' 5], [0.26386724 0.        ]"
     ]
    },
    {
     "name": "stderr",
     "output_type": "stream",
     "text": [
      "100%|██████████| 821/821 [01:02<00:00, 13.14it/s]\n"
     ]
    },
    {
     "name": "stdout",
     "output_type": "stream",
     "text": [
      "Iteration 80: removed 793, got weights: ['normal' 5], [0.28403085 0.        ]"
     ]
    },
    {
     "name": "stderr",
     "output_type": "stream",
     "text": [
      "100%|██████████| 820/820 [01:02<00:00, 13.02it/s]\n"
     ]
    },
    {
     "name": "stdout",
     "output_type": "stream",
     "text": [
      "Iteration 81: removed 702, got weights: ['normal' 5], [0.30520217 0.        ]"
     ]
    },
    {
     "name": "stderr",
     "output_type": "stream",
     "text": [
      "100%|██████████| 819/819 [01:04<00:00, 12.75it/s]\n"
     ]
    },
    {
     "name": "stdout",
     "output_type": "stream",
     "text": [
      "Iteration 82: removed 292, got weights: ['normal' 5], [0.25821952 0.        ]"
     ]
    },
    {
     "name": "stderr",
     "output_type": "stream",
     "text": [
      "100%|██████████| 818/818 [18:52<00:00,  1.38s/it]    \n"
     ]
    },
    {
     "name": "stdout",
     "output_type": "stream",
     "text": [
      "Iteration 83: removed 1, got weights: ['normal' 5], [0.2599352 0.       ]"
     ]
    },
    {
     "name": "stderr",
     "output_type": "stream",
     "text": [
      "100%|██████████| 817/817 [01:00<00:00, 13.47it/s]\n"
     ]
    },
    {
     "name": "stdout",
     "output_type": "stream",
     "text": [
      "Iteration 84: removed 736, got weights: ['normal' 5], [0.26169186 0.        ]"
     ]
    },
    {
     "name": "stderr",
     "output_type": "stream",
     "text": [
      "100%|██████████| 816/816 [01:00<00:00, 13.48it/s]\n"
     ]
    },
    {
     "name": "stdout",
     "output_type": "stream",
     "text": [
      "Iteration 85: removed 332, got weights: ['normal' 5], [0.26345292 0.        ]"
     ]
    },
    {
     "name": "stderr",
     "output_type": "stream",
     "text": [
      "100%|██████████| 815/815 [01:05<00:00, 12.51it/s]\n"
     ]
    },
    {
     "name": "stdout",
     "output_type": "stream",
     "text": [
      "Iteration 86: removed 714, got weights: ['normal' 5], [0.26523441 0.        ]"
     ]
    },
    {
     "name": "stderr",
     "output_type": "stream",
     "text": [
      "100%|██████████| 814/814 [01:10<00:00, 11.62it/s]\n"
     ]
    },
    {
     "name": "stdout",
     "output_type": "stream",
     "text": [
      "Iteration 87: removed 653, got weights: ['normal' 5], [0.26700141 0.        ]"
     ]
    },
    {
     "name": "stderr",
     "output_type": "stream",
     "text": [
      "100%|██████████| 813/813 [01:10<00:00, 11.46it/s]\n"
     ]
    },
    {
     "name": "stdout",
     "output_type": "stream",
     "text": [
      "Iteration 88: removed 18, got weights: ['normal' 5], [0.26880282 0.        ]"
     ]
    },
    {
     "name": "stderr",
     "output_type": "stream",
     "text": [
      "100%|██████████| 812/812 [01:07<00:00, 12.11it/s]\n"
     ]
    },
    {
     "name": "stdout",
     "output_type": "stream",
     "text": [
      "Iteration 89: removed 607, got weights: ['normal' 5], [0.27060758 0.        ]"
     ]
    },
    {
     "name": "stderr",
     "output_type": "stream",
     "text": [
      "100%|██████████| 811/811 [01:07<00:00, 12.04it/s]\n"
     ]
    },
    {
     "name": "stdout",
     "output_type": "stream",
     "text": [
      "Iteration 90: removed 226, got weights: ['normal' 5], [0.27242145 0.        ]"
     ]
    },
    {
     "name": "stderr",
     "output_type": "stream",
     "text": [
      "100%|██████████| 810/810 [01:06<00:00, 12.16it/s]\n"
     ]
    },
    {
     "name": "stdout",
     "output_type": "stream",
     "text": [
      "Iteration 91: removed 213, got weights: ['normal' 5], [0.27421409 0.        ]"
     ]
    },
    {
     "name": "stderr",
     "output_type": "stream",
     "text": [
      "100%|██████████| 809/809 [01:05<00:00, 12.31it/s]\n"
     ]
    },
    {
     "name": "stdout",
     "output_type": "stream",
     "text": [
      "Iteration 92: removed 470, got weights: ['normal' 5], [0.27606892 0.        ]"
     ]
    },
    {
     "name": "stderr",
     "output_type": "stream",
     "text": [
      "100%|██████████| 808/808 [01:06<00:00, 12.09it/s]\n"
     ]
    },
    {
     "name": "stdout",
     "output_type": "stream",
     "text": [
      "Iteration 93: removed 181, got weights: ['normal' 5], [0.27790263 0.        ]"
     ]
    },
    {
     "name": "stderr",
     "output_type": "stream",
     "text": [
      "100%|██████████| 807/807 [01:06<00:00, 12.21it/s]\n"
     ]
    },
    {
     "name": "stdout",
     "output_type": "stream",
     "text": [
      "Iteration 94: removed 706, got weights: ['normal' 5], [0.27975013 0.        ]"
     ]
    },
    {
     "name": "stderr",
     "output_type": "stream",
     "text": [
      "100%|██████████| 806/806 [01:03<00:00, 12.71it/s]\n"
     ]
    },
    {
     "name": "stdout",
     "output_type": "stream",
     "text": [
      "Iteration 95: removed 887, got weights: ['normal' 5], [0.32292579 0.        ]"
     ]
    },
    {
     "name": "stderr",
     "output_type": "stream",
     "text": [
      "100%|██████████| 805/805 [01:02<00:00, 12.83it/s]\n"
     ]
    },
    {
     "name": "stdout",
     "output_type": "stream",
     "text": [
      "Iteration 96: removed 378, got weights: ['normal' 5], [0.28349106 0.        ]"
     ]
    },
    {
     "name": "stderr",
     "output_type": "stream",
     "text": [
      "100%|██████████| 804/804 [01:03<00:00, 12.63it/s]\n"
     ]
    },
    {
     "name": "stdout",
     "output_type": "stream",
     "text": [
      "Iteration 97: removed 583, got weights: ['normal' 5], [0.28538156 0.        ]"
     ]
    },
    {
     "name": "stderr",
     "output_type": "stream",
     "text": [
      "100%|██████████| 803/803 [01:03<00:00, 12.59it/s]\n"
     ]
    },
    {
     "name": "stdout",
     "output_type": "stream",
     "text": [
      "Iteration 98: removed 952, got weights: ['normal' 5], [0.28727146 0.        ]"
     ]
    },
    {
     "name": "stderr",
     "output_type": "stream",
     "text": [
      "100%|██████████| 802/802 [01:05<00:00, 12.20it/s]\n"
     ]
    },
    {
     "name": "stdout",
     "output_type": "stream",
     "text": [
      "Iteration 99: removed 938, got weights: ['normal' 5], [0.28916023 0.        ]"
     ]
    },
    {
     "name": "stderr",
     "output_type": "stream",
     "text": [
      "100%|██████████| 801/801 [01:05<00:00, 12.28it/s]\n"
     ]
    },
    {
     "name": "stdout",
     "output_type": "stream",
     "text": [
      "Iteration 100: removed 438, got weights: ['normal' 5], [0.29051531 0.        ]"
     ]
    },
    {
     "name": "stderr",
     "output_type": "stream",
     "text": [
      "100%|██████████| 800/800 [01:06<00:00, 12.12it/s]\n"
     ]
    },
    {
     "name": "stdout",
     "output_type": "stream",
     "text": [
      "Iteration 101: removed 43, got weights: ['normal' 5], [0.29187086 0.        ]"
     ]
    },
    {
     "name": "stderr",
     "output_type": "stream",
     "text": [
      "100%|██████████| 799/799 [01:03<00:00, 12.56it/s]\n"
     ]
    },
    {
     "name": "stdout",
     "output_type": "stream",
     "text": [
      "Iteration 102: removed 890, got weights: ['normal' 5], [0.29328604 0.        ]"
     ]
    },
    {
     "name": "stderr",
     "output_type": "stream",
     "text": [
      "100%|██████████| 798/798 [01:02<00:00, 12.72it/s]\n"
     ]
    },
    {
     "name": "stdout",
     "output_type": "stream",
     "text": [
      "Iteration 103: removed 330, got weights: ['normal' 5], [0.29467466 0.        ]"
     ]
    },
    {
     "name": "stderr",
     "output_type": "stream",
     "text": [
      "100%|██████████| 797/797 [01:04<00:00, 12.35it/s]\n"
     ]
    },
    {
     "name": "stdout",
     "output_type": "stream",
     "text": [
      "Iteration 104: removed 744, got weights: ['normal' 5], [0.29611555 0.        ]"
     ]
    },
    {
     "name": "stderr",
     "output_type": "stream",
     "text": [
      "100%|██████████| 796/796 [01:02<00:00, 12.76it/s]\n"
     ]
    },
    {
     "name": "stdout",
     "output_type": "stream",
     "text": [
      "Iteration 105: removed 148, got weights: ['normal' 5], [0.29756866 0.        ]"
     ]
    },
    {
     "name": "stderr",
     "output_type": "stream",
     "text": [
      "100%|██████████| 795/795 [01:02<00:00, 12.75it/s]\n"
     ]
    },
    {
     "name": "stdout",
     "output_type": "stream",
     "text": [
      "Iteration 106: removed 397, got weights: ['normal' 5], [0.35122339 0.        ]"
     ]
    },
    {
     "name": "stderr",
     "output_type": "stream",
     "text": [
      "100%|██████████| 794/794 [01:20<00:00,  9.88it/s]\n"
     ]
    },
    {
     "name": "stdout",
     "output_type": "stream",
     "text": [
      "Iteration 107: removed 485, got weights: ['normal' 5], [0.35922966 0.        ]"
     ]
    },
    {
     "name": "stderr",
     "output_type": "stream",
     "text": [
      "100%|██████████| 793/793 [01:21<00:00,  9.69it/s]\n"
     ]
    },
    {
     "name": "stdout",
     "output_type": "stream",
     "text": [
      "Iteration 108: removed 252, got weights: ['normal' 5], [0.36536562 0.        ]"
     ]
    },
    {
     "name": "stderr",
     "output_type": "stream",
     "text": [
      "100%|██████████| 792/792 [01:24<00:00,  9.36it/s]\n"
     ]
    },
    {
     "name": "stdout",
     "output_type": "stream",
     "text": [
      "Iteration 109: removed 838, got weights: ['normal' 5], [0.35755821 0.        ]"
     ]
    },
    {
     "name": "stderr",
     "output_type": "stream",
     "text": [
      "100%|██████████| 791/791 [01:09<00:00, 11.46it/s]\n"
     ]
    },
    {
     "name": "stdout",
     "output_type": "stream",
     "text": [
      "Iteration 110: removed 432, got weights: ['normal' 5], [0.35868137 0.        ]"
     ]
    },
    {
     "name": "stderr",
     "output_type": "stream",
     "text": [
      "100%|██████████| 790/790 [01:09<00:00, 11.34it/s]\n"
     ]
    },
    {
     "name": "stdout",
     "output_type": "stream",
     "text": [
      "Iteration 111: removed 325, got weights: ['normal' 5], [0.38108006 0.        ]"
     ]
    },
    {
     "name": "stderr",
     "output_type": "stream",
     "text": [
      "100%|██████████| 789/789 [01:22<00:00,  9.60it/s]\n"
     ]
    },
    {
     "name": "stdout",
     "output_type": "stream",
     "text": [
      "Iteration 112: removed 320, got weights: ['normal' 5], [0.37062217 0.        ]"
     ]
    },
    {
     "name": "stderr",
     "output_type": "stream",
     "text": [
      "100%|██████████| 788/788 [01:20<00:00,  9.77it/s]\n"
     ]
    },
    {
     "name": "stdout",
     "output_type": "stream",
     "text": [
      "Iteration 113: removed 205, got weights: ['normal' 5], [0.34298939 0.        ]"
     ]
    },
    {
     "name": "stderr",
     "output_type": "stream",
     "text": [
      "100%|██████████| 787/787 [01:03<00:00, 12.41it/s]\n"
     ]
    },
    {
     "name": "stdout",
     "output_type": "stream",
     "text": [
      "Iteration 114: removed 72, got weights: ['normal' 5], [0.37885232 0.        ]"
     ]
    },
    {
     "name": "stderr",
     "output_type": "stream",
     "text": [
      "100%|██████████| 786/786 [01:18<00:00,  9.99it/s]\n"
     ]
    },
    {
     "name": "stdout",
     "output_type": "stream",
     "text": [
      "Iteration 115: removed 405, got weights: ['normal' 5], [0.38001648 0.        ]"
     ]
    },
    {
     "name": "stderr",
     "output_type": "stream",
     "text": [
      "100%|██████████| 785/785 [01:19<00:00,  9.91it/s]\n"
     ]
    },
    {
     "name": "stdout",
     "output_type": "stream",
     "text": [
      "Iteration 116: removed 195, got weights: ['normal' 5], [0.36001219 0.        ]"
     ]
    },
    {
     "name": "stderr",
     "output_type": "stream",
     "text": [
      "100%|██████████| 784/784 [01:07<00:00, 11.61it/s]\n"
     ]
    },
    {
     "name": "stdout",
     "output_type": "stream",
     "text": [
      "Iteration 117: removed 861, got weights: ['normal' 5], [0.3619419 0.       ]"
     ]
    },
    {
     "name": "stderr",
     "output_type": "stream",
     "text": [
      "100%|██████████| 783/783 [01:04<00:00, 12.11it/s]\n"
     ]
    },
    {
     "name": "stdout",
     "output_type": "stream",
     "text": [
      "Iteration 118: removed 250, got weights: ['normal' 5], [0.36316722 0.        ]"
     ]
    },
    {
     "name": "stderr",
     "output_type": "stream",
     "text": [
      "100%|██████████| 782/782 [01:03<00:00, 12.26it/s]\n"
     ]
    },
    {
     "name": "stdout",
     "output_type": "stream",
     "text": [
      "Iteration 119: removed 586, got weights: ['normal' 5], [0.36443753 0.        ]"
     ]
    },
    {
     "name": "stderr",
     "output_type": "stream",
     "text": [
      "100%|██████████| 781/781 [01:03<00:00, 12.29it/s]\n"
     ]
    },
    {
     "name": "stdout",
     "output_type": "stream",
     "text": [
      "Iteration 120: removed 146, got weights: ['normal' 5], [0.36571398 0.        ]"
     ]
    },
    {
     "name": "stderr",
     "output_type": "stream",
     "text": [
      "100%|██████████| 780/780 [01:03<00:00, 12.26it/s]\n"
     ]
    },
    {
     "name": "stdout",
     "output_type": "stream",
     "text": [
      "Iteration 121: removed 823, got weights: ['normal' 5], [0.35028857 0.        ]"
     ]
    },
    {
     "name": "stderr",
     "output_type": "stream",
     "text": [
      "100%|██████████| 779/779 [00:59<00:00, 13.05it/s]\n"
     ]
    },
    {
     "name": "stdout",
     "output_type": "stream",
     "text": [
      "Iteration 122: removed 693, got weights: ['normal' 5], [0.35183893 0.        ]"
     ]
    },
    {
     "name": "stderr",
     "output_type": "stream",
     "text": [
      "100%|██████████| 778/778 [01:00<00:00, 12.83it/s]\n"
     ]
    },
    {
     "name": "stdout",
     "output_type": "stream",
     "text": [
      "Iteration 123: removed 156, got weights: ['normal' 5], [0.35365229 0.        ]"
     ]
    },
    {
     "name": "stderr",
     "output_type": "stream",
     "text": [
      "100%|██████████| 777/777 [01:00<00:00, 12.77it/s]\n"
     ]
    },
    {
     "name": "stdout",
     "output_type": "stream",
     "text": [
      "Iteration 124: removed 955, got weights: ['normal' 5], [0.37118369 0.        ]"
     ]
    },
    {
     "name": "stderr",
     "output_type": "stream",
     "text": [
      "100%|██████████| 776/776 [01:05<00:00, 11.84it/s]\n"
     ]
    },
    {
     "name": "stdout",
     "output_type": "stream",
     "text": [
      "Iteration 125: removed 617, got weights: ['normal' 5], [0.37274258 0.        ]"
     ]
    },
    {
     "name": "stderr",
     "output_type": "stream",
     "text": [
      "100%|██████████| 775/775 [01:11<00:00, 10.88it/s]\n"
     ]
    },
    {
     "name": "stdout",
     "output_type": "stream",
     "text": [
      "Iteration 126: removed 515, got weights: ['normal' 5], [0.37436895 0.        ]"
     ]
    },
    {
     "name": "stderr",
     "output_type": "stream",
     "text": [
      "100%|██████████| 774/774 [01:07<00:00, 11.45it/s]\n"
     ]
    },
    {
     "name": "stdout",
     "output_type": "stream",
     "text": [
      "Iteration 127: removed 872, got weights: ['normal' 5], [0.35795474 0.        ]"
     ]
    },
    {
     "name": "stderr",
     "output_type": "stream",
     "text": [
      "100%|██████████| 773/773 [01:04<00:00, 12.02it/s]\n"
     ]
    },
    {
     "name": "stdout",
     "output_type": "stream",
     "text": [
      "Iteration 128: removed 601, got weights: ['normal' 5], [0.35967257 0.        ]"
     ]
    },
    {
     "name": "stderr",
     "output_type": "stream",
     "text": [
      "100%|██████████| 772/772 [01:03<00:00, 12.21it/s]\n"
     ]
    },
    {
     "name": "stdout",
     "output_type": "stream",
     "text": [
      "Iteration 129: removed 192, got weights: ['normal' 5], [0.36079924 0.        ]"
     ]
    },
    {
     "name": "stderr",
     "output_type": "stream",
     "text": [
      "100%|██████████| 771/771 [01:03<00:00, 12.18it/s]\n"
     ]
    },
    {
     "name": "stdout",
     "output_type": "stream",
     "text": [
      "Iteration 130: removed 479, got weights: ['normal' 5], [0.36155185 0.        ]"
     ]
    },
    {
     "name": "stderr",
     "output_type": "stream",
     "text": [
      "100%|██████████| 770/770 [01:02<00:00, 12.29it/s]\n"
     ]
    },
    {
     "name": "stdout",
     "output_type": "stream",
     "text": [
      "Iteration 131: removed 713, got weights: ['normal' 5], [0.36217745 0.        ]"
     ]
    },
    {
     "name": "stderr",
     "output_type": "stream",
     "text": [
      "100%|██████████| 769/769 [01:05<00:00, 11.75it/s]\n"
     ]
    },
    {
     "name": "stdout",
     "output_type": "stream",
     "text": [
      "Iteration 132: removed 776, got weights: ['normal' 5], [0.36271653 0.        ]"
     ]
    },
    {
     "name": "stderr",
     "output_type": "stream",
     "text": [
      "100%|██████████| 768/768 [01:03<00:00, 12.04it/s]\n"
     ]
    },
    {
     "name": "stdout",
     "output_type": "stream",
     "text": [
      "Iteration 133: removed 117, got weights: ['normal' 5], [0.36322732 0.        ]"
     ]
    },
    {
     "name": "stderr",
     "output_type": "stream",
     "text": [
      "100%|██████████| 767/767 [01:04<00:00, 11.95it/s]\n"
     ]
    },
    {
     "name": "stdout",
     "output_type": "stream",
     "text": [
      "Iteration 134: removed 936, got weights: ['normal' 5], [0.32853123 0.        ]"
     ]
    },
    {
     "name": "stderr",
     "output_type": "stream",
     "text": [
      "100%|██████████| 766/766 [01:01<00:00, 12.51it/s]\n"
     ]
    },
    {
     "name": "stdout",
     "output_type": "stream",
     "text": [
      "Iteration 135: removed 236, got weights: ['normal' 5], [0.36266532 0.        ]"
     ]
    },
    {
     "name": "stderr",
     "output_type": "stream",
     "text": [
      "100%|██████████| 765/765 [01:02<00:00, 12.23it/s]\n"
     ]
    },
    {
     "name": "stdout",
     "output_type": "stream",
     "text": [
      "Iteration 136: removed 754, got weights: ['normal' 5], [0.36519414 0.        ]"
     ]
    },
    {
     "name": "stderr",
     "output_type": "stream",
     "text": [
      "100%|██████████| 764/764 [01:03<00:00, 12.08it/s]\n"
     ]
    },
    {
     "name": "stdout",
     "output_type": "stream",
     "text": [
      "Iteration 137: removed 22, got weights: ['normal' 5], [0.36724605 0.        ]"
     ]
    },
    {
     "name": "stderr",
     "output_type": "stream",
     "text": [
      "100%|██████████| 763/763 [01:02<00:00, 12.19it/s]\n"
     ]
    },
    {
     "name": "stdout",
     "output_type": "stream",
     "text": [
      "Iteration 138: removed 563, got weights: ['normal' 5], [0.36836195 0.        ]"
     ]
    },
    {
     "name": "stderr",
     "output_type": "stream",
     "text": [
      "100%|██████████| 762/762 [01:03<00:00, 12.01it/s]\n"
     ]
    },
    {
     "name": "stdout",
     "output_type": "stream",
     "text": [
      "Iteration 139: removed 677, got weights: ['normal' 5], [0.36953006 0.        ]"
     ]
    },
    {
     "name": "stderr",
     "output_type": "stream",
     "text": [
      "100%|██████████| 761/761 [01:03<00:00, 12.05it/s]\n"
     ]
    },
    {
     "name": "stdout",
     "output_type": "stream",
     "text": [
      "Iteration 140: removed 75, got weights: ['normal' 5], [0.37026824 0.        ]"
     ]
    },
    {
     "name": "stderr",
     "output_type": "stream",
     "text": [
      "100%|██████████| 760/760 [01:01<00:00, 12.29it/s]\n"
     ]
    },
    {
     "name": "stdout",
     "output_type": "stream",
     "text": [
      "Iteration 141: removed 177, got weights: ['normal' 5], [0.37095542 0.        ]"
     ]
    },
    {
     "name": "stderr",
     "output_type": "stream",
     "text": [
      "100%|██████████| 759/759 [01:02<00:00, 12.23it/s]\n"
     ]
    },
    {
     "name": "stdout",
     "output_type": "stream",
     "text": [
      "Iteration 142: removed 926, got weights: ['normal' 5], [0.37147191 0.        ]"
     ]
    },
    {
     "name": "stderr",
     "output_type": "stream",
     "text": [
      "100%|██████████| 758/758 [01:02<00:00, 12.22it/s]\n"
     ]
    },
    {
     "name": "stdout",
     "output_type": "stream",
     "text": [
      "Iteration 143: removed 239, got weights: ['normal' 5], [0.37217391 0.        ]"
     ]
    },
    {
     "name": "stderr",
     "output_type": "stream",
     "text": [
      "100%|██████████| 757/757 [01:03<00:00, 11.92it/s]\n"
     ]
    },
    {
     "name": "stdout",
     "output_type": "stream",
     "text": [
      "Iteration 144: removed 969, got weights: ['normal' 5], [0.37287269 0.        ]"
     ]
    },
    {
     "name": "stderr",
     "output_type": "stream",
     "text": [
      "100%|██████████| 756/756 [01:03<00:00, 11.91it/s]\n"
     ]
    },
    {
     "name": "stdout",
     "output_type": "stream",
     "text": [
      "Iteration 145: removed 802, got weights: ['normal' 5], [0.37339217 0.        ]"
     ]
    },
    {
     "name": "stderr",
     "output_type": "stream",
     "text": [
      "100%|██████████| 755/755 [01:04<00:00, 11.67it/s]\n"
     ]
    },
    {
     "name": "stdout",
     "output_type": "stream",
     "text": [
      "Iteration 146: removed 650, got weights: ['normal' 5], [0.37417949 0.        ]"
     ]
    },
    {
     "name": "stderr",
     "output_type": "stream",
     "text": [
      "100%|██████████| 754/754 [01:04<00:00, 11.66it/s]\n"
     ]
    },
    {
     "name": "stdout",
     "output_type": "stream",
     "text": [
      "Iteration 147: removed 303, got weights: ['normal' 5], [0.37480974 0.        ]"
     ]
    },
    {
     "name": "stderr",
     "output_type": "stream",
     "text": [
      "100%|██████████| 753/753 [01:10<00:00, 10.64it/s]\n"
     ]
    },
    {
     "name": "stdout",
     "output_type": "stream",
     "text": [
      "Iteration 148: removed 393, got weights: ['normal' 5], [0.37537161 0.        ]"
     ]
    },
    {
     "name": "stderr",
     "output_type": "stream",
     "text": [
      "100%|██████████| 752/752 [01:07<00:00, 11.07it/s]\n"
     ]
    },
    {
     "name": "stdout",
     "output_type": "stream",
     "text": [
      "Iteration 149: removed 818, got weights: ['normal' 5], [0.37603136 0.        ]"
     ]
    },
    {
     "name": "stderr",
     "output_type": "stream",
     "text": [
      "100%|██████████| 751/751 [01:01<00:00, 12.20it/s]\n"
     ]
    },
    {
     "name": "stdout",
     "output_type": "stream",
     "text": [
      "Iteration 150: removed 630, got weights: ['normal' 5], [0.37659838 0.        ]"
     ]
    },
    {
     "name": "stderr",
     "output_type": "stream",
     "text": [
      "100%|██████████| 750/750 [01:09<00:00, 10.80it/s]\n"
     ]
    },
    {
     "name": "stdout",
     "output_type": "stream",
     "text": [
      "Iteration 151: removed 308, got weights: ['normal' 5], [0.37708017 0.        ]"
     ]
    },
    {
     "name": "stderr",
     "output_type": "stream",
     "text": [
      "100%|██████████| 749/749 [01:08<00:00, 10.88it/s]\n"
     ]
    },
    {
     "name": "stdout",
     "output_type": "stream",
     "text": [
      "Iteration 152: removed 465, got weights: ['normal' 5], [0.37774762 0.        ]"
     ]
    },
    {
     "name": "stderr",
     "output_type": "stream",
     "text": [
      "100%|██████████| 748/748 [01:02<00:00, 11.96it/s]\n"
     ]
    },
    {
     "name": "stdout",
     "output_type": "stream",
     "text": [
      "Iteration 153: removed 261, got weights: ['normal' 5], [0.3784149 0.       ]"
     ]
    },
    {
     "name": "stderr",
     "output_type": "stream",
     "text": [
      "100%|██████████| 747/747 [01:00<00:00, 12.34it/s]\n"
     ]
    },
    {
     "name": "stdout",
     "output_type": "stream",
     "text": [
      "Iteration 154: removed 3, got weights: ['normal' 5], [0.37897979 0.        ]"
     ]
    },
    {
     "name": "stderr",
     "output_type": "stream",
     "text": [
      "100%|██████████| 746/746 [01:00<00:00, 12.39it/s]\n"
     ]
    },
    {
     "name": "stdout",
     "output_type": "stream",
     "text": [
      "Iteration 155: removed 996, got weights: ['normal' 5], [0.37940933 0.        ]"
     ]
    },
    {
     "name": "stderr",
     "output_type": "stream",
     "text": [
      "100%|██████████| 745/745 [01:00<00:00, 12.30it/s]\n"
     ]
    },
    {
     "name": "stdout",
     "output_type": "stream",
     "text": [
      "Iteration 156: removed 31, got weights: ['normal' 5], [0.37980695 0.        ]"
     ]
    },
    {
     "name": "stderr",
     "output_type": "stream",
     "text": [
      "100%|██████████| 744/744 [00:59<00:00, 12.46it/s]\n"
     ]
    },
    {
     "name": "stdout",
     "output_type": "stream",
     "text": [
      "Iteration 157: removed 825, got weights: ['normal' 5], [0.38031759 0.        ]"
     ]
    },
    {
     "name": "stderr",
     "output_type": "stream",
     "text": [
      "100%|██████████| 743/743 [01:00<00:00, 12.25it/s]\n"
     ]
    },
    {
     "name": "stdout",
     "output_type": "stream",
     "text": [
      "Iteration 158: removed 993, got weights: ['normal' 5], [0.38091037 0.        ]"
     ]
    },
    {
     "name": "stderr",
     "output_type": "stream",
     "text": [
      "100%|██████████| 742/742 [00:59<00:00, 12.46it/s]\n"
     ]
    },
    {
     "name": "stdout",
     "output_type": "stream",
     "text": [
      "Iteration 159: removed 285, got weights: ['normal' 5], [0.381472 0.      ]"
     ]
    },
    {
     "name": "stderr",
     "output_type": "stream",
     "text": [
      "100%|██████████| 741/741 [01:00<00:00, 12.22it/s]\n"
     ]
    },
    {
     "name": "stdout",
     "output_type": "stream",
     "text": [
      "Iteration 160: removed 392, got weights: ['normal' 5], [0.38190359 0.        ]"
     ]
    },
    {
     "name": "stderr",
     "output_type": "stream",
     "text": [
      "100%|██████████| 740/740 [00:59<00:00, 12.35it/s]\n"
     ]
    },
    {
     "name": "stdout",
     "output_type": "stream",
     "text": [
      "Iteration 161: removed 590, got weights: ['normal' 5], [0.38228231 0.        ]"
     ]
    },
    {
     "name": "stderr",
     "output_type": "stream",
     "text": [
      "100%|██████████| 739/739 [00:59<00:00, 12.47it/s]\n"
     ]
    },
    {
     "name": "stdout",
     "output_type": "stream",
     "text": [
      "Iteration 162: removed 560, got weights: ['normal' 5], [0.397708 0.      ]"
     ]
    },
    {
     "name": "stderr",
     "output_type": "stream",
     "text": [
      "100%|██████████| 738/738 [01:03<00:00, 11.70it/s]\n"
     ]
    },
    {
     "name": "stdout",
     "output_type": "stream",
     "text": [
      "Iteration 163: removed 349, got weights: ['normal' 5], [0.41874908 0.        ]"
     ]
    },
    {
     "name": "stderr",
     "output_type": "stream",
     "text": [
      "100%|██████████| 737/737 [01:03<00:00, 11.53it/s]\n"
     ]
    },
    {
     "name": "stdout",
     "output_type": "stream",
     "text": [
      "Iteration 164: removed 351, got weights: ['normal' 5], [0.38184697 0.        ]"
     ]
    },
    {
     "name": "stderr",
     "output_type": "stream",
     "text": [
      "100%|██████████| 736/736 [01:00<00:00, 12.13it/s]\n"
     ]
    },
    {
     "name": "stdout",
     "output_type": "stream",
     "text": [
      "Iteration 165: removed 931, got weights: ['normal' 5], [0.34905268 0.        ]"
     ]
    },
    {
     "name": "stderr",
     "output_type": "stream",
     "text": [
      "100%|██████████| 735/735 [00:59<00:00, 12.28it/s]\n"
     ]
    },
    {
     "name": "stdout",
     "output_type": "stream",
     "text": [
      "Iteration 166: removed 482, got weights: ['normal' 5], [0.39730109 0.        ]"
     ]
    },
    {
     "name": "stderr",
     "output_type": "stream",
     "text": [
      "100%|██████████| 734/734 [00:58<00:00, 12.46it/s]\n"
     ]
    },
    {
     "name": "stdout",
     "output_type": "stream",
     "text": [
      "Iteration 167: removed 105, got weights: ['normal' 5], [0.42442446 0.        ]"
     ]
    },
    {
     "name": "stderr",
     "output_type": "stream",
     "text": [
      "100%|██████████| 733/733 [00:59<00:00, 12.40it/s]\n"
     ]
    },
    {
     "name": "stdout",
     "output_type": "stream",
     "text": [
      "Iteration 168: removed 578, got weights: ['normal' 5], [0.45334092 0.        ]"
     ]
    },
    {
     "name": "stderr",
     "output_type": "stream",
     "text": [
      "100%|██████████| 732/732 [01:00<00:00, 12.00it/s]\n"
     ]
    },
    {
     "name": "stdout",
     "output_type": "stream",
     "text": [
      "Iteration 169: removed 169, got weights: ['normal' 5], [0.48430068 0.        ]"
     ]
    },
    {
     "name": "stderr",
     "output_type": "stream",
     "text": [
      "100%|██████████| 731/731 [00:59<00:00, 12.19it/s]\n"
     ]
    },
    {
     "name": "stdout",
     "output_type": "stream",
     "text": [
      "Iteration 170: removed 911, got weights: ['normal' 5], [0.51726575 0.        ]"
     ]
    },
    {
     "name": "stderr",
     "output_type": "stream",
     "text": [
      "100%|██████████| 730/730 [00:59<00:00, 12.20it/s]\n"
     ]
    },
    {
     "name": "stdout",
     "output_type": "stream",
     "text": [
      "Iteration 171: removed 780, got weights: ['normal' 5], [0.5525473 0.       ]"
     ]
    },
    {
     "name": "stderr",
     "output_type": "stream",
     "text": [
      "100%|██████████| 729/729 [00:58<00:00, 12.44it/s]\n"
     ]
    },
    {
     "name": "stdout",
     "output_type": "stream",
     "text": [
      "\n",
      "Attack successful! :D\n"
     ]
    },
    {
     "data": {
      "text/plain": [
       "'172 removals: [54, 646, 474, 217, 613, 975, 986, 27, 17, 605, 282, 293, 740, 743, 477, 216, 615, 945, 658, 78, 225, 782, 189, 719, 452, 247, 26, 111, 157, 808, 666, 735, 272, 145, 667, 843, 741, 55, 991, 244, 419, 398, 124, 656, 424, 790, 435, 449, 783, 56, 127, 531, 651, 265, 328, 199, 313, 540, 137, 197, 381, 10, 543, 37, 152, 172, 580, 559, 535, 184, 409, 648, 884, 273, 431, 312, 87, 788, 618, 793, 702, 292, 1, 736, 332, 714, 653, 18, 607, 226, 213, 470, 181, 706, 887, 378, 583, 952, 938, 438, 43, 890, 330, 744, 148, 397, 485, 252, 838, 432, 325, 320, 205, 72, 405, 195, 861, 250, 586, 146, 823, 693, 156, 955, 617, 515, 872, 601, 192, 479, 713, 776, 117, 936, 236, 754, 22, 563, 677, 75, 177, 926, 239, 969, 802, 650, 303, 393, 818, 630, 308, 465, 261, 3, 996, 31, 825, 993, 285, 392, 590, 560, 349, 351, 931, 482, 105, 578, 169, 911, 780, 35]'"
      ]
     },
     "execution_count": 7,
     "metadata": {},
     "output_type": "execute_result"
    }
   ],
   "source": [
    "removals = poisoning_attack(original_model, X_train_bin, y_train, \n",
    "                            feature='Status_of_checking_account', \n",
    "                            category='A12',\n",
    "                            goal='flip_sign', col='normal')\n",
    "f'{len(removals)} removals: {removals}'"
   ]
  },
  {
   "cell_type": "code",
   "execution_count": 9,
   "metadata": {},
   "outputs": [
    {
     "data": {
      "text/html": [
       "<div>\n",
       "<style scoped>\n",
       "    .dataframe tbody tr th:only-of-type {\n",
       "        vertical-align: middle;\n",
       "    }\n",
       "\n",
       "    .dataframe tbody tr th {\n",
       "        vertical-align: top;\n",
       "    }\n",
       "\n",
       "    .dataframe thead th {\n",
       "        text-align: right;\n",
       "    }\n",
       "</style>\n",
       "<table border=\"1\" class=\"dataframe\">\n",
       "  <thead>\n",
       "    <tr style=\"text-align: right;\">\n",
       "      <th></th>\n",
       "      <th>Weight</th>\n",
       "      <th>original</th>\n",
       "      <th>relative</th>\n",
       "      <th>normal</th>\n",
       "      <th>1</th>\n",
       "      <th>2</th>\n",
       "      <th>3</th>\n",
       "      <th>4</th>\n",
       "      <th>5</th>\n",
       "      <th>6</th>\n",
       "      <th>7</th>\n",
       "      <th>8</th>\n",
       "      <th>9</th>\n",
       "      <th>10</th>\n",
       "    </tr>\n",
       "    <tr>\n",
       "      <th>Feature</th>\n",
       "      <th>Category</th>\n",
       "      <th></th>\n",
       "      <th></th>\n",
       "      <th></th>\n",
       "      <th></th>\n",
       "      <th></th>\n",
       "      <th></th>\n",
       "      <th></th>\n",
       "      <th></th>\n",
       "      <th></th>\n",
       "      <th></th>\n",
       "      <th></th>\n",
       "      <th></th>\n",
       "      <th></th>\n",
       "    </tr>\n",
       "  </thead>\n",
       "  <tbody>\n",
       "    <tr>\n",
       "      <th rowspan=\"4\" valign=\"top\">Status_of_checking_account</th>\n",
       "      <th>A11</th>\n",
       "      <td>-2.400348</td>\n",
       "      <td>-0.531360</td>\n",
       "      <td>-0.871752</td>\n",
       "      <td>-1</td>\n",
       "      <td>-1</td>\n",
       "      <td>-2</td>\n",
       "      <td>-2</td>\n",
       "      <td>-3</td>\n",
       "      <td>-3</td>\n",
       "      <td>-4</td>\n",
       "      <td>-4</td>\n",
       "      <td>-5</td>\n",
       "      <td>-5</td>\n",
       "    </tr>\n",
       "    <tr>\n",
       "      <th>A12</th>\n",
       "      <td>0.460053</td>\n",
       "      <td>0.101841</td>\n",
       "      <td>0.590067</td>\n",
       "      <td>0</td>\n",
       "      <td>0</td>\n",
       "      <td>0</td>\n",
       "      <td>0</td>\n",
       "      <td>1</td>\n",
       "      <td>1</td>\n",
       "      <td>1</td>\n",
       "      <td>1</td>\n",
       "      <td>1</td>\n",
       "      <td>1</td>\n",
       "    </tr>\n",
       "    <tr>\n",
       "      <th>A13</th>\n",
       "      <td>0.000000</td>\n",
       "      <td>0.000000</td>\n",
       "      <td>0.354955</td>\n",
       "      <td>0</td>\n",
       "      <td>0</td>\n",
       "      <td>0</td>\n",
       "      <td>0</td>\n",
       "      <td>0</td>\n",
       "      <td>0</td>\n",
       "      <td>0</td>\n",
       "      <td>0</td>\n",
       "      <td>0</td>\n",
       "      <td>0</td>\n",
       "    </tr>\n",
       "    <tr>\n",
       "      <th>A14</th>\n",
       "      <td>0.000000</td>\n",
       "      <td>0.000000</td>\n",
       "      <td>0.354955</td>\n",
       "      <td>0</td>\n",
       "      <td>0</td>\n",
       "      <td>0</td>\n",
       "      <td>0</td>\n",
       "      <td>0</td>\n",
       "      <td>0</td>\n",
       "      <td>0</td>\n",
       "      <td>0</td>\n",
       "      <td>0</td>\n",
       "      <td>0</td>\n",
       "    </tr>\n",
       "    <tr>\n",
       "      <th rowspan=\"5\" valign=\"top\">Credit_history</th>\n",
       "      <th>A30</th>\n",
       "      <td>-4.325635</td>\n",
       "      <td>-0.957557</td>\n",
       "      <td>-1.855677</td>\n",
       "      <td>-1</td>\n",
       "      <td>-2</td>\n",
       "      <td>-3</td>\n",
       "      <td>-4</td>\n",
       "      <td>-5</td>\n",
       "      <td>-6</td>\n",
       "      <td>-7</td>\n",
       "      <td>-8</td>\n",
       "      <td>-9</td>\n",
       "      <td>-10</td>\n",
       "    </tr>\n",
       "    <tr>\n",
       "      <th>A31</th>\n",
       "      <td>-4.517365</td>\n",
       "      <td>-1.000000</td>\n",
       "      <td>-1.953662</td>\n",
       "      <td>-1</td>\n",
       "      <td>-2</td>\n",
       "      <td>-3</td>\n",
       "      <td>-4</td>\n",
       "      <td>-5</td>\n",
       "      <td>-6</td>\n",
       "      <td>-7</td>\n",
       "      <td>-8</td>\n",
       "      <td>-9</td>\n",
       "      <td>-10</td>\n",
       "    </tr>\n",
       "    <tr>\n",
       "      <th>A32</th>\n",
       "      <td>0.000000</td>\n",
       "      <td>0.000000</td>\n",
       "      <td>0.354955</td>\n",
       "      <td>0</td>\n",
       "      <td>0</td>\n",
       "      <td>0</td>\n",
       "      <td>0</td>\n",
       "      <td>0</td>\n",
       "      <td>0</td>\n",
       "      <td>0</td>\n",
       "      <td>0</td>\n",
       "      <td>0</td>\n",
       "      <td>0</td>\n",
       "    </tr>\n",
       "    <tr>\n",
       "      <th>A33</th>\n",
       "      <td>0.000000</td>\n",
       "      <td>0.000000</td>\n",
       "      <td>0.354955</td>\n",
       "      <td>0</td>\n",
       "      <td>0</td>\n",
       "      <td>0</td>\n",
       "      <td>0</td>\n",
       "      <td>0</td>\n",
       "      <td>0</td>\n",
       "      <td>0</td>\n",
       "      <td>0</td>\n",
       "      <td>0</td>\n",
       "      <td>0</td>\n",
       "    </tr>\n",
       "    <tr>\n",
       "      <th>A34</th>\n",
       "      <td>0.234170</td>\n",
       "      <td>0.051838</td>\n",
       "      <td>0.474628</td>\n",
       "      <td>0</td>\n",
       "      <td>0</td>\n",
       "      <td>0</td>\n",
       "      <td>0</td>\n",
       "      <td>0</td>\n",
       "      <td>0</td>\n",
       "      <td>0</td>\n",
       "      <td>0</td>\n",
       "      <td>0</td>\n",
       "      <td>1</td>\n",
       "    </tr>\n",
       "    <tr>\n",
       "      <th rowspan=\"3\" valign=\"top\">Duration_in_months</th>\n",
       "      <th>(-inf, 11.5]</th>\n",
       "      <td>0.078733</td>\n",
       "      <td>0.017429</td>\n",
       "      <td>0.395192</td>\n",
       "      <td>0</td>\n",
       "      <td>0</td>\n",
       "      <td>0</td>\n",
       "      <td>0</td>\n",
       "      <td>0</td>\n",
       "      <td>0</td>\n",
       "      <td>0</td>\n",
       "      <td>0</td>\n",
       "      <td>0</td>\n",
       "      <td>0</td>\n",
       "    </tr>\n",
       "    <tr>\n",
       "      <th>(11.5, 23.0]</th>\n",
       "      <td>0.000000</td>\n",
       "      <td>0.000000</td>\n",
       "      <td>0.354955</td>\n",
       "      <td>0</td>\n",
       "      <td>0</td>\n",
       "      <td>0</td>\n",
       "      <td>0</td>\n",
       "      <td>0</td>\n",
       "      <td>0</td>\n",
       "      <td>0</td>\n",
       "      <td>0</td>\n",
       "      <td>0</td>\n",
       "      <td>0</td>\n",
       "    </tr>\n",
       "    <tr>\n",
       "      <th>(23.0, inf]</th>\n",
       "      <td>-1.015326</td>\n",
       "      <td>-0.224761</td>\n",
       "      <td>-0.163931</td>\n",
       "      <td>0</td>\n",
       "      <td>0</td>\n",
       "      <td>-1</td>\n",
       "      <td>-1</td>\n",
       "      <td>-1</td>\n",
       "      <td>-1</td>\n",
       "      <td>-2</td>\n",
       "      <td>-2</td>\n",
       "      <td>-2</td>\n",
       "      <td>-2</td>\n",
       "    </tr>\n",
       "    <tr>\n",
       "      <th>bias</th>\n",
       "      <th></th>\n",
       "      <td>2.456497</td>\n",
       "      <td>0.543790</td>\n",
       "      <td>1.610358</td>\n",
       "      <td>1</td>\n",
       "      <td>1</td>\n",
       "      <td>2</td>\n",
       "      <td>2</td>\n",
       "      <td>3</td>\n",
       "      <td>3</td>\n",
       "      <td>4</td>\n",
       "      <td>4</td>\n",
       "      <td>5</td>\n",
       "      <td>5</td>\n",
       "    </tr>\n",
       "  </tbody>\n",
       "</table>\n",
       "</div>"
      ],
      "text/plain": [
       "Weight                                   original  relative    normal  1  2  \\\n",
       "Feature                    Category                                           \n",
       "Status_of_checking_account A11          -2.400348 -0.531360 -0.871752 -1 -1   \n",
       "                           A12           0.460053  0.101841  0.590067  0  0   \n",
       "                           A13           0.000000  0.000000  0.354955  0  0   \n",
       "                           A14           0.000000  0.000000  0.354955  0  0   \n",
       "Credit_history             A30          -4.325635 -0.957557 -1.855677 -1 -2   \n",
       "                           A31          -4.517365 -1.000000 -1.953662 -1 -2   \n",
       "                           A32           0.000000  0.000000  0.354955  0  0   \n",
       "                           A33           0.000000  0.000000  0.354955  0  0   \n",
       "                           A34           0.234170  0.051838  0.474628  0  0   \n",
       "Duration_in_months         (-inf, 11.5]  0.078733  0.017429  0.395192  0  0   \n",
       "                           (11.5, 23.0]  0.000000  0.000000  0.354955  0  0   \n",
       "                           (23.0, inf]  -1.015326 -0.224761 -0.163931  0  0   \n",
       "bias                                     2.456497  0.543790  1.610358  1  1   \n",
       "\n",
       "Weight                                   3  4  5  6  7  8  9  10  \n",
       "Feature                    Category                               \n",
       "Status_of_checking_account A11          -2 -2 -3 -3 -4 -4 -5  -5  \n",
       "                           A12           0  0  1  1  1  1  1   1  \n",
       "                           A13           0  0  0  0  0  0  0   0  \n",
       "                           A14           0  0  0  0  0  0  0   0  \n",
       "Credit_history             A30          -3 -4 -5 -6 -7 -8 -9 -10  \n",
       "                           A31          -3 -4 -5 -6 -7 -8 -9 -10  \n",
       "                           A32           0  0  0  0  0  0  0   0  \n",
       "                           A33           0  0  0  0  0  0  0   0  \n",
       "                           A34           0  0  0  0  0  0  0   1  \n",
       "Duration_in_months         (-inf, 11.5]  0  0  0  0  0  0  0   0  \n",
       "                           (11.5, 23.0]  0  0  0  0  0  0  0   0  \n",
       "                           (23.0, inf]  -1 -1 -1 -1 -2 -2 -2  -2  \n",
       "bias                                     2  2  3  3  4  4  5   5  "
      ]
     },
     "execution_count": 9,
     "metadata": {},
     "output_type": "execute_result"
    }
   ],
   "source": [
    "poisoned_model = SRR.copy_params(original_model)\n",
    "poisoned_model.fit(X_train_one_hot.drop(index=removals), y_train.drop(index=removals))\n",
    "poisoned_model.df"
   ]
  },
  {
   "cell_type": "markdown",
   "metadata": {},
   "source": [
    "## Identifying features that separate the label"
   ]
  },
  {
   "cell_type": "code",
   "execution_count": 48,
   "metadata": {},
   "outputs": [],
   "source": [
    "baseline = y_train.mean()\n",
    "df = pd.DataFrame(columns=['col', 'cat', 'mean', 'count'],dtype=float)\n",
    "i = 0\n",
    "for col in X_train_one_hot.columns.levels[0]:\n",
    "    for cat in X_train_one_hot[col].columns:\n",
    "        s = y_train[X_train_one_hot[col][cat] == 1]\n",
    "        df.loc[i] = (col, cat, s.mean(), s.count())\n",
    "        i += 1\n",
    "df['mean_dist'] = np.abs(baseline - df['mean'])\n",
    "df['info'] = df['mean_dist'] * df['count']"
   ]
  },
  {
   "cell_type": "markdown",
   "metadata": {},
   "source": [
    "# UCI datasets performance"
   ]
  },
  {
   "cell_type": "code",
   "execution_count": 4,
   "metadata": {},
   "outputs": [
    {
     "name": "stdout",
     "output_type": "stream",
     "text": [
      "-> adult dataset\n",
      "Loading adult...\n",
      "Selected features relationship, education, capital_gain\n",
      "Training accuracy of 84.3 % and test accuracy of 85.7 % (baseline 77.2 %)\n",
      "\n",
      "-> annealing dataset\n",
      "Loading annealing...\n",
      "Selected features surface_quality, steel, hardness\n",
      "Training accuracy of 92.2 % and test accuracy of 91.2 % (baseline 76.2 %)\n",
      "\n",
      "-> audiology-std dataset\n",
      "Loading audiology-std...\n",
      "Selected features age_gt_60, ar_c, notch_at_4k\n",
      "Training accuracy of 82.5 % and test accuracy of 78.9 % (baseline 75.8 %)\n",
      "\n",
      "-> bank dataset\n",
      "Loading bank...\n",
      "Selected features duration, pdays, month\n",
      "Training accuracy of 90.0 % and test accuracy of 90.3 % (baseline 88.3 %)\n",
      "\n",
      "-> bankruptcy dataset\n",
      "Loading bankruptcy...\n",
      "Selected features competitiveness, credibility, financial_flex\n",
      "Training accuracy of 100.0 % and test accuracy of 100.0 % (baseline 57.2 %)\n",
      "\n",
      "-> car dataset\n",
      "Loading car...\n",
      "Selected features safety, persons, buying\n",
      "Training accuracy of 89.3 % and test accuracy of 89.6 % (baseline 70.0 %)\n",
      "\n",
      "-> chess-krvk dataset\n",
      "Loading chess-krvk...\n",
      "Selected features White_Rook_file, Black_King_file, White_Rook_rank\n",
      "Training accuracy of 90.3 % and test accuracy of 90.3 % (baseline 90.3 %)\n",
      "\n",
      "-> chess-krvkp dataset\n",
      "Loading chess-krvkp...\n",
      "Selected features rimmx, wknck, bxqsq\n",
      "Training accuracy of 90.3 % and test accuracy of 91.0 % (baseline 52.3 %)\n",
      "\n",
      "-> congress-voting dataset\n",
      "Loading congress-voting...\n",
      "Selected features physician_fee_freeze, adoption_of_the_budget_resolution, synfuels_corporation_cutback\n",
      "Training accuracy of 96.9 % and test accuracy of 90.9 % (baseline 61.4 %)\n",
      "\n",
      "-> contrac dataset\n",
      "Loading contrac...\n",
      "Selected features nchildren, wifes_education, age\n",
      "Training accuracy of 69.4 % and test accuracy of 67.6 % (baseline 57.3 %)\n",
      "\n",
      "-> credit-approval dataset\n",
      "Loading credit-approval...\n",
      "Selected features A9, A11, A4\n"
     ]
    },
    {
     "name": "stderr",
     "output_type": "stream",
     "text": [
      "/home/lua/Anaconda3/envs/spring/lib/python3.8/site-packages/sklearn/linear_model/_sag.py:329: ConvergenceWarning: The max_iter was reached which means the coef_ did not converge\n",
      "  warnings.warn(\"The max_iter was reached which means \"\n"
     ]
    },
    {
     "name": "stdout",
     "output_type": "stream",
     "text": [
      "Training accuracy of 85.2 % and test accuracy of 94.2 % (baseline 55.5 %)\n",
      "\n",
      "-> ctg dataset\n",
      "Loading ctg...\n",
      "Selected features FileName, LD, SH\n",
      "Training accuracy of 96.8 % and test accuracy of 95.3 % (baseline 77.8 %)\n",
      "\n",
      "-> cylinder-bands dataset\n",
      "Loading cylinder-bands...\n",
      "Selected features cylinder_number, customer, blade_pressure\n"
     ]
    },
    {
     "name": "stderr",
     "output_type": "stream",
     "text": [
      "/home/lua/Anaconda3/envs/spring/lib/python3.8/site-packages/sklearn/linear_model/_sag.py:329: ConvergenceWarning: The max_iter was reached which means the coef_ did not converge\n",
      "  warnings.warn(\"The max_iter was reached which means \"\n"
     ]
    },
    {
     "name": "stdout",
     "output_type": "stream",
     "text": [
      "Training accuracy of 98.1 % and test accuracy of 63.0 % (baseline 57.8 %)\n",
      "\n",
      "-> dermatology dataset\n",
      "Loading dermatology...\n",
      "Selected features thinning_of_the_suprapapillary_epidermis, clubbing_of_the_rete_ridges, exocytosis\n",
      "Training accuracy of 100.0 % and test accuracy of 100.0 % (baseline 69.4 %)\n",
      "\n",
      "-> german_credit dataset\n",
      "Loading german_credit...\n",
      "Selected features Status_of_checking_account, Credit_history, Duration_in_months\n",
      "Training accuracy of 74.1 % and test accuracy of 76.0 % (baseline 70.0 %)\n",
      "\n",
      "-> heart-cleveland dataset\n",
      "Loading heart-cleveland...\n",
      "Selected features thal, ca, cp\n",
      "Training accuracy of 85.7 % and test accuracy of 80.6 % (baseline 54.1 %)\n",
      "\n",
      "-> ilpd dataset\n",
      "Loading ilpd...\n",
      "Selected features sgot, tb, alkphos\n",
      "Training accuracy of 71.4 % and test accuracy of 71.2 % (baseline 71.4 %)\n",
      "\n",
      "-> mammo dataset\n",
      "Loading mammo...\n",
      "Selected features BIRADS, margin, age\n",
      "Training accuracy of 84.6 % and test accuracy of 78.4 % (baseline 53.7 %)\n",
      "\n",
      "-> mushroom dataset\n",
      "Loading mushroom...\n",
      "Selected features odor, spore_print_color, stalk_color_below\n",
      "Training accuracy of 99.7 % and test accuracy of 99.0 % (baseline 51.8 %)\n",
      "\n",
      "-> wine dataset\n",
      "Loading wine...\n",
      "Selected features Color_intensity, Alcohol, Proline\n",
      "Training accuracy of 93.1 % and test accuracy of 94.4 % (baseline 60.1 %)\n",
      "\n",
      "-> wine_qual dataset\n",
      "Loading wine_qual...\n",
      "Selected features alcohol, volatile.acidity, citric.acid\n",
      "Training accuracy of 72.8 % and test accuracy of 77.7 % (baseline 63.5 %)\n",
      "\n",
      "-> texas dataset\n",
      "Loading texas...\n",
      "Loaded 4 / 4\n",
      "Selected features LENGTH_OF_STAY, ETHNICITY, TOTAL_CHARGES\n",
      "Training accuracy of 97.6 % and test accuracy of 97.7 % (baseline 97.6 %)\n",
      "\n",
      "-> ieeecis dataset\n",
      "Loading ieeecis...\n",
      "Selected features id_31, addr2, card6\n",
      "Training accuracy of 97.1 % and test accuracy of 97.0 % (baseline 97.1 %)\n",
      "\n",
      "            dataset  train accuracy  test accuracy   baseline\n",
      "0             adult       84.333333      85.666667  77.233333\n",
      "1         annealing       92.200557      91.250000  76.190476\n",
      "2     audiology-std       82.456140      78.947368  75.789474\n",
      "3              bank       90.000000      90.333333  88.333333\n",
      "4        bankruptcy      100.000000     100.000000  57.200000\n",
      "5               car       89.324759      89.595376  70.023148\n",
      "6        chess-krvk       90.333333      90.333333  90.333333\n",
      "7       chess-krvkp       90.296296      91.000000  52.300000\n",
      "8   congress-voting       96.930946      90.909091  61.379310\n",
      "9           contrac       69.358491      67.567568  57.298031\n",
      "10  credit-approval       85.185185      94.202899  55.507246\n",
      "11              ctg       96.759017      95.305164  77.845720\n",
      "12   cylinder-bands       98.148148      62.962963  57.777778\n",
      "13      dermatology      100.000000     100.000000  69.398907\n",
      "14    german_credit       74.111111      76.000000  70.000000\n",
      "15  heart-cleveland       85.661765      80.645161  54.125413\n",
      "16             ilpd       71.374046      71.186441  71.355060\n",
      "17            mammo       84.606481      78.350515  53.694069\n",
      "18         mushroom       99.703704      99.000000  51.833333\n",
      "19             wine       93.125000      94.444444  60.112360\n",
      "20        wine_qual       72.777778      77.666667  63.466667\n",
      "21            texas       97.629630      97.666667  97.633333\n",
      "22          ieeecis       97.074074      97.000000  97.066667\n"
     ]
    }
   ],
   "source": [
    "results = pd.DataFrame(columns=[\"dataset\", \"train accuracy\", \"test accuracy\", \"baseline\"])\n",
    "\n",
    "for dataset in all_datasets:\n",
    "    print(f\"-> {dataset} dataset\")\n",
    "    # Load the data\n",
    "    X, y = load_dataset(name=dataset)\n",
    "    \n",
    "    # These datasets are too big so get a reasonably-sized subset\n",
    "    if X.shape[0] > 3000:\n",
    "        X_subset = X.sample(n=3000, random_state=15)\n",
    "        y_subset = y.loc[X_subset.index]\n",
    "    else:\n",
    "        X_subset = X\n",
    "        y_subset = y\n",
    "    \n",
    "    # Apply the processing pipeline\n",
    "    X_train_bin, X_test_bin, y_train, y_test = processing_pipeline(X_subset, y_subset)\n",
    "    \n",
    "    \n",
    "    # One-hot encode the categorical variables\n",
    "    X_train_one_hot = one_hot_encode(X_train_bin)\n",
    "    X_test_one_hot = one_hot_encode(X_test_bin)\n",
    "    \n",
    "    # Construct and train Select-Regress-Round model\n",
    "    model = SRR(k=3, M=5)\n",
    "    model.fit(X_train_one_hot, y_train, verbose=False)\n",
    "    \n",
    "    # Show statistics of the model\n",
    "    train_acc = accuracy_score(y_train, model.predict(X_train_one_hot)) * 100\n",
    "    test_acc = accuracy_score(y_test, model.predict(X_test_one_hot)) * 100\n",
    "    baseline = max(1-y_subset.mean(), y_subset.mean()) * 100\n",
    "    print(f\"Training accuracy of {train_acc:.1f} % and test accuracy of {test_acc:.1f} % (baseline {baseline:.1f} %)\\n\")\n",
    "    \n",
    "    results = results.append(\n",
    "        {'dataset': dataset, \n",
    "        'train accuracy': train_acc,\n",
    "        'test accuracy': test_acc,\n",
    "        'baseline': baseline},\n",
    "        ignore_index=True)\n",
    "\n",
    "print(results)"
   ]
  },
  {
   "cell_type": "code",
   "execution_count": 5,
   "metadata": {},
   "outputs": [
    {
     "data": {
      "image/png": "[encoded data removed]",
      "text/plain": [
       "<Figure size 1152x576 with 1 Axes>"
      ]
     },
     "metadata": {
      "needs_background": "light"
     },
     "output_type": "display_data"
    }
   ],
   "source": [
    "results.plot.bar(x='dataset', figsize=(16, 8), \n",
    "                 title='Train, test acuracies and baseline for SRR with k=3 and M=5 for a single model (max subset size 3000)',\n",
    "                 ylabel='Percentage');"
   ]
  },
  {
   "cell_type": "code",
   "execution_count": null,
   "metadata": {},
   "outputs": [],
   "source": []
  }
 ],
 "metadata": {
  "kernelspec": {
   "display_name": "SPRING (Python 3)",
   "language": "python",
   "name": "python3"
  },
  "language_info": {
   "codemirror_mode": {
    "name": "ipython",
    "version": 3
   },
   "file_extension": ".py",
   "mimetype": "text/x-python",
   "name": "python",
   "nbconvert_exporter": "python",
   "pygments_lexer": "ipython3",
   "version": "3.8.5"
  }
 },
 "nbformat": 4,
 "nbformat_minor": 4
}
