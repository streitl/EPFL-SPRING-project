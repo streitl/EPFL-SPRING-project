{
 "cells": [
  {
   "cell_type": "markdown",
   "metadata": {},
   "source": [
    "# Links to dataset information\n",
    "\n",
    "**UCI**:\n",
    "- __[adult](http://archive.ics.uci.edu/ml/datasets/Adult)__\n",
    "- __[annealing](https://archive.ics.uci.edu/ml/datasets/Annealing)__\n",
    "- __[audiology-std](https://archive.ics.uci.edu/ml/datasets/Audiology+%28Standardized%29)__\n",
    "- __[bank](https://archive.ics.uci.edu/ml/datasets/Bank%2BMarketing)__\n",
    "- __[bankruptcy](http://archive.ics.uci.edu/ml/datasets/Qualitative_Bankruptcy)__\n",
    "- __[car](https://archive.ics.uci.edu/ml/datasets/Car+Evaluation)__\n",
    "- __[chess-krvk](https://archive.ics.uci.edu/ml/datasets/Chess+%28King-Rook+vs.+King%29)__\n",
    "- __[chess-krvkp](http://archive.ics.uci.edu/ml/datasets/Chess+%28King-Rook+vs.+King-Pawn%29)__\n",
    "- __[congress-voting](https://archive.ics.uci.edu/ml/datasets/Congressional+Voting+Records)__\n",
    "- __[contrac](https://archive.ics.uci.edu/ml/datasets/Contraceptive+Method+Choice)__\n",
    "- __[credit-approval](http://archive.ics.uci.edu/ml/datasets/Credit+Approval)__\n",
    "- **unsure about this one**: __[ctg](https://www.kaggle.com/akshat0007/fetalhr)__\n",
    "- __[cylinder-bands](http://archive.ics.uci.edu/ml/datasets/Cylinder+Bands)__\n",
    "- __[dermatology](https://archive.ics.uci.edu/ml/datasets/Dermatology)__\n",
    "- __[german_credit](https://archive.ics.uci.edu/ml/datasets/Statlog+%28German+Credit+Data%29)__\n",
    "- __[heart-cleveland](https://archive.ics.uci.edu/ml/datasets/Heart+Disease)__\n",
    "- __[ilpd](http://archive.ics.uci.edu/ml/datasets/ILPD+%28Indian+Liver+Patient+Dataset%29)__\n",
    "- __[mammo](https://archive.ics.uci.edu/ml/datasets/Mammographic+Mass)__\n",
    "- __[mushroom](https://archive.ics.uci.edu/ml/datasets/Mushroom)__\n",
    "- __[wine](https://archive.ics.uci.edu/ml/datasets/wine)__\n",
    "- __[wine_qual](https://archive.ics.uci.edu/ml/datasets/Wine+Quality)__\n",
    "\n",
    "Others:\n",
    "- __[texas](https://www.dshs.texas.gov/thcic/hospitals/UserManual1Q2013.pdf)__\n",
    "- __[IEEECIS](https://www.kaggle.com/c/ieee-fraud-detection/discussion/101203)__\n"
   ]
  },
  {
   "cell_type": "markdown",
   "metadata": {},
   "source": [
    "# Imports"
   ]
  },
  {
   "cell_type": "code",
   "execution_count": 1,
   "metadata": {},
   "outputs": [],
   "source": [
    "import time\n",
    "\n",
    "import pandas as pd\n",
    "import numpy as np\n",
    "\n",
    "import matplotlib.pyplot as plt\n",
    "import seaborn as sns\n",
    "\n",
    "from sklearn.metrics import accuracy_score\n",
    "from sklearn.model_selection import train_test_split\n",
    "from sklearn.linear_model import LogisticRegression\n",
    "\n",
    "from tqdm import tqdm"
   ]
  },
  {
   "cell_type": "code",
   "execution_count": 2,
   "metadata": {},
   "outputs": [],
   "source": [
    "from src.loader import load_dataset\n",
    "from src.models import *\n",
    "from src.preprocessing import processing_pipeline\n",
    "from src.feature_selection import forward_stepwise_regression\n",
    "from src.vulnerabilities import *"
   ]
  },
  {
   "cell_type": "markdown",
   "metadata": {},
   "source": [
    "# Model substitutes"
   ]
  },
  {
   "cell_type": "code",
   "execution_count": 3,
   "metadata": {},
   "outputs": [
    {
     "name": "stdout",
     "output_type": "stream",
     "text": [
      "Loading bankruptcy...\n"
     ]
    },
    {
     "name": "stderr",
     "output_type": "stream",
     "text": [
      "100%|██████████| 225/225 [01:50<00:00,  2.04it/s]\n"
     ]
    },
    {
     "name": "stdout",
     "output_type": "stream",
     "text": [
      "Loading car...\n"
     ]
    },
    {
     "name": "stderr",
     "output_type": "stream",
     "text": [
      "100%|██████████| 1555/1555 [25:21<00:00,  1.02it/s]\n"
     ]
    },
    {
     "name": "stdout",
     "output_type": "stream",
     "text": [
      "Loading congress-voting...\n"
     ]
    },
    {
     "name": "stderr",
     "output_type": "stream",
     "text": [
      "100%|██████████| 391/391 [05:22<00:00,  1.21it/s]\n"
     ]
    },
    {
     "name": "stdout",
     "output_type": "stream",
     "text": [
      "Loading credit-approval...\n"
     ]
    },
    {
     "name": "stderr",
     "output_type": "stream",
     "text": [
      "100%|██████████| 621/621 [11:14<00:00,  1.09s/it]\n"
     ]
    },
    {
     "name": "stdout",
     "output_type": "stream",
     "text": [
      "Loading dermatology...\n"
     ]
    },
    {
     "name": "stderr",
     "output_type": "stream",
     "text": [
      "100%|██████████| 329/329 [08:54<00:00,  1.63s/it]\n"
     ]
    },
    {
     "name": "stdout",
     "output_type": "stream",
     "text": [
      "Loading german_credit...\n"
     ]
    },
    {
     "name": "stderr",
     "output_type": "stream",
     "text": [
      "100%|██████████| 900/900 [16:45<00:00,  1.12s/it]\n"
     ]
    },
    {
     "name": "stdout",
     "output_type": "stream",
     "text": [
      "Loading mammo...\n"
     ]
    },
    {
     "name": "stderr",
     "output_type": "stream",
     "text": [
      "100%|██████████| 864/864 [2:19:05<00:00,  9.66s/it]      \n"
     ]
    },
    {
     "data": {
      "text/html": [
       "<div>\n",
       "<style scoped>\n",
       "    .dataframe tbody tr th:only-of-type {\n",
       "        vertical-align: middle;\n",
       "    }\n",
       "\n",
       "    .dataframe tbody tr th {\n",
       "        vertical-align: top;\n",
       "    }\n",
       "\n",
       "    .dataframe thead th {\n",
       "        text-align: right;\n",
       "    }\n",
       "</style>\n",
       "<table border=\"1\" class=\"dataframe\">\n",
       "  <thead>\n",
       "    <tr style=\"text-align: right;\">\n",
       "      <th></th>\n",
       "      <th>dataset</th>\n",
       "      <th>model</th>\n",
       "      <th>speedup</th>\n",
       "      <th>faithfulness</th>\n",
       "    </tr>\n",
       "  </thead>\n",
       "  <tbody>\n",
       "    <tr>\n",
       "      <th>0</th>\n",
       "      <td>bankruptcy</td>\n",
       "      <td>Rounded Logistic Regression</td>\n",
       "      <td>8.049624</td>\n",
       "      <td>1.0</td>\n",
       "    </tr>\n",
       "    <tr>\n",
       "      <th>1</th>\n",
       "      <td>bankruptcy</td>\n",
       "      <td>SRR Without Cross-Validation</td>\n",
       "      <td>2.776101</td>\n",
       "      <td>1.0</td>\n",
       "    </tr>\n",
       "    <tr>\n",
       "      <th>2</th>\n",
       "      <td>bankruptcy</td>\n",
       "      <td>Rounded Logistic Regression</td>\n",
       "      <td>10.000039</td>\n",
       "      <td>1.0</td>\n",
       "    </tr>\n",
       "    <tr>\n",
       "      <th>3</th>\n",
       "      <td>bankruptcy</td>\n",
       "      <td>SRR Without Cross-Validation</td>\n",
       "      <td>3.723569</td>\n",
       "      <td>1.0</td>\n",
       "    </tr>\n",
       "    <tr>\n",
       "      <th>4</th>\n",
       "      <td>bankruptcy</td>\n",
       "      <td>Rounded Logistic Regression</td>\n",
       "      <td>8.106009</td>\n",
       "      <td>1.0</td>\n",
       "    </tr>\n",
       "    <tr>\n",
       "      <th>...</th>\n",
       "      <td>...</td>\n",
       "      <td>...</td>\n",
       "      <td>...</td>\n",
       "      <td>...</td>\n",
       "    </tr>\n",
       "    <tr>\n",
       "      <th>9765</th>\n",
       "      <td>mammo</td>\n",
       "      <td>SRR Without Cross-Validation</td>\n",
       "      <td>6.361103</td>\n",
       "      <td>1.0</td>\n",
       "    </tr>\n",
       "    <tr>\n",
       "      <th>9766</th>\n",
       "      <td>mammo</td>\n",
       "      <td>Rounded Logistic Regression</td>\n",
       "      <td>14.127707</td>\n",
       "      <td>1.0</td>\n",
       "    </tr>\n",
       "    <tr>\n",
       "      <th>9767</th>\n",
       "      <td>mammo</td>\n",
       "      <td>SRR Without Cross-Validation</td>\n",
       "      <td>6.826116</td>\n",
       "      <td>1.0</td>\n",
       "    </tr>\n",
       "    <tr>\n",
       "      <th>9768</th>\n",
       "      <td>mammo</td>\n",
       "      <td>Rounded Logistic Regression</td>\n",
       "      <td>14.893072</td>\n",
       "      <td>1.0</td>\n",
       "    </tr>\n",
       "    <tr>\n",
       "      <th>9769</th>\n",
       "      <td>mammo</td>\n",
       "      <td>SRR Without Cross-Validation</td>\n",
       "      <td>5.730407</td>\n",
       "      <td>1.0</td>\n",
       "    </tr>\n",
       "  </tbody>\n",
       "</table>\n",
       "<p>9770 rows × 4 columns</p>\n",
       "</div>"
      ],
      "text/plain": [
       "         dataset                         model    speedup  faithfulness\n",
       "0     bankruptcy   Rounded Logistic Regression   8.049624           1.0\n",
       "1     bankruptcy  SRR Without Cross-Validation   2.776101           1.0\n",
       "2     bankruptcy   Rounded Logistic Regression  10.000039           1.0\n",
       "3     bankruptcy  SRR Without Cross-Validation   3.723569           1.0\n",
       "4     bankruptcy   Rounded Logistic Regression   8.106009           1.0\n",
       "...          ...                           ...        ...           ...\n",
       "9765       mammo  SRR Without Cross-Validation   6.361103           1.0\n",
       "9766       mammo   Rounded Logistic Regression  14.127707           1.0\n",
       "9767       mammo  SRR Without Cross-Validation   6.826116           1.0\n",
       "9768       mammo   Rounded Logistic Regression  14.893072           1.0\n",
       "9769       mammo  SRR Without Cross-Validation   5.730407           1.0\n",
       "\n",
       "[9770 rows x 4 columns]"
      ]
     },
     "execution_count": 3,
     "metadata": {},
     "output_type": "execute_result"
    }
   ],
   "source": [
    "results = []\n",
    "\n",
    "for dataset in ['bankruptcy', 'car', 'congress-voting', 'credit-approval',\n",
    "                'dermatology','german_credit', 'mammo']:\n",
    "    \n",
    "    # Load the data\n",
    "    X, y = load_dataset(name=dataset)\n",
    "    \n",
    "    X_train, X_test, y_train, y_test = processing_pipeline(X, y, train_size=0.9)\n",
    "\n",
    "    # Construct first SRR on train set to do feature selection\n",
    "    srr = SRR(k=3, M=5)\n",
    "    srr.fit(X_train, y_train)\n",
    "    \n",
    "    # Construct the alternate models based on the SRR trained on train set\n",
    "    rlr = RoundedLogisticRegression.from_srr(srr)\n",
    "    swcv = SRRWithoutCrossValidation.from_srr(srr)\n",
    "\n",
    "    for i in tqdm(X_train.index):\n",
    "        \n",
    "        X_r = X_train.drop(i)\n",
    "        y_r = y_train.drop(i)\n",
    "        \n",
    "        srr = SRR(k=3, M=5)        \n",
    "        start = time.time()\n",
    "        srr.fit(X_r, y_r)\n",
    "        srr_time = time.time() - start\n",
    "        srr_pred = srr.predict(X_r)\n",
    "\n",
    "        for model in [rlr, swcv]:\n",
    "            start = time.time()\n",
    "            model.fit(X_r, y_r)\n",
    "            abs_time = time.time() - start\n",
    "            speedup = srr_time / abs_time\n",
    "            rel_acc = accuracy_score(srr_pred, model.predict(X_r))\n",
    "                  \n",
    "            results.append([dataset, model.name(), speedup, rel_acc])\n",
    "\n",
    "results = pd.DataFrame(results, dtype=float, columns=['dataset', 'model', 'speedup', 'faithfulness'])\n",
    "results"
   ]
  },
  {
   "cell_type": "code",
   "execution_count": 14,
   "metadata": {},
   "outputs": [],
   "source": [
    "aggregated = results.groupby(['model', 'dataset'])[['speedup', 'faithfulness']].mean().reset_index()"
   ]
  },
  {
   "cell_type": "code",
   "execution_count": 15,
   "metadata": {},
   "outputs": [],
   "source": [
    "aggregated.to_csv('speedup.csv')"
   ]
  },
  {
   "cell_type": "code",
   "execution_count": 18,
   "metadata": {},
   "outputs": [
    {
     "data": {
      "image/png": "[encoded data removed]",
      "text/plain": [
       "<Figure size 864x324 with 1 Axes>"
      ]
     },
     "metadata": {
      "needs_background": "light"
     },
     "output_type": "display_data"
    }
   ],
   "source": [
    "fig = plt.figure(figsize=(12, 4.5))\n",
    "\n",
    "ax = sns.scatterplot(x='speedup', y='faithfulness', style='dataset', hue='model',\n",
    "                     data=aggregated, figure=fig, s=200)\n",
    "\n",
    "ax.set_xticks([1] + list(range(0, 22, 2)))\n",
    "ax.set_xlim((1, 20));"
   ]
  },
  {
   "cell_type": "markdown",
   "metadata": {},
   "source": [
    "# Test number of removals vs attack time"
   ]
  },
  {
   "cell_type": "code",
   "execution_count": 17,
   "metadata": {},
   "outputs": [
    {
     "name": "stdout",
     "output_type": "stream",
     "text": [
      "-> bankruptcy dataset\n",
      "Loading bankruptcy...\n",
      "Selected features competitiveness, credibility, financial_flex\n",
      "Logistic model accuracy of 100.0 % on the training set (baseline 57.3 %)\n",
      "Select-Regress-Round (SRR) [k=3, M=5]\n",
      "\n",
      "         Feature Category  Score\n",
      " competitiveness        A      0\n",
      " competitiveness        N      5\n",
      " competitiveness        P     -2\n",
      "     credibility        A      0\n",
      "     credibility        N      3\n",
      "     credibility        P      0\n",
      "  financial_flex        A      0\n",
      "  financial_flex        N      2\n",
      "  financial_flex        P      0\n",
      "\n",
      "Model's bias: -4\n",
      "\n",
      "Predict class 1 if sum of scores and bias is >= 0, otherwise predict 0.\n"
     ]
    }
   ],
   "source": [
    "dataset = 'bankruptcy'\n",
    "print(f\"-> {dataset} dataset\")\n",
    "# Load the data\n",
    "X, y = load_dataset(name=dataset)\n",
    "\n",
    "# Apply the processing pipeline\n",
    "X_train, X_test, y_train, y_test = processing_pipeline(X, y)\n",
    "\n",
    "# Construct and train Select-Regress-Round model\n",
    "original_srr = SRR(k=3, M=5)\n",
    "original_srr.fit(X_train, y_train, verbose=1)\n",
    "\n",
    "print(original_srr)"
   ]
  },
  {
   "cell_type": "markdown",
   "metadata": {},
   "source": [
    "### Removing credibility"
   ]
  },
  {
   "cell_type": "code",
   "execution_count": 8,
   "metadata": {},
   "outputs": [
    {
     "name": "stderr",
     "output_type": "stream",
     "text": [
      "100%|██████████| 225/225 [00:20<00:00, 11.22it/s]\n",
      "100%|██████████| 224/224 [00:20<00:00, 11.12it/s]\n",
      "100%|██████████| 223/223 [00:20<00:00, 10.70it/s]\n",
      "100%|██████████| 222/222 [00:19<00:00, 11.52it/s]\n",
      "100%|██████████| 221/221 [00:19<00:00, 11.53it/s]\n"
     ]
    },
    {
     "name": "stdout",
     "output_type": "stream",
     "text": [
      "\n",
      "Attack successful! :D\n",
      "CPU times: user 6min 38s, sys: 5.88 s, total: 6min 44s\n",
      "Wall time: 1min 40s\n"
     ]
    },
    {
     "data": {
      "text/plain": [
       "'5 removals: [249, 157, 191, 192, 100]'"
      ]
     },
     "execution_count": 8,
     "metadata": {},
     "output_type": "execute_result"
    }
   ],
   "source": [
    "%%time\n",
    "removals = poisoning_attack_point_removal(original_srr, X_train, y_train, \n",
    "                                          feature='credibility',\n",
    "                                          goal='remove_feature', col='normal',\n",
    "                                          use_substitute=True, use_stats=False)\n",
    "f'{len(removals)} removals: {removals}'"
   ]
  },
  {
   "cell_type": "code",
   "execution_count": 6,
   "metadata": {},
   "outputs": [
    {
     "name": "stderr",
     "output_type": "stream",
     "text": [
      "100%|██████████| 225/225 [00:55<00:00,  4.09it/s]\n",
      "100%|██████████| 224/224 [00:55<00:00,  4.01it/s]\n",
      "100%|██████████| 223/223 [00:55<00:00,  4.05it/s]\n",
      "100%|██████████| 222/222 [00:54<00:00,  4.10it/s]\n",
      "100%|██████████| 221/221 [00:53<00:00,  4.15it/s]\n",
      "100%|██████████| 220/220 [00:52<00:00,  4.17it/s]\n",
      "100%|██████████| 219/219 [00:52<00:00,  4.18it/s]\n",
      "100%|██████████| 218/218 [00:52<00:00,  4.14it/s]\n",
      "100%|██████████| 217/217 [00:53<00:00,  4.05it/s]\n",
      "100%|██████████| 216/216 [00:53<00:00,  4.04it/s]\n",
      "100%|██████████| 215/215 [00:52<00:00,  4.09it/s]\n",
      "100%|██████████| 214/214 [00:53<00:00,  3.97it/s]\n",
      "100%|██████████| 213/213 [00:51<00:00,  4.13it/s]\n",
      "100%|██████████| 212/212 [00:51<00:00,  4.16it/s]\n",
      "100%|██████████| 211/211 [00:50<00:00,  4.22it/s]\n"
     ]
    },
    {
     "name": "stdout",
     "output_type": "stream",
     "text": [
      "\n",
      "Attack successful! :D\n",
      "CPU times: user 1h 13min 28s, sys: 1min 26s, total: 1h 14min 54s\n",
      "Wall time: 13min 20s\n"
     ]
    },
    {
     "data": {
      "text/plain": [
       "'15 removals: [249, 76, 106, 245, 187, 211, 215, 153, 54, 64, 58, 191, 192, 226, 157]'"
      ]
     },
     "execution_count": 6,
     "metadata": {},
     "output_type": "execute_result"
    }
   ],
   "source": [
    "%%time\n",
    "removals = poisoning_attack_point_removal(original_srr, X_train, y_train, \n",
    "                                          feature='credibility',\n",
    "                                          goal='remove_feature', col='normal',\n",
    "                                          use_substitute=False, use_stats=False)\n",
    "f'{len(removals)} removals: {removals}'"
   ]
  },
  {
   "cell_type": "markdown",
   "metadata": {},
   "source": [
    "### Removing financial_flex"
   ]
  },
  {
   "cell_type": "code",
   "execution_count": 18,
   "metadata": {},
   "outputs": [
    {
     "name": "stderr",
     "output_type": "stream",
     "text": [
      "100%|██████████| 225/225 [00:18<00:00, 11.85it/s]\n",
      "100%|██████████| 224/224 [00:19<00:00, 11.69it/s]\n",
      "100%|██████████| 223/223 [00:20<00:00, 10.94it/s]\n",
      "100%|██████████| 222/222 [00:19<00:00, 11.67it/s]\n",
      "100%|██████████| 221/221 [00:19<00:00, 11.56it/s]\n"
     ]
    },
    {
     "name": "stdout",
     "output_type": "stream",
     "text": [
      "\n",
      "Attack successful! :D\n",
      "CPU times: user 6min 27s, sys: 5.57 s, total: 6min 33s\n",
      "Wall time: 1min 37s\n"
     ]
    },
    {
     "data": {
      "text/plain": [
       "'5 removals: [249, 191, 192, 157, 168]'"
      ]
     },
     "execution_count": 18,
     "metadata": {},
     "output_type": "execute_result"
    }
   ],
   "source": [
    "%%time\n",
    "removals = poisoning_attack_point_removal(original_srr, X_train, y_train, \n",
    "                                          feature='financial_flex',\n",
    "                                          goal='remove_feature', col='normal',\n",
    "                                          use_substitute=True, use_stats=False)\n",
    "f'{len(removals)} removals: {removals}'"
   ]
  },
  {
   "cell_type": "code",
   "execution_count": 19,
   "metadata": {},
   "outputs": [
    {
     "name": "stderr",
     "output_type": "stream",
     "text": [
      "100%|██████████| 225/225 [00:55<00:00,  4.02it/s]\n",
      "100%|██████████| 224/224 [00:56<00:00,  3.99it/s]\n",
      "100%|██████████| 223/223 [00:53<00:00,  4.18it/s]\n",
      "100%|██████████| 222/222 [00:53<00:00,  4.18it/s]\n",
      "100%|██████████| 221/221 [00:51<00:00,  4.30it/s]\n"
     ]
    },
    {
     "name": "stdout",
     "output_type": "stream",
     "text": [
      "\n",
      "Attack successful! :D\n",
      "CPU times: user 24min 39s, sys: 29 s, total: 25min 8s\n",
      "Wall time: 4min 31s\n"
     ]
    },
    {
     "data": {
      "text/plain": [
       "'5 removals: [192, 191, 249, 157, 168]'"
      ]
     },
     "execution_count": 19,
     "metadata": {},
     "output_type": "execute_result"
    }
   ],
   "source": [
    "%%time\n",
    "removals = poisoning_attack_point_removal(original_srr, X_train, y_train, \n",
    "                                          feature='financial_flex',\n",
    "                                          goal='remove_feature', col='normal',\n",
    "                                          use_substitute=False, use_stats=False)\n",
    "f'{len(removals)} removals: {removals}'"
   ]
  },
  {
   "cell_type": "markdown",
   "metadata": {},
   "source": [
    "### Nullifying financial_flex N"
   ]
  },
  {
   "cell_type": "code",
   "execution_count": 21,
   "metadata": {},
   "outputs": [
    {
     "name": "stderr",
     "output_type": "stream",
     "text": [
      "100%|██████████| 225/225 [00:07<00:00, 31.48it/s]\n",
      "100%|██████████| 224/224 [00:07<00:00, 31.78it/s]\n",
      "100%|██████████| 223/223 [00:07<00:00, 29.21it/s]\n"
     ]
    },
    {
     "name": "stdout",
     "output_type": "stream",
     "text": [
      "\n",
      "Attack successful! :D\n",
      "CPU times: user 25.8 s, sys: 167 ms, total: 26 s\n",
      "Wall time: 22.5 s\n"
     ]
    },
    {
     "data": {
      "text/plain": [
       "'3 removals: [249, 191, 192]'"
      ]
     },
     "execution_count": 21,
     "metadata": {},
     "output_type": "execute_result"
    }
   ],
   "source": [
    "%%time\n",
    "removals = poisoning_attack_point_removal(original_srr, X_train, y_train, \n",
    "                                          feature='financial_flex',\n",
    "                                          category='N',\n",
    "                                          goal='nullify', col='normal',\n",
    "                                          use_substitute=True, use_stats=False)\n",
    "f'{len(removals)} removals: {removals}'"
   ]
  },
  {
   "cell_type": "code",
   "execution_count": 22,
   "metadata": {},
   "outputs": [
    {
     "name": "stderr",
     "output_type": "stream",
     "text": [
      "100%|██████████| 225/225 [00:55<00:00,  4.09it/s]\n",
      "100%|██████████| 224/224 [00:56<00:00,  3.94it/s]\n"
     ]
    },
    {
     "name": "stdout",
     "output_type": "stream",
     "text": [
      "\n",
      "Attack successful! :D\n",
      "CPU times: user 10min 22s, sys: 12.5 s, total: 10min 35s\n",
      "Wall time: 1min 52s\n"
     ]
    },
    {
     "data": {
      "text/plain": [
       "'2 removals: [192, 191]'"
      ]
     },
     "execution_count": 22,
     "metadata": {},
     "output_type": "execute_result"
    }
   ],
   "source": [
    "%%time\n",
    "removals = poisoning_attack_point_removal(original_srr, X_train, y_train, \n",
    "                                          feature='financial_flex',\n",
    "                                          category='N',\n",
    "                                          goal='nullify', col='normal',\n",
    "                                          use_substitute=False, use_stats=False)\n",
    "f'{len(removals)} removals: {removals}'"
   ]
  },
  {
   "cell_type": "markdown",
   "metadata": {},
   "source": [
    "### Nullifying credibility N"
   ]
  },
  {
   "cell_type": "code",
   "execution_count": 23,
   "metadata": {},
   "outputs": [
    {
     "name": "stderr",
     "output_type": "stream",
     "text": [
      "100%|██████████| 225/225 [00:07<00:00, 30.71it/s]\n",
      "100%|██████████| 224/224 [00:07<00:00, 29.24it/s]\n"
     ]
    },
    {
     "name": "stdout",
     "output_type": "stream",
     "text": [
      "\n",
      "Attack successful! :D\n",
      "CPU times: user 17.7 s, sys: 82.8 ms, total: 17.8 s\n",
      "Wall time: 15.5 s\n"
     ]
    },
    {
     "data": {
      "text/plain": [
       "'2 removals: [191, 192]'"
      ]
     },
     "execution_count": 23,
     "metadata": {},
     "output_type": "execute_result"
    }
   ],
   "source": [
    "%%time\n",
    "removals = poisoning_attack_point_removal(original_srr, X_train, y_train, \n",
    "                                          feature='credibility',\n",
    "                                          category='N',\n",
    "                                          goal='nullify', col='normal',\n",
    "                                          use_substitute=True, use_stats=False)\n",
    "f'{len(removals)} removals: {removals}'"
   ]
  },
  {
   "cell_type": "code",
   "execution_count": 24,
   "metadata": {},
   "outputs": [
    {
     "name": "stderr",
     "output_type": "stream",
     "text": [
      "100%|██████████| 225/225 [00:55<00:00,  4.08it/s]\n",
      "100%|██████████| 224/224 [00:56<00:00,  3.98it/s]\n",
      "100%|██████████| 223/223 [00:55<00:00,  4.02it/s]\n",
      "100%|██████████| 222/222 [00:54<00:00,  4.07it/s]\n",
      "100%|██████████| 221/221 [00:54<00:00,  4.07it/s]\n",
      "100%|██████████| 220/220 [00:53<00:00,  4.07it/s]\n",
      "100%|██████████| 219/219 [00:53<00:00,  4.07it/s]\n",
      "100%|██████████| 218/218 [00:54<00:00,  4.03it/s]\n",
      "100%|██████████| 217/217 [00:55<00:00,  3.94it/s]\n",
      "100%|██████████| 216/216 [00:56<00:00,  3.80it/s]\n"
     ]
    },
    {
     "name": "stdout",
     "output_type": "stream",
     "text": [
      "\n",
      "Attack successful! :D\n",
      "CPU times: user 50min 29s, sys: 59.5 s, total: 51min 29s\n",
      "Wall time: 9min 12s\n"
     ]
    },
    {
     "data": {
      "text/plain": [
       "'10 removals: [157, 76, 106, 245, 187, 211, 153, 215, 191, 249]'"
      ]
     },
     "execution_count": 24,
     "metadata": {},
     "output_type": "execute_result"
    }
   ],
   "source": [
    "%%time\n",
    "removals = poisoning_attack_point_removal(original_srr, X_train, y_train, \n",
    "                                          feature='credibility',\n",
    "                                          category='N',\n",
    "                                          goal='nullify', col='normal',\n",
    "                                          use_substitute=False, use_stats=False)\n",
    "f'{len(removals)} removals: {removals}'"
   ]
  },
  {
   "cell_type": "markdown",
   "metadata": {},
   "source": [
    "### Nullifying competitiveness N"
   ]
  },
  {
   "cell_type": "code",
   "execution_count": 25,
   "metadata": {},
   "outputs": [
    {
     "name": "stderr",
     "output_type": "stream",
     "text": [
      "100%|██████████| 225/225 [00:07<00:00, 30.77it/s]\n",
      "100%|██████████| 224/224 [00:07<00:00, 30.40it/s]\n",
      "100%|██████████| 223/223 [00:07<00:00, 30.92it/s]\n",
      "100%|██████████| 222/222 [00:07<00:00, 31.18it/s]\n",
      "100%|██████████| 221/221 [00:06<00:00, 32.56it/s]\n",
      "100%|██████████| 220/220 [00:06<00:00, 32.40it/s]\n",
      "100%|██████████| 219/219 [00:06<00:00, 32.78it/s]\n",
      "100%|██████████| 218/218 [00:06<00:00, 32.56it/s]\n",
      "100%|██████████| 217/217 [00:06<00:00, 32.32it/s]\n",
      "100%|██████████| 216/216 [00:06<00:00, 31.98it/s]\n",
      "100%|██████████| 215/215 [00:06<00:00, 31.99it/s]\n",
      "100%|██████████| 214/214 [00:06<00:00, 32.51it/s]\n",
      "100%|██████████| 213/213 [00:06<00:00, 32.13it/s]\n",
      "100%|██████████| 212/212 [00:06<00:00, 32.30it/s]\n",
      "100%|██████████| 211/211 [00:06<00:00, 32.41it/s]\n",
      "100%|██████████| 210/210 [00:06<00:00, 32.17it/s]\n",
      "100%|██████████| 209/209 [00:06<00:00, 32.25it/s]\n",
      "100%|██████████| 208/208 [00:06<00:00, 30.45it/s]\n"
     ]
    },
    {
     "name": "stdout",
     "output_type": "stream",
     "text": [
      "\n",
      "Attack successful! :D\n",
      "CPU times: user 2min 27s, sys: 874 ms, total: 2min 28s\n",
      "Wall time: 2min 6s\n"
     ]
    },
    {
     "data": {
      "text/plain": [
       "'18 removals: [215, 85, 106, 76, 153, 187, 245, 211, 65, 48, 63, 93, 64, 78, 54, 86, 92, 58]'"
      ]
     },
     "execution_count": 25,
     "metadata": {},
     "output_type": "execute_result"
    }
   ],
   "source": [
    "%%time\n",
    "removals = poisoning_attack_point_removal(original_srr, X_train, y_train, \n",
    "                                          feature='competitiveness',\n",
    "                                          category='N',\n",
    "                                          goal='nullify', col='normal',\n",
    "                                          use_substitute=True, use_stats=False)\n",
    "f'{len(removals)} removals: {removals}'"
   ]
  },
  {
   "cell_type": "code",
   "execution_count": 26,
   "metadata": {},
   "outputs": [
    {
     "name": "stderr",
     "output_type": "stream",
     "text": [
      "100%|██████████| 225/225 [00:55<00:00,  4.03it/s]\n",
      "100%|██████████| 224/224 [01:01<00:00,  3.64it/s]\n",
      "100%|██████████| 223/223 [00:55<00:00,  3.99it/s]\n",
      "100%|██████████| 222/222 [00:57<00:00,  3.86it/s]\n",
      "100%|██████████| 221/221 [00:55<00:00,  4.01it/s]\n",
      "100%|██████████| 220/220 [00:55<00:00,  3.99it/s]\n",
      "100%|██████████| 219/219 [00:54<00:00,  3.99it/s]\n",
      "100%|██████████| 218/218 [00:54<00:00,  4.00it/s]\n",
      "100%|██████████| 217/217 [00:54<00:00,  4.01it/s]\n",
      "100%|██████████| 216/216 [00:53<00:00,  4.01it/s]\n",
      "100%|██████████| 215/215 [00:53<00:00,  4.00it/s]\n",
      "100%|██████████| 214/214 [00:53<00:00,  4.00it/s]\n",
      "100%|██████████| 213/213 [00:53<00:00,  4.01it/s]\n",
      "100%|██████████| 212/212 [00:57<00:00,  3.68it/s]\n",
      "100%|██████████| 211/211 [00:57<00:00,  3.65it/s]\n",
      "100%|██████████| 210/210 [00:56<00:00,  3.72it/s]\n",
      "100%|██████████| 209/209 [01:01<00:00,  3.39it/s]\n",
      "100%|██████████| 208/208 [01:00<00:00,  3.42it/s]\n",
      "100%|██████████| 207/207 [00:56<00:00,  3.68it/s]\n",
      "100%|██████████| 206/206 [00:53<00:00,  3.82it/s]\n"
     ]
    },
    {
     "name": "stdout",
     "output_type": "stream",
     "text": [
      "\n",
      "Attack successful! :D\n",
      "CPU times: user 1h 39min 41s, sys: 2min 3s, total: 1h 41min 45s\n",
      "Wall time: 18min 48s\n"
     ]
    },
    {
     "data": {
      "text/plain": [
       "'20 removals: [215, 85, 76, 245, 153, 187, 211, 106, 191, 48, 86, 63, 58, 92, 78, 64, 54, 55, 65, 192]'"
      ]
     },
     "execution_count": 26,
     "metadata": {},
     "output_type": "execute_result"
    }
   ],
   "source": [
    "%%time\n",
    "removals = poisoning_attack_point_removal(original_srr, X_train, y_train, \n",
    "                                          feature='competitiveness',\n",
    "                                          category='N',\n",
    "                                          goal='nullify', col='normal',\n",
    "                                          use_substitute=False, use_stats=False)\n",
    "f'{len(removals)} removals: {removals}'"
   ]
  },
  {
   "cell_type": "code",
   "execution_count": null,
   "metadata": {},
   "outputs": [],
   "source": []
  }
 ],
 "metadata": {
  "kernelspec": {
   "display_name": "SPRING (Python 3)",
   "language": "python",
   "name": "python3"
  },
  "language_info": {
   "codemirror_mode": {
    "name": "ipython",
    "version": 3
   },
   "file_extension": ".py",
   "mimetype": "text/x-python",
   "name": "python",
   "nbconvert_exporter": "python",
   "pygments_lexer": "ipython3",
   "version": "3.8.5"
  }
 },
 "nbformat": 4,
 "nbformat_minor": 4
}
