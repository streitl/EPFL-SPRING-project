{
 "cells": [
  {
   "cell_type": "markdown",
   "metadata": {},
   "source": [
    "# Links to dataset information\n",
    "\n",
    "**UCI**:\n",
    "- __[adult](http://archive.ics.uci.edu/ml/datasets/Adult)__\n",
    "- __[annealing](https://archive.ics.uci.edu/ml/datasets/Annealing)__\n",
    "- __[audiology-std](https://archive.ics.uci.edu/ml/datasets/Audiology+%28Standardized%29)__\n",
    "- __[bank](https://archive.ics.uci.edu/ml/datasets/Bank%2BMarketing)__\n",
    "- __[bankruptcy](http://archive.ics.uci.edu/ml/datasets/Qualitative_Bankruptcy)__\n",
    "- __[car](https://archive.ics.uci.edu/ml/datasets/Car+Evaluation)__\n",
    "- __[chess-krvk](https://archive.ics.uci.edu/ml/datasets/Chess+%28King-Rook+vs.+King%29)__\n",
    "- __[chess-krvkp](http://archive.ics.uci.edu/ml/datasets/Chess+%28King-Rook+vs.+King-Pawn%29)__\n",
    "- __[congress-voting](https://archive.ics.uci.edu/ml/datasets/Congressional+Voting+Records)__\n",
    "- __[contrac](https://archive.ics.uci.edu/ml/datasets/Contraceptive+Method+Choice)__\n",
    "- __[credit-approval](http://archive.ics.uci.edu/ml/datasets/Credit+Approval)__\n",
    "- **unsure about this one**: __[ctg](https://www.kaggle.com/akshat0007/fetalhr)__\n",
    "- __[cylinder-bands](http://archive.ics.uci.edu/ml/datasets/Cylinder+Bands)__\n",
    "- __[dermatology](https://archive.ics.uci.edu/ml/datasets/Dermatology)__\n",
    "- __[german_credit](https://archive.ics.uci.edu/ml/datasets/Statlog+%28German+Credit+Data%29)__\n",
    "- __[heart-cleveland](https://archive.ics.uci.edu/ml/datasets/Heart+Disease)__\n",
    "- __[ilpd](http://archive.ics.uci.edu/ml/datasets/ILPD+%28Indian+Liver+Patient+Dataset%29)__\n",
    "- __[mammo](https://archive.ics.uci.edu/ml/datasets/Mammographic+Mass)__\n",
    "- __[mushroom](https://archive.ics.uci.edu/ml/datasets/Mushroom)__\n",
    "- __[wine](https://archive.ics.uci.edu/ml/datasets/wine)__\n",
    "- __[wine_qual](https://archive.ics.uci.edu/ml/datasets/Wine+Quality)__\n",
    "\n",
    "Others:\n",
    "- __[texas](https://www.dshs.texas.gov/thcic/hospitals/UserManual1Q2013.pdf)__\n",
    "- __[IEEECIS](https://www.kaggle.com/c/ieee-fraud-detection/discussion/101203)__\n"
   ]
  },
  {
   "cell_type": "markdown",
   "metadata": {},
   "source": [
    "# Imports"
   ]
  },
  {
   "cell_type": "code",
   "execution_count": 1,
   "metadata": {},
   "outputs": [],
   "source": [
    "import pandas as pd\n",
    "import numpy as np\n",
    "\n",
    "import matplotlib.pyplot as plt\n",
    "import seaborn as sns\n",
    "\n",
    "from sklearn.metrics import accuracy_score\n",
    "from sklearn.model_selection import train_test_split\n",
    "\n",
    "from tqdm import tqdm"
   ]
  },
  {
   "cell_type": "code",
   "execution_count": 2,
   "metadata": {},
   "outputs": [],
   "source": [
    "from src.loader import load_dataset\n",
    "from src.models import SRR, train_srr\n",
    "from src.preprocessing import processing_pipeline\n",
    "from src.feature_selection import forward_stepwise_regression\n",
    "from src.vulnerabilities import *"
   ]
  },
  {
   "cell_type": "code",
   "execution_count": 3,
   "metadata": {},
   "outputs": [],
   "source": [
    "uci_datasets = ['adult', 'annealing', 'audiology-std', 'bank', 'bankruptcy', 'car',\n",
    "                'chess-krvk', 'chess-krvkp', 'congress-voting', 'contrac', 'credit-approval',\n",
    "                'ctg', 'cylinder-bands', 'dermatology', 'german_credit', 'heart-cleveland',\n",
    "                'ilpd', 'mammo', 'mushroom', 'wine', 'wine_qual']\n",
    "\n",
    "all_datasets = uci_datasets + ['texas', 'ieeecis']"
   ]
  },
  {
   "cell_type": "markdown",
   "metadata": {},
   "source": [
    "# Greedy Hyperparameter Attack"
   ]
  },
  {
   "cell_type": "markdown",
   "metadata": {},
   "source": [
    "## german_credit"
   ]
  },
  {
   "cell_type": "code",
   "execution_count": 4,
   "metadata": {
    "scrolled": true
   },
   "outputs": [
    {
     "name": "stdout",
     "output_type": "stream",
     "text": [
      "Loading german_credit...\n",
      "Select-Regress-Round (SRR) [k=3, M=5]\n",
      "\n",
      "                    Feature                                                     Category  Score\n",
      " Status_of_checking_account                                                   ... < 0 DM     -3\n",
      " Status_of_checking_account       ... >= 200 DM / salary assignments for at least 1 year      2\n",
      " Status_of_checking_account                                            0 <= ... < 200 DM     -1\n",
      " Status_of_checking_account                                          no checking account      5\n",
      "             Credit_history                      all credits at this bank paid back duly     -3\n",
      "             Credit_history  critical account/ other credits existing (not at this bank)      3\n",
      "             Credit_history                 no credits taken/ all credits paid back duly     -3\n",
      "         Duration_in_months                                                 (-inf, 11.5]      3\n",
      "         Duration_in_months                                                  (23.0, inf]     -2\n",
      "\n",
      "Intercept: 3\n",
      "\n",
      "Predict class 1 if sum of scores and intercept is >= 0, otherwise predict 0.\n"
     ]
    }
   ],
   "source": [
    "# Load the data\n",
    "X, y = load_dataset(name='german_credit')\n",
    "\n",
    "params = {\n",
    "    'train_size': 0.9,\n",
    "    'seed': 100,\n",
    "    'nbins': 3,\n",
    "    'k': 3,\n",
    "    'M': 5,\n",
    "    'cv': 5,\n",
    "    'Cs': 20,\n",
    "    'max_iter': 150,\n",
    "    'random_state': 42\n",
    "}\n",
    "\n",
    "original_srr = train_srr(X, y, params)\n",
    "\n",
    "original_srr.show_scoring_table()"
   ]
  },
  {
   "cell_type": "markdown",
   "metadata": {},
   "source": [
    "### Removing features"
   ]
  },
  {
   "cell_type": "code",
   "execution_count": 6,
   "metadata": {},
   "outputs": [
    {
     "name": "stdout",
     "output_type": "stream",
     "text": [
      "-----> Status_of_checking_account\n",
      "Could not achieve the goal greedily.\n",
      "-----> Credit_history\n",
      "Achieved goal!Changed parameters from\n",
      "{'k': 3, 'M': 5, 'train_size': 0.9, 'seed': 100, 'nbins': 3, 'cv': 5, 'Cs': 20, 'max_iter': 150, 'random_state': 42}\n",
      "to\n",
      "{'k': 3, 'M': 5, 'train_size': 0.9, 'seed': 42, 'nbins': 5, 'cv': 5, 'Cs': 1000, 'max_iter': 50, 'random_state': 0}\n",
      "Resulting model:\n",
      "Select-Regress-Round (SRR) [k=3, M=5]\n",
      "\n",
      "                    Feature                                                Category  Score\n",
      " Status_of_checking_account                                              ... < 0 DM     -2\n",
      " Status_of_checking_account  ... >= 200 DM / salary assignments for at least 1 year      1\n",
      " Status_of_checking_account                                       0 <= ... < 200 DM     -1\n",
      " Status_of_checking_account                                     no checking account      5\n",
      "         Duration_in_months                                            (-inf, 11.5]      4\n",
      "         Duration_in_months                                            (11.5, 20.0]      0\n",
      "         Duration_in_months                                            (20.0, 29.0]      0\n",
      "         Duration_in_months                                             (29.0, inf]     -3\n",
      "                    Purpose                                                business      0\n",
      "                    Purpose                                               car (new)     -2\n",
      "                    Purpose                                              car (used)      5\n",
      "                    Purpose                                     domestic appliances      0\n",
      "                    Purpose                                               education     -3\n",
      "                    Purpose                                     furniture/equipment      0\n",
      "                    Purpose                                                  others     -1\n",
      "                    Purpose                                        radio/television      2\n",
      "                    Purpose                                                 repairs     -1\n",
      "                    Purpose                                              retraining      3\n",
      "\n",
      "Intercept: 2\n",
      "\n",
      "Predict class 1 if sum of scores and intercept is >= 0, otherwise predict 0.\n",
      "-----> Duration_in_months\n",
      "Achieved goal!Changed parameters from\n",
      "{'k': 3, 'M': 5, 'train_size': 0.9, 'seed': 100, 'nbins': 3, 'cv': 5, 'Cs': 20, 'max_iter': 150, 'random_state': 42}\n",
      "to\n",
      "{'k': 3, 'M': 5, 'train_size': 0.9, 'seed': 0, 'nbins': 4, 'cv': 5, 'Cs': 10, 'max_iter': 50, 'random_state': 0}\n",
      "Resulting model:\n",
      "Select-Regress-Round (SRR) [k=3, M=5]\n",
      "\n",
      "                    Feature                                                     Category  Score\n",
      " Status_of_checking_account                                                   ... < 0 DM     -5\n",
      " Status_of_checking_account       ... >= 200 DM / salary assignments for at least 1 year      1\n",
      " Status_of_checking_account                                            0 <= ... < 200 DM     -2\n",
      " Status_of_checking_account                                          no checking account      5\n",
      "             Credit_history                      all credits at this bank paid back duly     -2\n",
      "             Credit_history  critical account/ other credits existing (not at this bank)      4\n",
      "             Credit_history                              delay in paying off in the past      0\n",
      "             Credit_history                     existing credits paid back duly till now      0\n",
      "             Credit_history                 no credits taken/ all credits paid back duly     -5\n",
      "                    Purpose                                                     business      0\n",
      "                    Purpose                                                    car (new)     -2\n",
      "                    Purpose                                                   car (used)      2\n",
      "                    Purpose                                          domestic appliances      0\n",
      "                    Purpose                                                    education     -2\n",
      "                    Purpose                                          furniture/equipment      0\n",
      "                    Purpose                                                       others      0\n",
      "                    Purpose                                             radio/television      1\n",
      "                    Purpose                                                      repairs      0\n",
      "                    Purpose                                                   retraining      0\n",
      "\n",
      "Intercept: 4\n",
      "\n",
      "Predict class 1 if sum of scores and intercept is >= 0, otherwise predict 0.\n"
     ]
    }
   ],
   "source": [
    "for feat in original_srr.features:\n",
    "    print(f'-----> {feat}')\n",
    "    poisoning_attack_hyperparameters(original_srr, X, y,\n",
    "                                     feature=feat, \n",
    "                                     goal='remove_feature',\n",
    "                                     greedy=True,\n",
    "                                     train_size_list=[0.8, 0.9],\n",
    "                                     seed_list=[0, 42, 1337],\n",
    "                                     nbins_list=[3, 4, 5],\n",
    "                                     cv_list=[5, 10], Cs_list=[10, 100, 1000],\n",
    "                                     max_iter_list=[50, 150],\n",
    "                                     random_state_list=[0, 42, 1337])"
   ]
  },
  {
   "cell_type": "markdown",
   "metadata": {},
   "source": [
    "### Nullifying"
   ]
  },
  {
   "cell_type": "code",
   "execution_count": 8,
   "metadata": {},
   "outputs": [
    {
     "name": "stdout",
     "output_type": "stream",
     "text": [
      "--- > Status_of_checking_account - ... < 0 DM\n",
      "Could not achieve the goal greedily.\n",
      "\n",
      "\n",
      "\n",
      "--- > Status_of_checking_account - ... >= 200 DM / salary assignments for at least 1 year\n",
      "Achieved goal!Changed parameters from\n",
      "{'k': 3, 'M': 5, 'train_size': 0.9, 'seed': 100, 'nbins': 3, 'cv': 5, 'Cs': 20, 'max_iter': 150, 'random_state': 42}\n",
      "to\n",
      "{'k': 3, 'M': 5, 'train_size': 0.8, 'seed': 0, 'nbins': 3, 'cv': 5, 'Cs': 100, 'max_iter': 50, 'random_state': 0}\n",
      "Resulting model:\n",
      "Select-Regress-Round (SRR) [k=3, M=5]\n",
      "\n",
      "                    Feature                                                     Category  Score\n",
      " Status_of_checking_account                                                   ... < 0 DM     -3\n",
      " Status_of_checking_account       ... >= 200 DM / salary assignments for at least 1 year      0\n",
      " Status_of_checking_account                                            0 <= ... < 200 DM     -1\n",
      " Status_of_checking_account                                          no checking account      5\n",
      "             Credit_history                      all credits at this bank paid back duly     -2\n",
      "             Credit_history  critical account/ other credits existing (not at this bank)      2\n",
      "             Credit_history                              delay in paying off in the past      0\n",
      "             Credit_history                     existing credits paid back duly till now      0\n",
      "             Credit_history                 no credits taken/ all credits paid back duly     -4\n",
      "         Duration_in_months                                                 (-inf, 11.5]      3\n",
      "         Duration_in_months                                                 (11.5, 23.0]      0\n",
      "         Duration_in_months                                                  (23.0, inf]     -2\n",
      "\n",
      "Intercept: 4\n",
      "\n",
      "Predict class 1 if sum of scores and intercept is >= 0, otherwise predict 0.\n",
      "\n",
      "\n",
      "\n",
      "--- > Status_of_checking_account - 0 <= ... < 200 DM\n",
      "Could not achieve the goal greedily.\n",
      "\n",
      "\n",
      "\n",
      "--- > Status_of_checking_account - no checking account\n",
      "Could not achieve the goal greedily.\n",
      "\n",
      "\n",
      "\n",
      "--- > Credit_history - all credits at this bank paid back duly\n",
      "Could not achieve the goal greedily.\n",
      "\n",
      "\n",
      "\n",
      "--- > Credit_history - critical account/ other credits existing (not at this bank)\n",
      "Could not achieve the goal greedily.\n",
      "\n",
      "\n",
      "\n",
      "\n",
      "\n",
      "\n",
      "\n",
      "\n",
      "\n",
      "--- > Credit_history - no credits taken/ all credits paid back duly\n",
      "Achieved goal!Changed parameters from\n",
      "{'k': 3, 'M': 5, 'train_size': 0.9, 'seed': 100, 'nbins': 3, 'cv': 5, 'Cs': 20, 'max_iter': 150, 'random_state': 42}\n",
      "to\n",
      "{'k': 3, 'M': 5, 'train_size': 0.9, 'seed': 42, 'nbins': 3, 'cv': 5, 'Cs': 1000, 'max_iter': 50, 'random_state': 0}\n",
      "Resulting model:\n",
      "Select-Regress-Round (SRR) [k=3, M=5]\n",
      "\n",
      "                    Feature                                                     Category  Score\n",
      " Status_of_checking_account                                                   ... < 0 DM     -1\n",
      " Status_of_checking_account       ... >= 200 DM / salary assignments for at least 1 year      0\n",
      " Status_of_checking_account                                            0 <= ... < 200 DM      0\n",
      " Status_of_checking_account                                          no checking account      5\n",
      "             Credit_history                      all credits at this bank paid back duly      0\n",
      "             Credit_history  critical account/ other credits existing (not at this bank)      2\n",
      "             Credit_history                              delay in paying off in the past      0\n",
      "             Credit_history                     existing credits paid back duly till now      0\n",
      "             Credit_history                 no credits taken/ all credits paid back duly      0\n",
      "         Duration_in_months                                                 (-inf, 11.5]      2\n",
      "         Duration_in_months                                                 (11.5, 23.0]      0\n",
      "         Duration_in_months                                                  (23.0, inf]     -1\n",
      "\n",
      "Intercept: 2\n",
      "\n",
      "Predict class 1 if sum of scores and intercept is >= 0, otherwise predict 0.\n",
      "\n",
      "\n",
      "\n",
      "--- > Duration_in_months - (-inf, 11.5]\n",
      "Could not achieve the goal greedily.\n",
      "\n",
      "\n",
      "\n",
      "\n",
      "\n",
      "\n",
      "--- > Duration_in_months - (23.0, inf]\n",
      "Could not achieve the goal greedily.\n",
      "\n",
      "\n",
      "\n"
     ]
    }
   ],
   "source": [
    "for feat in original_srr.features:\n",
    "    for cat in original_srr.df.loc[feat].index:\n",
    "        if original_srr.get_weight(feat, cat) != 0:\n",
    "            print(f'--- > {feat} - {cat}')\n",
    "            poisoning_attack_hyperparameters(original_srr, X, y,\n",
    "                                             feature=feat,\n",
    "                                             category=cat,\n",
    "                                             goal='nullify',\n",
    "                                             greedy=True,\n",
    "                                             train_size_list=[0.8, 0.9],\n",
    "                                             seed_list=[0, 42, 1337],\n",
    "                                             nbins_list=[3, 4, 5],\n",
    "                                             cv_list=[5, 10], Cs_list=[10, 100, 1000],\n",
    "                                             max_iter_list=[50, 150],\n",
    "                                             random_state_list=[0, 42, 1337])\n",
    "        print('\\n\\n')"
   ]
  },
  {
   "cell_type": "markdown",
   "metadata": {},
   "source": [
    "### Flip sign"
   ]
  },
  {
   "cell_type": "code",
   "execution_count": 9,
   "metadata": {},
   "outputs": [
    {
     "name": "stdout",
     "output_type": "stream",
     "text": [
      "--- > Status_of_checking_account - ... < 0 DM\n",
      "Could not achieve the goal greedily.\n",
      "\n",
      "\n",
      "\n",
      "--- > Status_of_checking_account - ... >= 200 DM / salary assignments for at least 1 year\n",
      "Could not achieve the goal greedily.\n",
      "\n",
      "\n",
      "\n",
      "--- > Status_of_checking_account - 0 <= ... < 200 DM\n",
      "Could not achieve the goal greedily.\n",
      "\n",
      "\n",
      "\n",
      "--- > Status_of_checking_account - no checking account\n",
      "Could not achieve the goal greedily.\n",
      "\n",
      "\n",
      "\n",
      "--- > Credit_history - all credits at this bank paid back duly\n",
      "Could not achieve the goal greedily.\n",
      "\n",
      "\n",
      "\n",
      "--- > Credit_history - critical account/ other credits existing (not at this bank)\n",
      "Could not achieve the goal greedily.\n",
      "\n",
      "\n",
      "\n",
      "--- > Credit_history - no credits taken/ all credits paid back duly\n",
      "Could not achieve the goal greedily.\n",
      "\n",
      "\n",
      "\n",
      "--- > Duration_in_months - (-inf, 11.5]\n",
      "Could not achieve the goal greedily.\n",
      "\n",
      "\n",
      "\n",
      "--- > Duration_in_months - (23.0, inf]\n",
      "Could not achieve the goal greedily.\n",
      "\n",
      "\n",
      "\n"
     ]
    }
   ],
   "source": [
    "for feat in original_srr.features:\n",
    "    for cat in original_srr.df.loc[feat].index:\n",
    "        if original_srr.get_weight(feat, cat) != 0:\n",
    "            print(f'--- > {feat} - {cat}')\n",
    "            poisoning_attack_hyperparameters(original_srr, X, y,\n",
    "                                       feature=feat,\n",
    "                                       category=cat,\n",
    "                                       goal='flip_sign',\n",
    "                                       greedy=True,\n",
    "                                       train_size_list=[0.8, 0.9],\n",
    "                                       seed_list=[0, 42, 1337],\n",
    "                                       nbins_list=[3, 4, 5],\n",
    "                                       cv_list=[5, 10], Cs_list=[10, 100, 1000],\n",
    "                                       max_iter_list=[50, 150],\n",
    "                                       random_state_list=[0, 42, 1337])\n",
    "            print('\\n\\n')"
   ]
  },
  {
   "cell_type": "markdown",
   "metadata": {},
   "source": [
    "## bankruptcy"
   ]
  },
  {
   "cell_type": "code",
   "execution_count": 10,
   "metadata": {},
   "outputs": [
    {
     "name": "stdout",
     "output_type": "stream",
     "text": [
      "Loading bankruptcy...\n",
      "Select-Regress-Round (SRR) [k=3, M=5]\n",
      "\n",
      "         Feature Category  Score\n",
      " competitiveness        N      5\n",
      " competitiveness        P     -2\n",
      "     credibility        N      3\n",
      "  financial_flex        N      2\n",
      "\n",
      "Intercept: -4\n",
      "\n",
      "Predict class 1 if sum of scores and intercept is >= 0, otherwise predict 0.\n"
     ]
    }
   ],
   "source": [
    "# Load the data\n",
    "X, y = load_dataset(name='bankruptcy')\n",
    "\n",
    "params = {\n",
    "    'train_size': 0.9,\n",
    "    'seed': 100,\n",
    "    'nbins': 3,\n",
    "    'k': 3,\n",
    "    'M': 5,\n",
    "    'cv': 5,\n",
    "    'Cs': 20,\n",
    "    'max_iter': 150,\n",
    "    'random_state': 42\n",
    "}\n",
    "\n",
    "original_srr = train_srr(X, y, params)\n",
    "\n",
    "original_srr.show_scoring_table()"
   ]
  },
  {
   "cell_type": "markdown",
   "metadata": {},
   "source": [
    "### Removing features"
   ]
  },
  {
   "cell_type": "code",
   "execution_count": 11,
   "metadata": {},
   "outputs": [
    {
     "name": "stdout",
     "output_type": "stream",
     "text": [
      "-----> competitiveness\n",
      "Could not achieve the goal greedily.\n",
      "-----> credibility\n",
      "Could not achieve the goal greedily.\n",
      "-----> financial_flex\n",
      "Could not achieve the goal greedily.\n"
     ]
    }
   ],
   "source": [
    "for feat in original_srr.features:\n",
    "    print(f'-----> {feat}')\n",
    "    poisoning_attack_hyperparameters(original_srr, X, y,\n",
    "                                     feature=feat, \n",
    "                                     goal='remove_feature',\n",
    "                                     greedy=True,\n",
    "                                     train_size_list=[0.8, 0.9],\n",
    "                                     seed_list=[0, 42, 1337],\n",
    "                                     nbins_list=[3, 4, 5],\n",
    "                                     cv_list=[5, 10], Cs_list=[10, 100, 1000],\n",
    "                                     max_iter_list=[50, 150],\n",
    "                                     random_state_list=[0, 42, 1337])"
   ]
  },
  {
   "cell_type": "markdown",
   "metadata": {},
   "source": [
    "### Nullifying"
   ]
  },
  {
   "cell_type": "code",
   "execution_count": 12,
   "metadata": {},
   "outputs": [
    {
     "name": "stdout",
     "output_type": "stream",
     "text": [
      "\n",
      "\n",
      "\n",
      "--- > competitiveness - N\n",
      "Could not achieve the goal greedily.\n",
      "\n",
      "\n",
      "\n",
      "--- > competitiveness - P\n",
      "Could not achieve the goal greedily.\n",
      "\n",
      "\n",
      "\n",
      "\n",
      "\n",
      "\n",
      "--- > credibility - N\n",
      "Achieved goal!Changed parameters from\n",
      "{'k': 3, 'M': 5, 'train_size': 0.9, 'seed': 100, 'nbins': 3, 'cv': 5, 'Cs': 20, 'max_iter': 150, 'random_state': 42}\n",
      "to\n",
      "{'k': 3, 'M': 5, 'train_size': 0.9, 'seed': 42, 'nbins': 3, 'cv': 5, 'Cs': 1000, 'max_iter': 50, 'random_state': 1337}\n",
      "Resulting model:\n",
      "Select-Regress-Round (SRR) [k=3, M=5]\n",
      "\n",
      "         Feature Category  Score\n",
      " competitiveness        A      0\n",
      " competitiveness        N      5\n",
      " competitiveness        P      0\n",
      "  financial_flex        A      0\n",
      "  financial_flex        N      0\n",
      "  financial_flex        P      0\n",
      "     credibility        A      0\n",
      "     credibility        N      0\n",
      "     credibility        P      0\n",
      "\n",
      "Intercept: -3\n",
      "\n",
      "Predict class 1 if sum of scores and intercept is >= 0, otherwise predict 0.\n",
      "\n",
      "\n",
      "\n",
      "\n",
      "\n",
      "\n",
      "\n",
      "\n",
      "\n",
      "--- > financial_flex - N\n",
      "Achieved goal!Changed parameters from\n",
      "{'k': 3, 'M': 5, 'train_size': 0.9, 'seed': 100, 'nbins': 3, 'cv': 5, 'Cs': 20, 'max_iter': 150, 'random_state': 42}\n",
      "to\n",
      "{'k': 3, 'M': 5, 'train_size': 0.9, 'seed': 42, 'nbins': 3, 'cv': 5, 'Cs': 10, 'max_iter': 50, 'random_state': 0}\n",
      "Resulting model:\n",
      "Select-Regress-Round (SRR) [k=3, M=5]\n",
      "\n",
      "         Feature Category  Score\n",
      " competitiveness        A      0\n",
      " competitiveness        N      5\n",
      " competitiveness        P      0\n",
      "  financial_flex        A      0\n",
      "  financial_flex        N      0\n",
      "  financial_flex        P      0\n",
      "     credibility        A      0\n",
      "     credibility        N      0\n",
      "     credibility        P      0\n",
      "\n",
      "Intercept: -3\n",
      "\n",
      "Predict class 1 if sum of scores and intercept is >= 0, otherwise predict 0.\n",
      "\n",
      "\n",
      "\n",
      "\n",
      "\n",
      "\n"
     ]
    }
   ],
   "source": [
    "for feat in original_srr.features:\n",
    "    for cat in original_srr.df.loc[feat].index:\n",
    "        if original_srr.get_weight(feat, cat) != 0:\n",
    "            print(f'--- > {feat} - {cat}')\n",
    "            poisoning_attack_hyperparameters(original_srr, X, y,\n",
    "                                             feature=feat,\n",
    "                                             category=cat,\n",
    "                                             goal='nullify',\n",
    "                                             greedy=True,\n",
    "                                             train_size_list=[0.8, 0.9],\n",
    "                                             seed_list=[0, 42, 1337],\n",
    "                                             nbins_list=[3, 4, 5],\n",
    "                                             cv_list=[5, 10], Cs_list=[10, 100, 1000],\n",
    "                                             max_iter_list=[50, 150],\n",
    "                                             random_state_list=[0, 42, 1337])\n",
    "        print('\\n\\n')"
   ]
  },
  {
   "cell_type": "markdown",
   "metadata": {},
   "source": [
    "### Flip sign"
   ]
  },
  {
   "cell_type": "code",
   "execution_count": 13,
   "metadata": {},
   "outputs": [
    {
     "name": "stdout",
     "output_type": "stream",
     "text": [
      "--- > competitiveness - N\n",
      "Could not achieve the goal greedily.\n",
      "\n",
      "\n",
      "\n",
      "--- > competitiveness - P\n",
      "Could not achieve the goal greedily.\n",
      "\n",
      "\n",
      "\n",
      "--- > credibility - N\n",
      "Could not achieve the goal greedily.\n",
      "\n",
      "\n",
      "\n",
      "--- > financial_flex - N\n",
      "Could not achieve the goal greedily.\n",
      "\n",
      "\n",
      "\n"
     ]
    }
   ],
   "source": [
    "for feat in original_srr.features:\n",
    "    for cat in original_srr.df.loc[feat].index:\n",
    "        if original_srr.get_weight(feat, cat) != 0:\n",
    "            print(f'--- > {feat} - {cat}')\n",
    "            poisoning_attack_hyperparameters(original_srr, X, y,\n",
    "                                       feature=feat,\n",
    "                                       category=cat,\n",
    "                                       goal='flip_sign',\n",
    "                                       greedy=True,\n",
    "                                       train_size_list=[0.8, 0.9],\n",
    "                                       seed_list=[0, 42, 1337],\n",
    "                                       nbins_list=[3, 4, 5],\n",
    "                                       cv_list=[5, 10], Cs_list=[10, 100, 1000],\n",
    "                                       max_iter_list=[50, 150],\n",
    "                                       random_state_list=[0, 42, 1337])\n",
    "            print('\\n\\n')"
   ]
  },
  {
   "cell_type": "code",
   "execution_count": null,
   "metadata": {},
   "outputs": [],
   "source": []
  }
 ],
 "metadata": {
  "kernelspec": {
   "display_name": "SPRING (Python 3)",
   "language": "python",
   "name": "python3"
  },
  "language_info": {
   "codemirror_mode": {
    "name": "ipython",
    "version": 3
   },
   "file_extension": ".py",
   "mimetype": "text/x-python",
   "name": "python",
   "nbconvert_exporter": "python",
   "pygments_lexer": "ipython3",
   "version": "3.8.5"
  }
 },
 "nbformat": 4,
 "nbformat_minor": 4
}
