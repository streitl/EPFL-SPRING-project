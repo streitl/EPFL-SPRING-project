{
 "cells": [
  {
   "cell_type": "markdown",
   "metadata": {},
   "source": [
    "# Links to dataset information\n",
    "\n",
    "**UCI**:\n",
    "- __[adult](http://archive.ics.uci.edu/ml/datasets/Adult)__\n",
    "- __[annealing](https://archive.ics.uci.edu/ml/datasets/Annealing)__\n",
    "- __[audiology-std](https://archive.ics.uci.edu/ml/datasets/Audiology+%28Standardized%29)__\n",
    "- __[bank](https://archive.ics.uci.edu/ml/datasets/Bank%2BMarketing)__\n",
    "- __[bankruptcy](http://archive.ics.uci.edu/ml/datasets/Qualitative_Bankruptcy)__\n",
    "- __[car](https://archive.ics.uci.edu/ml/datasets/Car+Evaluation)__\n",
    "- __[chess-krvk](https://archive.ics.uci.edu/ml/datasets/Chess+%28King-Rook+vs.+King%29)__\n",
    "- __[chess-krvkp](http://archive.ics.uci.edu/ml/datasets/Chess+%28King-Rook+vs.+King-Pawn%29)__\n",
    "- __[congress-voting](https://archive.ics.uci.edu/ml/datasets/Congressional+Voting+Records)__\n",
    "- __[contrac](https://archive.ics.uci.edu/ml/datasets/Contraceptive+Method+Choice)__\n",
    "- __[credit-approval](http://archive.ics.uci.edu/ml/datasets/Credit+Approval)__\n",
    "- **unsure about this one**: __[ctg](https://www.kaggle.com/akshat0007/fetalhr)__\n",
    "- __[cylinder-bands](http://archive.ics.uci.edu/ml/datasets/Cylinder+Bands)__\n",
    "- __[dermatology](https://archive.ics.uci.edu/ml/datasets/Dermatology)__\n",
    "- __[german_credit](https://archive.ics.uci.edu/ml/datasets/Statlog+%28German+Credit+Data%29)__\n",
    "- __[heart-cleveland](https://archive.ics.uci.edu/ml/datasets/Heart+Disease)__\n",
    "- __[ilpd](http://archive.ics.uci.edu/ml/datasets/ILPD+%28Indian+Liver+Patient+Dataset%29)__\n",
    "- __[mammo](https://archive.ics.uci.edu/ml/datasets/Mammographic+Mass)__\n",
    "- __[mushroom](https://archive.ics.uci.edu/ml/datasets/Mushroom)__\n",
    "- __[wine](https://archive.ics.uci.edu/ml/datasets/wine)__\n",
    "- __[wine_qual](https://archive.ics.uci.edu/ml/datasets/Wine+Quality)__\n",
    "\n",
    "Others:\n",
    "- __[texas](https://www.dshs.texas.gov/thcic/hospitals/UserManual1Q2013.pdf)__\n",
    "- __[IEEECIS](https://www.kaggle.com/c/ieee-fraud-detection/discussion/101203)__\n"
   ]
  },
  {
   "cell_type": "markdown",
   "metadata": {},
   "source": [
    "# Imports"
   ]
  },
  {
   "cell_type": "code",
   "execution_count": 1,
   "metadata": {},
   "outputs": [],
   "source": [
    "import pandas as pd\n",
    "import numpy as np\n",
    "\n",
    "import matplotlib.pyplot as plt\n",
    "import seaborn as sns\n",
    "\n",
    "from sklearn.metrics import accuracy_score\n",
    "from sklearn.model_selection import train_test_split\n",
    "\n",
    "from tqdm import tqdm"
   ]
  },
  {
   "cell_type": "code",
   "execution_count": 2,
   "metadata": {},
   "outputs": [],
   "source": [
    "from src.loader import load_dataset\n",
    "from src.models import SRR\n",
    "from src.preprocessing import processing_pipeline\n",
    "from src.feature_selection import forward_stepwise_regression\n",
    "from src.vulnerabilities import *"
   ]
  },
  {
   "cell_type": "code",
   "execution_count": 3,
   "metadata": {},
   "outputs": [],
   "source": [
    "uci_datasets = ['adult', 'annealing', 'audiology-std', 'bank', 'bankruptcy', 'car',\n",
    "                'chess-krvk', 'chess-krvkp', 'congress-voting', 'contrac', 'credit-approval',\n",
    "                'ctg', 'cylinder-bands', 'dermatology', 'german_credit', 'heart-cleveland',\n",
    "                'ilpd', 'mammo', 'mushroom', 'wine', 'wine_qual']\n",
    "\n",
    "all_datasets = uci_datasets + ['texas', 'ieeecis']"
   ]
  },
  {
   "cell_type": "markdown",
   "metadata": {},
   "source": [
    "# Monotonicity"
   ]
  },
  {
   "cell_type": "markdown",
   "metadata": {},
   "source": [
    "## Trying different hyper-parameters"
   ]
  },
  {
   "cell_type": "code",
   "execution_count": 4,
   "metadata": {},
   "outputs": [],
   "source": [
    "res = []"
   ]
  },
  {
   "cell_type": "markdown",
   "metadata": {},
   "source": [
    "### german_credit"
   ]
  },
  {
   "cell_type": "code",
   "execution_count": 5,
   "metadata": {},
   "outputs": [
    {
     "name": "stdout",
     "output_type": "stream",
     "text": [
      "-> german_credit dataset\n",
      "Loading german_credit...\n"
     ]
    }
   ],
   "source": [
    "dataset = 'german_credit'\n",
    "print(f\"-> {dataset} dataset\")\n",
    "# Load the data\n",
    "X, y = load_dataset(name=dataset)"
   ]
  },
  {
   "cell_type": "code",
   "execution_count": 6,
   "metadata": {},
   "outputs": [
    {
     "name": "stderr",
     "output_type": "stream",
     "text": [
      "                                                  \r"
     ]
    }
   ],
   "source": [
    "for nbins in [3, 4, 5, 6, 7]:\n",
    "    # Apply the processing pipeline\n",
    "    X_train, X_test, y_train, y_test = processing_pipeline(X, y, nbins=nbins)\n",
    "    \n",
    "    for k in [3, 5]:\n",
    "        for M in [3, 5, 10]:\n",
    "            # Construct and train Select-Regress-Round model\n",
    "            srr = SRR(k=k, M=M)\n",
    "            srr.fit(X_train, y_train)\n",
    "            \n",
    "            monotonic = binned_features_pass_monotonicity(srr, X_train, y_train)\n",
    "            res.append(['german_credit', k, M, nbins, int(monotonic)])"
   ]
  },
  {
   "cell_type": "markdown",
   "metadata": {},
   "source": [
    "### IEEE-CIS"
   ]
  },
  {
   "cell_type": "code",
   "execution_count": 7,
   "metadata": {},
   "outputs": [
    {
     "name": "stdout",
     "output_type": "stream",
     "text": [
      "-> ieeecis dataset\n",
      "Loading ieeecis...\n"
     ]
    }
   ],
   "source": [
    "dataset = 'ieeecis'\n",
    "print(f\"-> {dataset} dataset\")\n",
    "# Load the data\n",
    "X, y = load_dataset(name=dataset)\n",
    "\n",
    "# This dataset is too big so get a reasonably-sized subset\n",
    "X_subset = pd.concat([\n",
    "    X[y == 1].sample(n=1500, random_state=15),\n",
    "    X[y == 0].sample(n=1500, random_state=15)\n",
    "])\n",
    "y_subset = y.loc[X_subset.index]\n",
    "\n",
    "del X\n",
    "del y"
   ]
  },
  {
   "cell_type": "code",
   "execution_count": 8,
   "metadata": {},
   "outputs": [
    {
     "name": "stderr",
     "output_type": "stream",
     "text": [
      "                                                   \r"
     ]
    }
   ],
   "source": [
    "for nbins in [3, 4, 5, 6, 7]:\n",
    "    # Apply the processing pipeline\n",
    "    X_train, X_test, y_train, y_test = processing_pipeline(X_subset, y_subset, nbins=nbins)\n",
    "    \n",
    "    for k in [3, 5]:\n",
    "        for M in [3, 5, 10]:\n",
    "            # Construct and train Select-Regress-Round model\n",
    "            srr = SRR(k=k, M=M)\n",
    "            srr.fit(X_train, y_train)\n",
    "            \n",
    "            monotonic = binned_features_pass_monotonicity(srr, X_train, y_train)\n",
    "            res.append(['ieeecis', k, M, nbins, int(monotonic)])"
   ]
  },
  {
   "cell_type": "markdown",
   "metadata": {},
   "source": [
    "### bankruptcy"
   ]
  },
  {
   "cell_type": "code",
   "execution_count": 9,
   "metadata": {},
   "outputs": [
    {
     "name": "stdout",
     "output_type": "stream",
     "text": [
      "-> bankruptcy dataset\n",
      "Loading bankruptcy...\n"
     ]
    }
   ],
   "source": [
    "dataset = 'bankruptcy'\n",
    "print(f\"-> {dataset} dataset\")\n",
    "# Load the data\n",
    "X, y = load_dataset(name=dataset)"
   ]
  },
  {
   "cell_type": "code",
   "execution_count": 10,
   "metadata": {},
   "outputs": [],
   "source": [
    "mapping = {'N': pd.Interval(left=float('-inf'), right=-1),\n",
    "           'A': pd.Interval(left=           -1, right=1),\n",
    "           'P': pd.Interval(left=            1, right=float('inf'))}"
   ]
  },
  {
   "cell_type": "code",
   "execution_count": 11,
   "metadata": {},
   "outputs": [
    {
     "name": "stderr",
     "output_type": "stream",
     "text": [
      "                                                  \r"
     ]
    }
   ],
   "source": [
    "# Apply the processing pipeline\n",
    "X_train, X_test, y_train, y_test = processing_pipeline(X, y, nbins=3)\n",
    "X_train.replace(mapping, inplace=True)\n",
    "\n",
    "for k in [3, 5]:\n",
    "    for M in [3, 5, 10]:\n",
    "        # Construct and train Select-Regress-Round model\n",
    "        srr = SRR(k=k, M=M)\n",
    "        srr.fit(X_train, y_train)\n",
    "\n",
    "        monotonic = binned_features_pass_monotonicity(srr, X_train, y_train)\n",
    "        res.append(['bankruptcy', k, M, '-', int(monotonic)])"
   ]
  },
  {
   "cell_type": "markdown",
   "metadata": {},
   "source": [
    "#### Result"
   ]
  },
  {
   "cell_type": "code",
   "execution_count": 28,
   "metadata": {},
   "outputs": [
    {
     "data": {
      "text/html": [
       "<div>\n",
       "<style scoped>\n",
       "    .dataframe tbody tr th:only-of-type {\n",
       "        vertical-align: middle;\n",
       "    }\n",
       "\n",
       "    .dataframe tbody tr th {\n",
       "        vertical-align: top;\n",
       "    }\n",
       "\n",
       "    .dataframe thead tr th {\n",
       "        text-align: left;\n",
       "    }\n",
       "</style>\n",
       "<table border=\"1\" class=\"dataframe\">\n",
       "  <thead>\n",
       "    <tr>\n",
       "      <th>dataset</th>\n",
       "      <th>bankruptcy</th>\n",
       "      <th colspan=\"5\" halign=\"left\">german_credit</th>\n",
       "      <th colspan=\"5\" halign=\"left\">ieeecis</th>\n",
       "    </tr>\n",
       "    <tr>\n",
       "      <th>nbins</th>\n",
       "      <th>-</th>\n",
       "      <th>3</th>\n",
       "      <th>4</th>\n",
       "      <th>5</th>\n",
       "      <th>6</th>\n",
       "      <th>7</th>\n",
       "      <th>3</th>\n",
       "      <th>4</th>\n",
       "      <th>5</th>\n",
       "      <th>6</th>\n",
       "      <th>7</th>\n",
       "    </tr>\n",
       "  </thead>\n",
       "  <tbody>\n",
       "    <tr>\n",
       "      <th>% monotonic</th>\n",
       "      <td>100.0</td>\n",
       "      <td>100.0</td>\n",
       "      <td>100.0</td>\n",
       "      <td>0.0</td>\n",
       "      <td>100.0</td>\n",
       "      <td>100.0</td>\n",
       "      <td>100.0</td>\n",
       "      <td>50.0</td>\n",
       "      <td>33.3</td>\n",
       "      <td>50.0</td>\n",
       "      <td>16.7</td>\n",
       "    </tr>\n",
       "  </tbody>\n",
       "</table>\n",
       "</div>"
      ],
      "text/plain": [
       "dataset     bankruptcy german_credit                           ieeecis        \\\n",
       "nbins                -             3      4    5      6      7       3     4   \n",
       "% monotonic      100.0         100.0  100.0  0.0  100.0  100.0   100.0  50.0   \n",
       "\n",
       "dataset                        \n",
       "nbins           5     6     7  \n",
       "% monotonic  33.3  50.0  16.7  "
      ]
     },
     "execution_count": 28,
     "metadata": {},
     "output_type": "execute_result"
    }
   ],
   "source": [
    "df = pd.DataFrame(res, columns=['dataset', 'k', 'M', 'nbins', '% monotonic'])\n",
    "df['% monotonic'] *= 100\n",
    "df.groupby(['dataset', 'nbins']).agg({'% monotonic': 'mean'}).applymap(lambda x: round(x, 1)).T"
   ]
  },
  {
   "cell_type": "markdown",
   "metadata": {},
   "source": [
    "## Repeating same training on many data splits"
   ]
  },
  {
   "cell_type": "code",
   "execution_count": 32,
   "metadata": {},
   "outputs": [
    {
     "name": "stderr",
     "output_type": "stream",
     "text": [
      "\r",
      "  0%|          | 0/100 [00:00<?, ?it/s]"
     ]
    },
    {
     "name": "stdout",
     "output_type": "stream",
     "text": [
      "Loading german_credit...\n"
     ]
    },
    {
     "name": "stderr",
     "output_type": "stream",
     "text": [
      "100%|██████████| 100/100 [00:46<00:00,  2.14it/s]"
     ]
    },
    {
     "name": "stdout",
     "output_type": "stream",
     "text": [
      "100.0 % passed monotonicity check\n"
     ]
    },
    {
     "name": "stderr",
     "output_type": "stream",
     "text": [
      "\n"
     ]
    }
   ],
   "source": [
    "X, y = load_dataset('german_credit')\n",
    "\n",
    "passed = 0\n",
    "n_tests = 100\n",
    "\n",
    "for nfold in tqdm(range(n_tests)):\n",
    "    \n",
    "    X_train, X_test, y_train, y_test = processing_pipeline(X, y, seed=nfold, nbins=3)\n",
    "\n",
    "    srr = SRR(k=3, M=5)\n",
    "    srr.fit(X_train, y_train)\n",
    "    \n",
    "    passed += int(binned_features_pass_monotonicity(srr, X_train, y_train))\n",
    "\n",
    "print(\"{:.1f} % passed monotonicity check\".format(100 * passed / n_tests))"
   ]
  },
  {
   "cell_type": "code",
   "execution_count": 33,
   "metadata": {},
   "outputs": [
    {
     "name": "stderr",
     "output_type": "stream",
     "text": [
      "\r",
      "  0%|          | 0/100 [00:00<?, ?it/s]"
     ]
    },
    {
     "name": "stdout",
     "output_type": "stream",
     "text": [
      "Loading bankruptcy...\n"
     ]
    },
    {
     "name": "stderr",
     "output_type": "stream",
     "text": [
      " 97%|█████████▋| 97/100 [00:25<00:00,  3.72it/s]\n",
      "  0%|          | 0/225 [00:00<?, ?it/s]\u001b[A\n",
      "  6%|▌         | 13/225 [00:00<00:01, 127.68it/s]\u001b[A\n",
      " 12%|█▏        | 26/225 [00:00<00:01, 127.31it/s]\u001b[A\n",
      " 17%|█▋        | 39/225 [00:00<00:01, 126.36it/s]\u001b[A\n",
      " 23%|██▎       | 52/225 [00:00<00:01, 125.50it/s]\u001b[A\n",
      " 29%|██▉       | 65/225 [00:00<00:01, 125.48it/s]\u001b[A\n",
      " 35%|███▍      | 78/225 [00:00<00:01, 125.31it/s]\u001b[A\n",
      " 40%|████      | 90/225 [00:00<00:01, 120.52it/s]\u001b[A\n",
      " 46%|████▌     | 103/225 [00:00<00:01, 121.77it/s]\u001b[A\n",
      " 52%|█████▏    | 116/225 [00:00<00:00, 122.26it/s]\u001b[A\n",
      " 57%|█████▋    | 129/225 [00:01<00:00, 122.47it/s]\u001b[A\n",
      " 64%|██████▎   | 143/225 [00:01<00:00, 124.93it/s]\u001b[A\n",
      " 69%|██████▉   | 156/225 [00:01<00:00, 125.15it/s]\u001b[A\n",
      " 75%|███████▌  | 169/225 [00:01<00:00, 125.00it/s]\u001b[A\n",
      " 81%|████████  | 182/225 [00:01<00:00, 124.86it/s]\u001b[A\n",
      " 87%|████████▋ | 195/225 [00:01<00:00, 125.31it/s]\u001b[A\n",
      " 92%|█████████▏| 208/225 [00:01<00:00, 125.86it/s]\u001b[A\n",
      " 98%|█████████▊| 221/225 [00:01<00:00, 124.05it/s]\u001b[A\n",
      "100%|██████████| 100/100 [00:28<00:00,  3.55it/s] \u001b[A"
     ]
    },
    {
     "name": "stdout",
     "output_type": "stream",
     "text": [
      "99.0 % passed monotonicity check\n"
     ]
    },
    {
     "name": "stderr",
     "output_type": "stream",
     "text": [
      "\n"
     ]
    }
   ],
   "source": [
    "X, y = load_dataset('bankruptcy')\n",
    "\n",
    "mapping = {'N': pd.Interval(left=float('-inf'), right=-1),\n",
    "           'A': pd.Interval(left=           -1, right=1),\n",
    "           'P': pd.Interval(left=            1, right=float('inf'))}\n",
    "\n",
    "passed = 0\n",
    "n_tests = 100\n",
    "\n",
    "for nfold in tqdm(range(n_tests)):\n",
    "    \n",
    "    X_train, X_test, y_train, y_test = processing_pipeline(X, y, seed=nfold, nbins=3)\n",
    "    \n",
    "    X_train.replace(mapping, inplace=True)\n",
    "\n",
    "    srr = SRR(k=3, M=5)\n",
    "    srr.fit(X_train, y_train)\n",
    "    \n",
    "    passed += int(binned_features_pass_monotonicity(srr, X_train, y_train))\n",
    "\n",
    "print(\"{:.1f} % passed monotonicity check\".format(100 * passed / n_tests))"
   ]
  },
  {
   "cell_type": "code",
   "execution_count": 34,
   "metadata": {},
   "outputs": [
    {
     "name": "stdout",
     "output_type": "stream",
     "text": [
      "-> ieeecis dataset\n",
      "Loading ieeecis...\n"
     ]
    },
    {
     "name": "stderr",
     "output_type": "stream",
     "text": [
      "100%|██████████| 100/100 [03:49<00:00,  2.30s/it]"
     ]
    },
    {
     "name": "stdout",
     "output_type": "stream",
     "text": [
      "100.0 % passed monotonicity check\n"
     ]
    },
    {
     "name": "stderr",
     "output_type": "stream",
     "text": [
      "\n"
     ]
    }
   ],
   "source": [
    "dataset = 'ieeecis'\n",
    "print(f\"-> {dataset} dataset\")\n",
    "# Load the data\n",
    "X, y = load_dataset(name=dataset)\n",
    "\n",
    "# This dataset is too big so get a reasonably-sized subset\n",
    "X_subset = pd.concat([\n",
    "    X[y == 1].sample(n=1500, random_state=15),\n",
    "    X[y == 0].sample(n=1500, random_state=15)\n",
    "])\n",
    "y_subset = y.loc[X_subset.index]\n",
    "\n",
    "del X\n",
    "del y\n",
    "\n",
    "passed = 0\n",
    "n_tests = 100\n",
    "\n",
    "for nfold in tqdm(range(n_tests)):\n",
    "    \n",
    "    X_train, X_test, y_train, y_test = processing_pipeline(X_subset, y_subset, seed=nfold, nbins=3)\n",
    "    \n",
    "    X_train.replace(mapping, inplace=True)\n",
    "\n",
    "    srr = SRR(k=3, M=5)\n",
    "    srr.fit(X_train, y_train)\n",
    "    \n",
    "    passed += int(binned_features_pass_monotonicity(srr, X_train, y_train))\n",
    "\n",
    "print(\"{:.1f} % passed monotonicity check\".format(100 * passed / n_tests))"
   ]
  },
  {
   "cell_type": "code",
   "execution_count": null,
   "metadata": {},
   "outputs": [],
   "source": []
  }
 ],
 "metadata": {
  "kernelspec": {
   "display_name": "SPRING (Python 3)",
   "language": "python",
   "name": "python3"
  },
  "language_info": {
   "codemirror_mode": {
    "name": "ipython",
    "version": 3
   },
   "file_extension": ".py",
   "mimetype": "text/x-python",
   "name": "python",
   "nbconvert_exporter": "python",
   "pygments_lexer": "ipython3",
   "version": "3.8.5"
  }
 },
 "nbformat": 4,
 "nbformat_minor": 4
}
