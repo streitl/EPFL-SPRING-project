{
 "cells": [
  {
   "cell_type": "markdown",
   "metadata": {},
   "source": [
    "# Links to dataset information\n",
    "\n",
    "**UCI**:\n",
    "- __[adult](http://archive.ics.uci.edu/ml/datasets/Adult)__\n",
    "- __[annealing](https://archive.ics.uci.edu/ml/datasets/Annealing)__\n",
    "- __[audiology-std](https://archive.ics.uci.edu/ml/datasets/Audiology+%28Standardized%29)__\n",
    "- __[bank](https://archive.ics.uci.edu/ml/datasets/Bank%2BMarketing)__\n",
    "- __[bankruptcy](http://archive.ics.uci.edu/ml/datasets/Qualitative_Bankruptcy)__\n",
    "- __[car](https://archive.ics.uci.edu/ml/datasets/Car+Evaluation)__\n",
    "- __[chess-krvk](https://archive.ics.uci.edu/ml/datasets/Chess+%28King-Rook+vs.+King%29)__\n",
    "- __[chess-krvkp](http://archive.ics.uci.edu/ml/datasets/Chess+%28King-Rook+vs.+King-Pawn%29)__\n",
    "- __[congress-voting](https://archive.ics.uci.edu/ml/datasets/Congressional+Voting+Records)__\n",
    "- __[contrac](https://archive.ics.uci.edu/ml/datasets/Contraceptive+Method+Choice)__\n",
    "- __[credit-approval](http://archive.ics.uci.edu/ml/datasets/Credit+Approval)__\n",
    "- **unsure about this one**: __[ctg](https://www.kaggle.com/akshat0007/fetalhr)__\n",
    "- __[cylinder-bands](http://archive.ics.uci.edu/ml/datasets/Cylinder+Bands)__\n",
    "- __[dermatology](https://archive.ics.uci.edu/ml/datasets/Dermatology)__\n",
    "- __[german_credit](https://archive.ics.uci.edu/ml/datasets/Statlog+%28German+Credit+Data%29)__\n",
    "- __[heart-cleveland](https://archive.ics.uci.edu/ml/datasets/Heart+Disease)__\n",
    "- __[ilpd](http://archive.ics.uci.edu/ml/datasets/ILPD+%28Indian+Liver+Patient+Dataset%29)__\n",
    "- __[mammo](https://archive.ics.uci.edu/ml/datasets/Mammographic+Mass)__\n",
    "- __[mushroom](https://archive.ics.uci.edu/ml/datasets/Mushroom)__\n",
    "- __[wine](https://archive.ics.uci.edu/ml/datasets/wine)__\n",
    "- __[wine_qual](https://archive.ics.uci.edu/ml/datasets/Wine+Quality)__\n",
    "\n",
    "Others:\n",
    "- __[texas](https://www.dshs.texas.gov/thcic/hospitals/UserManual1Q2013.pdf)__\n",
    "- __[IEEECIS](https://www.kaggle.com/c/ieee-fraud-detection/discussion/101203)__\n"
   ]
  },
  {
   "cell_type": "markdown",
   "metadata": {},
   "source": [
    "# Imports"
   ]
  },
  {
   "cell_type": "code",
   "execution_count": 1,
   "metadata": {},
   "outputs": [],
   "source": [
    "import pandas as pd\n",
    "import numpy as np\n",
    "\n",
    "import matplotlib.pyplot as plt\n",
    "import seaborn as sns\n",
    "\n",
    "from sklearn.metrics import accuracy_score\n",
    "from sklearn.model_selection import train_test_split\n",
    "\n",
    "from tqdm import tqdm"
   ]
  },
  {
   "cell_type": "code",
   "execution_count": 2,
   "metadata": {},
   "outputs": [],
   "source": [
    "from src.loader import load_dataset\n",
    "from src.models import SRR, train_srr\n",
    "from src.preprocessing import processing_pipeline\n",
    "from src.feature_selection import forward_stepwise_regression\n",
    "from src.vulnerabilities import *"
   ]
  },
  {
   "cell_type": "code",
   "execution_count": 3,
   "metadata": {},
   "outputs": [],
   "source": [
    "uci_datasets = ['adult', 'annealing', 'audiology-std', 'bank', 'bankruptcy', 'car',\n",
    "                'chess-krvk', 'chess-krvkp', 'congress-voting', 'contrac', 'credit-approval',\n",
    "                'ctg', 'cylinder-bands', 'dermatology', 'german_credit', 'heart-cleveland',\n",
    "                'ilpd', 'mammo', 'mushroom', 'wine', 'wine_qual']\n",
    "\n",
    "all_datasets = uci_datasets + ['texas', 'ieeecis']"
   ]
  },
  {
   "cell_type": "markdown",
   "metadata": {},
   "source": [
    "# Greedy column removal attack"
   ]
  },
  {
   "cell_type": "markdown",
   "metadata": {},
   "source": [
    "## german_credit"
   ]
  },
  {
   "cell_type": "code",
   "execution_count": 4,
   "metadata": {},
   "outputs": [
    {
     "name": "stdout",
     "output_type": "stream",
     "text": [
      "Loading german_credit...\n",
      "Select-Regress-Round (SRR) [k=3, M=5]\n",
      "\n",
      "                    Feature                                                     Category  Score\n",
      " Status_of_checking_account                                                   ... < 0 DM     -3\n",
      " Status_of_checking_account       ... >= 200 DM / salary assignments for at least 1 year      2\n",
      " Status_of_checking_account                                            0 <= ... < 200 DM     -1\n",
      " Status_of_checking_account                                          no checking account      5\n",
      "             Credit_history                      all credits at this bank paid back duly     -3\n",
      "             Credit_history  critical account/ other credits existing (not at this bank)      3\n",
      "             Credit_history                 no credits taken/ all credits paid back duly     -3\n",
      "         Duration_in_months                                                 (-inf, 11.5]      3\n",
      "         Duration_in_months                                                  (23.0, inf]     -2\n",
      "\n",
      "Intercept: 3\n",
      "\n",
      "Predict class 1 if sum of scores and intercept is >= 0, otherwise predict 0.\n"
     ]
    }
   ],
   "source": [
    "# Load the data\n",
    "X, y = load_dataset(name='german_credit')\n",
    "\n",
    "params = {\n",
    "    'train_size': 0.9,\n",
    "    'seed': 100,\n",
    "    'nbins': 3,\n",
    "    'k': 3,\n",
    "    'M': 5,\n",
    "    'cv': 5,\n",
    "    'Cs': 20,\n",
    "    'max_iter': 150,\n",
    "    'random_state': 42\n",
    "}\n",
    "\n",
    "X_train, X_test, y_train, y_test = processing_pipeline(X, y, train_size=params['train_size'],\n",
    "                                                           seed=params['seed'], nbins=params['nbins'])\n",
    "\n",
    "original_srr = SRR(k=params['k'], M=params['M'],\n",
    "                   cv=params['cv'], Cs=params['Cs'], \n",
    "                   max_iter=params['max_iter'],\n",
    "                   random_state=params['random_state'])\n",
    "original_srr.fit(X_train, y_train,\n",
    "                 train_size=params['train_size'], \n",
    "                 seed=params['seed'], \n",
    "                 nbins=params['nbins'])\n",
    "\n",
    "original_srr.show_scoring_table()"
   ]
  },
  {
   "cell_type": "markdown",
   "metadata": {},
   "source": [
    "### Removing features"
   ]
  },
  {
   "cell_type": "code",
   "execution_count": 5,
   "metadata": {},
   "outputs": [
    {
     "name": "stderr",
     "output_type": "stream",
     "text": [
      "\r",
      "  0%|          | 0/19 [00:00<?, ?it/s]"
     ]
    },
    {
     "name": "stdout",
     "output_type": "stream",
     "text": [
      "-----> Status_of_checking_account\n"
     ]
    },
    {
     "name": "stderr",
     "output_type": "stream",
     "text": [
      "  0%|          | 0/19 [00:00<?, ?it/s]         "
     ]
    },
    {
     "name": "stdout",
     "output_type": "stream",
     "text": [
      "Attack failed, removed too many columns. Tried removals:\n",
      "['Purpose', 'Credit_history', 'Credit_amount', 'Employment_since', 'Installment_rate', 'status_and_sex', 'Other_debtors', 'residence_since', 'Property', 'Age', 'Other_installment', 'Housing', 'Savings_account', 'Duration_in_months', 'existing_credits', 'Job', 'Number_of_dependents']\n",
      "-----> Credit_history\n"
     ]
    },
    {
     "name": "stderr",
     "output_type": "stream",
     "text": [
      "  0%|          | 0/19 [00:00<?, ?it/s]         "
     ]
    },
    {
     "name": "stdout",
     "output_type": "stream",
     "text": [
      "Attack failed, removed too many columns. Tried removals:\n",
      "['Purpose', 'Credit_amount', 'Savings_account', 'Employment_since', 'Installment_rate', 'status_and_sex', 'Other_debtors', 'residence_since', 'Property', 'Age', 'Other_installment', 'Housing', 'existing_credits', 'Job', 'Number_of_dependents', 'Have_Telephone', 'foreign_worker']\n",
      "-----> Duration_in_months\n"
     ]
    },
    {
     "name": "stderr",
     "output_type": "stream",
     "text": [
      "                                               "
     ]
    },
    {
     "name": "stdout",
     "output_type": "stream",
     "text": [
      "Attack failed, removed too many columns. Tried removals:\n",
      "['Purpose', 'Status_of_checking_account', 'Credit_amount', 'Employment_since', 'Installment_rate', 'status_and_sex', 'Other_debtors', 'residence_since', 'Property', 'Age', 'Other_installment', 'Housing', 'Credit_history', 'existing_credits', 'Job', 'Number_of_dependents', 'Have_Telephone']\n"
     ]
    },
    {
     "name": "stderr",
     "output_type": "stream",
     "text": [
      "\r"
     ]
    }
   ],
   "source": [
    "for feat in original_srr.features:\n",
    "    print(f'-----> {feat}')\n",
    "    poisoning_attack_drop_columns(original_srr, X_train, y_train, \n",
    "                                  feature=feat,\n",
    "                                  goal='remove_feature',\n",
    "                                  greedy=True)"
   ]
  },
  {
   "cell_type": "markdown",
   "metadata": {},
   "source": [
    "### Nullifying"
   ]
  },
  {
   "cell_type": "code",
   "execution_count": 6,
   "metadata": {
    "scrolled": false
   },
   "outputs": [
    {
     "name": "stderr",
     "output_type": "stream",
     "text": [
      "\r",
      "  0%|          | 0/19 [00:00<?, ?it/s]"
     ]
    },
    {
     "name": "stdout",
     "output_type": "stream",
     "text": [
      "--- > Status_of_checking_account - ... < 0 DM\n"
     ]
    },
    {
     "name": "stderr",
     "output_type": "stream",
     "text": [
      "  0%|          | 0/19 [00:00<?, ?it/s]         "
     ]
    },
    {
     "name": "stdout",
     "output_type": "stream",
     "text": [
      "Attack successful! Removals:\n",
      "['Purpose', 'Credit_history', 'Credit_amount', 'Employment_since', 'Installment_rate', 'status_and_sex', 'Other_debtors', 'residence_since', 'Property', 'Age', 'Other_installment', 'Housing', 'Duration_in_months', 'Savings_account']\n",
      "\n",
      "Resulting model:\n",
      "Select-Regress-Round (SRR) [k=3, M=5]\n",
      "\n",
      "                    Feature                                                Category  Score\n",
      " Status_of_checking_account                                              ... < 0 DM      0\n",
      " Status_of_checking_account  ... >= 200 DM / salary assignments for at least 1 year      0\n",
      " Status_of_checking_account                                       0 <= ... < 200 DM      0\n",
      " Status_of_checking_account                                     no checking account      0\n",
      "             foreign_worker                                                      no      0\n",
      "             foreign_worker                                                     yes      0\n",
      "           existing_credits                                             (-inf, 1.0]      0\n",
      "           existing_credits                                              (1.5, inf]      0\n",
      "\n",
      "Intercept: 5\n",
      "\n",
      "Predict class 1 if sum of scores and intercept is >= 0, otherwise predict 0.\n",
      "\n",
      "\n",
      "\n",
      "--- > Status_of_checking_account - ... >= 200 DM / salary assignments for at least 1 year\n"
     ]
    },
    {
     "name": "stderr",
     "output_type": "stream",
     "text": [
      "  0%|          | 0/19 [00:00<?, ?it/s]         "
     ]
    },
    {
     "name": "stdout",
     "output_type": "stream",
     "text": [
      "Attack successful! Removals:\n",
      "['Purpose', 'Credit_history', 'Savings_account', 'Credit_amount', 'Employment_since', 'Installment_rate', 'status_and_sex', 'residence_since', 'Property', 'Duration_in_months']\n",
      "\n",
      "Resulting model:\n",
      "Select-Regress-Round (SRR) [k=3, M=5]\n",
      "\n",
      "                    Feature                                                Category  Score\n",
      " Status_of_checking_account                                              ... < 0 DM      0\n",
      " Status_of_checking_account  ... >= 200 DM / salary assignments for at least 1 year      0\n",
      " Status_of_checking_account                                       0 <= ... < 200 DM      0\n",
      " Status_of_checking_account                                     no checking account      0\n",
      "              Other_debtors                                            co-applicant      0\n",
      "              Other_debtors                                               guarantor      0\n",
      "              Other_debtors                                                    none      0\n",
      "          Other_installment                                                    bank      0\n",
      "          Other_installment                                                    none      0\n",
      "          Other_installment                                                  stores      0\n",
      "\n",
      "Intercept: 5\n",
      "\n",
      "Predict class 1 if sum of scores and intercept is >= 0, otherwise predict 0.\n",
      "\n",
      "\n",
      "\n",
      "--- > Status_of_checking_account - 0 <= ... < 200 DM\n"
     ]
    },
    {
     "name": "stderr",
     "output_type": "stream",
     "text": [
      "  0%|          | 0/19 [00:00<?, ?it/s]         "
     ]
    },
    {
     "name": "stdout",
     "output_type": "stream",
     "text": [
      "Attack failed, removed too many columns. Tried removals:\n",
      "['Purpose', 'Credit_amount', 'Savings_account', 'Employment_since', 'Installment_rate', 'status_and_sex', 'Other_debtors', 'residence_since', 'Property', 'Age', 'Other_installment', 'Housing', 'existing_credits', 'Job', 'Number_of_dependents', 'Have_Telephone', 'foreign_worker']\n",
      "\n",
      "\n",
      "\n",
      "--- > Status_of_checking_account - no checking account\n"
     ]
    },
    {
     "name": "stderr",
     "output_type": "stream",
     "text": [
      "  0%|          | 0/19 [00:00<?, ?it/s]         "
     ]
    },
    {
     "name": "stdout",
     "output_type": "stream",
     "text": [
      "Attack successful! Removals:\n",
      "['Duration_in_months', 'Purpose', 'Credit_amount', 'Savings_account', 'Employment_since', 'Installment_rate', 'status_and_sex', 'residence_since', 'Property', 'Credit_history']\n",
      "\n",
      "Resulting model:\n",
      "Select-Regress-Round (SRR) [k=3, M=5]\n",
      "\n",
      "                    Feature                                                Category  Score\n",
      " Status_of_checking_account                                              ... < 0 DM      0\n",
      " Status_of_checking_account  ... >= 200 DM / salary assignments for at least 1 year      0\n",
      " Status_of_checking_account                                       0 <= ... < 200 DM      0\n",
      " Status_of_checking_account                                     no checking account      0\n",
      "              Other_debtors                                            co-applicant      0\n",
      "              Other_debtors                                               guarantor      0\n",
      "              Other_debtors                                                    none      0\n",
      "          Other_installment                                                    bank      0\n",
      "          Other_installment                                                    none      0\n",
      "          Other_installment                                                  stores      0\n",
      "\n",
      "Intercept: 5\n",
      "\n",
      "Predict class 1 if sum of scores and intercept is >= 0, otherwise predict 0.\n",
      "\n",
      "\n",
      "\n",
      "--- > Credit_history - all credits at this bank paid back duly\n"
     ]
    },
    {
     "name": "stderr",
     "output_type": "stream",
     "text": [
      "  0%|          | 0/19 [00:00<?, ?it/s]         "
     ]
    },
    {
     "name": "stdout",
     "output_type": "stream",
     "text": [
      "Attack failed, removed too many columns. Tried removals:\n",
      "['Purpose', 'Duration_in_months', 'Other_debtors', 'Property', 'Credit_amount', 'Savings_account', 'Employment_since', 'Installment_rate', 'status_and_sex', 'residence_since', 'Age', 'Other_installment', 'Housing', 'existing_credits', 'Job', 'Number_of_dependents', 'Have_Telephone']\n",
      "\n",
      "\n",
      "\n",
      "--- > Credit_history - critical account/ other credits existing (not at this bank)\n"
     ]
    },
    {
     "name": "stderr",
     "output_type": "stream",
     "text": [
      "  0%|          | 0/19 [00:00<?, ?it/s]         "
     ]
    },
    {
     "name": "stdout",
     "output_type": "stream",
     "text": [
      "Attack failed, removed too many columns. Tried removals:\n",
      "['Purpose', 'Credit_amount', 'Savings_account', 'Employment_since', 'Installment_rate', 'status_and_sex', 'Other_debtors', 'residence_since', 'Property', 'Age', 'Other_installment', 'Housing', 'existing_credits', 'Job', 'Number_of_dependents', 'Have_Telephone', 'foreign_worker']\n",
      "\n",
      "\n",
      "\n",
      "--- > Credit_history - delay in paying off in the past\n",
      "Already 0.\n",
      "\n",
      "\n",
      "\n",
      "--- > Credit_history - existing credits paid back duly till now\n",
      "Already 0.\n",
      "\n",
      "\n",
      "\n",
      "--- > Credit_history - no credits taken/ all credits paid back duly\n"
     ]
    },
    {
     "name": "stderr",
     "output_type": "stream",
     "text": [
      "  0%|          | 0/19 [00:00<?, ?it/s]         "
     ]
    },
    {
     "name": "stdout",
     "output_type": "stream",
     "text": [
      "Attack failed, removed too many columns. Tried removals:\n",
      "['Purpose', 'Status_of_checking_account', 'Credit_amount', 'Employment_since', 'Installment_rate', 'status_and_sex', 'Other_debtors', 'residence_since', 'Property', 'Age', 'Other_installment', 'Housing', 'existing_credits', 'Job', 'Number_of_dependents', 'Have_Telephone', 'foreign_worker']\n",
      "\n",
      "\n",
      "\n",
      "--- > Duration_in_months - (-inf, 11.5]\n"
     ]
    },
    {
     "name": "stderr",
     "output_type": "stream",
     "text": [
      "  0%|          | 0/19 [00:00<?, ?it/s]         "
     ]
    },
    {
     "name": "stdout",
     "output_type": "stream",
     "text": [
      "Attack successful! Removals:\n",
      "['Purpose', 'Credit_amount', 'Savings_account', 'Credit_history', 'Employment_since', 'Installment_rate', 'status_and_sex', 'residence_since', 'Property', 'Age', 'Other_installment', 'Housing', 'Status_of_checking_account']\n",
      "\n",
      "Resulting model:\n",
      "Select-Regress-Round (SRR) [k=3, M=5]\n",
      "\n",
      "            Feature                                  Category  Score\n",
      " Duration_in_months                              (-inf, 11.5]      0\n",
      " Duration_in_months                              (11.5, 23.0]      0\n",
      " Duration_in_months                               (23.0, inf]      0\n",
      "   existing_credits                               (-inf, 1.0]      0\n",
      "   existing_credits                                (1.5, inf]      0\n",
      "     Have_Telephone                                      none      0\n",
      "     Have_Telephone  yes, registered under the customers name      0\n",
      "\n",
      "Intercept: 5\n",
      "\n",
      "Predict class 1 if sum of scores and intercept is >= 0, otherwise predict 0.\n",
      "\n",
      "\n",
      "\n",
      "--- > Duration_in_months - (11.5, 23.0]\n",
      "Already 0.\n",
      "\n",
      "\n",
      "\n",
      "--- > Duration_in_months - (23.0, inf]\n"
     ]
    },
    {
     "name": "stderr",
     "output_type": "stream",
     "text": [
      "                                               "
     ]
    },
    {
     "name": "stdout",
     "output_type": "stream",
     "text": [
      "Attack successful! Removals:\n",
      "['Purpose', 'Status_of_checking_account', 'Credit_amount', 'Employment_since', 'Installment_rate', 'status_and_sex', 'Other_debtors', 'residence_since', 'Property', 'Age', 'Other_installment', 'Housing', 'Credit_history']\n",
      "\n",
      "Resulting model:\n",
      "Select-Regress-Round (SRR) [k=3, M=5]\n",
      "\n",
      "            Feature                     Category  Score\n",
      " Duration_in_months                 (-inf, 11.5]      0\n",
      " Duration_in_months                 (11.5, 23.0]      0\n",
      " Duration_in_months                  (23.0, inf]      0\n",
      "    Savings_account                .. >= 1000 DM      0\n",
      "    Savings_account                 ... < 100 DM      0\n",
      "    Savings_account          100 <= ... < 500 DM      0\n",
      "    Savings_account         500 <= ... < 1000 DM      0\n",
      "    Savings_account  unknown/ no savings account      0\n",
      "   existing_credits                  (-inf, 1.0]      0\n",
      "   existing_credits                   (1.5, inf]      0\n",
      "\n",
      "Intercept: 5\n",
      "\n",
      "Predict class 1 if sum of scores and intercept is >= 0, otherwise predict 0.\n",
      "\n",
      "\n",
      "\n"
     ]
    },
    {
     "name": "stderr",
     "output_type": "stream",
     "text": [
      "\r"
     ]
    }
   ],
   "source": [
    "for feat in original_srr.features:\n",
    "    for cat in original_srr.df.loc[feat].index:\n",
    "        if original_srr.get_weight(feat, cat) != 0:\n",
    "            \n",
    "            print(f'--- > {feat} - {cat}')\n",
    "            poisoning_attack_drop_columns(original_srr, X_train, y_train, \n",
    "                                          feature=feat,\n",
    "                                          category=cat,\n",
    "                                          goal='nullify',\n",
    "                                          greedy=True)\n",
    "            print('\\n\\n')"
   ]
  },
  {
   "cell_type": "markdown",
   "metadata": {},
   "source": [
    "### Flip sign"
   ]
  },
  {
   "cell_type": "code",
   "execution_count": 8,
   "metadata": {},
   "outputs": [
    {
     "name": "stderr",
     "output_type": "stream",
     "text": [
      "\r",
      "  0%|          | 0/19 [00:00<?, ?it/s]"
     ]
    },
    {
     "name": "stdout",
     "output_type": "stream",
     "text": [
      "--- > Status_of_checking_account - ... < 0 DM\n"
     ]
    },
    {
     "name": "stderr",
     "output_type": "stream",
     "text": [
      "  0%|          | 0/19 [00:00<?, ?it/s]         "
     ]
    },
    {
     "name": "stdout",
     "output_type": "stream",
     "text": [
      "Attack failed, removed too many columns. Tried removals:\n",
      "['Purpose', 'Credit_history', 'Credit_amount', 'Employment_since', 'Installment_rate', 'status_and_sex', 'Other_debtors', 'residence_since', 'Property', 'Age', 'Other_installment', 'Housing', 'Duration_in_months', 'foreign_worker', 'existing_credits', 'Job', 'Number_of_dependents']\n",
      "\n",
      "\n",
      "\n",
      "--- > Status_of_checking_account - ... >= 200 DM / salary assignments for at least 1 year\n"
     ]
    },
    {
     "name": "stderr",
     "output_type": "stream",
     "text": [
      "  0%|          | 0/19 [00:00<?, ?it/s]         "
     ]
    },
    {
     "name": "stdout",
     "output_type": "stream",
     "text": [
      "Attack failed, removed too many columns. Tried removals:\n",
      "['Purpose', 'Credit_history', 'Savings_account', 'Credit_amount', 'Employment_since', 'Installment_rate', 'status_and_sex', 'residence_since', 'Property', 'Duration_in_months', 'Other_installment', 'Age', 'Housing', 'Other_debtors', 'existing_credits', 'Job', 'Number_of_dependents']\n",
      "\n",
      "\n",
      "\n",
      "--- > Status_of_checking_account - 0 <= ... < 200 DM\n"
     ]
    },
    {
     "name": "stderr",
     "output_type": "stream",
     "text": [
      "  0%|          | 0/19 [00:00<?, ?it/s]         "
     ]
    },
    {
     "name": "stdout",
     "output_type": "stream",
     "text": [
      "Attack failed, removed too many columns. Tried removals:\n",
      "['Purpose', 'Credit_amount', 'Savings_account', 'Employment_since', 'Installment_rate', 'status_and_sex', 'Other_debtors', 'residence_since', 'Property', 'Age', 'Other_installment', 'Housing', 'existing_credits', 'Job', 'Number_of_dependents', 'Have_Telephone', 'foreign_worker']\n",
      "\n",
      "\n",
      "\n",
      "--- > Status_of_checking_account - no checking account\n"
     ]
    },
    {
     "name": "stderr",
     "output_type": "stream",
     "text": [
      "  0%|          | 0/19 [00:00<?, ?it/s]         "
     ]
    },
    {
     "name": "stdout",
     "output_type": "stream",
     "text": [
      "Attack failed, removed too many columns. Tried removals:\n",
      "['Duration_in_months', 'Purpose', 'Credit_amount', 'Savings_account', 'Employment_since', 'Installment_rate', 'status_and_sex', 'residence_since', 'Property', 'Credit_history', 'Other_installment', 'Age', 'Housing', 'Other_debtors', 'existing_credits', 'Job', 'Number_of_dependents']\n",
      "\n",
      "\n",
      "\n",
      "--- > Credit_history - all credits at this bank paid back duly\n"
     ]
    },
    {
     "name": "stderr",
     "output_type": "stream",
     "text": [
      "  0%|          | 0/19 [00:00<?, ?it/s]         "
     ]
    },
    {
     "name": "stdout",
     "output_type": "stream",
     "text": [
      "Attack failed, removed too many columns. Tried removals:\n",
      "['Purpose', 'Duration_in_months', 'Other_debtors', 'Property', 'Credit_amount', 'Savings_account', 'Employment_since', 'Installment_rate', 'status_and_sex', 'residence_since', 'Age', 'Other_installment', 'Housing', 'existing_credits', 'Job', 'Number_of_dependents', 'Have_Telephone']\n",
      "\n",
      "\n",
      "\n",
      "--- > Credit_history - critical account/ other credits existing (not at this bank)\n"
     ]
    },
    {
     "name": "stderr",
     "output_type": "stream",
     "text": [
      "  0%|          | 0/19 [00:00<?, ?it/s]         "
     ]
    },
    {
     "name": "stdout",
     "output_type": "stream",
     "text": [
      "Attack failed, removed too many columns. Tried removals:\n",
      "['Purpose', 'Credit_amount', 'Savings_account', 'Employment_since', 'Installment_rate', 'status_and_sex', 'Other_debtors', 'residence_since', 'Property', 'Age', 'Other_installment', 'Housing', 'existing_credits', 'Job', 'Number_of_dependents', 'Have_Telephone', 'foreign_worker']\n",
      "\n",
      "\n",
      "\n",
      "--- > Credit_history - no credits taken/ all credits paid back duly\n"
     ]
    },
    {
     "name": "stderr",
     "output_type": "stream",
     "text": [
      "  0%|          | 0/19 [00:00<?, ?it/s]         "
     ]
    },
    {
     "name": "stdout",
     "output_type": "stream",
     "text": [
      "Attack failed, removed too many columns. Tried removals:\n",
      "['Purpose', 'Status_of_checking_account', 'Credit_amount', 'Employment_since', 'Installment_rate', 'status_and_sex', 'Other_debtors', 'residence_since', 'Property', 'Age', 'Other_installment', 'Housing', 'existing_credits', 'Job', 'Number_of_dependents', 'Have_Telephone', 'foreign_worker']\n",
      "\n",
      "\n",
      "\n",
      "--- > Duration_in_months - (-inf, 11.5]\n"
     ]
    },
    {
     "name": "stderr",
     "output_type": "stream",
     "text": [
      "  0%|          | 0/19 [00:00<?, ?it/s]         "
     ]
    },
    {
     "name": "stdout",
     "output_type": "stream",
     "text": [
      "Attack failed, removed too many columns. Tried removals:\n",
      "['Purpose', 'Credit_amount', 'Savings_account', 'Credit_history', 'Employment_since', 'Installment_rate', 'status_and_sex', 'residence_since', 'Property', 'Age', 'Other_installment', 'Housing', 'Status_of_checking_account', 'Other_debtors', 'existing_credits', 'Job', 'Number_of_dependents']\n",
      "\n",
      "\n",
      "\n",
      "--- > Duration_in_months - (23.0, inf]\n"
     ]
    },
    {
     "name": "stderr",
     "output_type": "stream",
     "text": [
      "                                               "
     ]
    },
    {
     "name": "stdout",
     "output_type": "stream",
     "text": [
      "Attack failed, removed too many columns. Tried removals:\n",
      "['Purpose', 'Status_of_checking_account', 'Credit_amount', 'Employment_since', 'Installment_rate', 'status_and_sex', 'Other_debtors', 'residence_since', 'Property', 'Age', 'Other_installment', 'Housing', 'Credit_history', 'existing_credits', 'Job', 'Number_of_dependents', 'Have_Telephone']\n",
      "\n",
      "\n",
      "\n"
     ]
    },
    {
     "name": "stderr",
     "output_type": "stream",
     "text": [
      "\r"
     ]
    }
   ],
   "source": [
    "for feat in original_srr.features:\n",
    "    for cat in original_srr.df.loc[feat].index:\n",
    "        if original_srr.get_weight(feat, cat) != 0:\n",
    "            \n",
    "            print(f'--- > {feat} - {cat}')\n",
    "            poisoning_attack_drop_columns(original_srr, X_train, y_train, \n",
    "                                          feature=feat,\n",
    "                                          category=cat,\n",
    "                                          goal='flip_sign',\n",
    "                                          greedy=True)\n",
    "            print('\\n\\n')"
   ]
  },
  {
   "cell_type": "markdown",
   "metadata": {},
   "source": [
    "## bankruptcy"
   ]
  },
  {
   "cell_type": "code",
   "execution_count": 11,
   "metadata": {},
   "outputs": [
    {
     "name": "stdout",
     "output_type": "stream",
     "text": [
      "Loading bankruptcy...\n",
      "Select-Regress-Round (SRR) [k=3, M=5]\n",
      "\n",
      "         Feature Category  Score\n",
      " competitiveness        N      5\n",
      " competitiveness        P     -2\n",
      "     credibility        N      3\n",
      "  financial_flex        N      2\n",
      "\n",
      "Intercept: -4\n",
      "\n",
      "Predict class 1 if sum of scores and intercept is >= 0, otherwise predict 0.\n"
     ]
    }
   ],
   "source": [
    "# Load the data\n",
    "X, y = load_dataset(name='bankruptcy')\n",
    "\n",
    "params = {\n",
    "    'train_size': 0.9,\n",
    "    'seed': 100,\n",
    "    'nbins': 3,\n",
    "    'k': 3,\n",
    "    'M': 5,\n",
    "    'cv': 5,\n",
    "    'Cs': 20,\n",
    "    'max_iter': 150,\n",
    "    'random_state': 42\n",
    "}\n",
    "\n",
    "X_train, X_test, y_train, y_test = processing_pipeline(X, y, train_size=params['train_size'],\n",
    "                                                           seed=params['seed'], nbins=params['nbins'])\n",
    "\n",
    "original_srr = SRR(k=params['k'], M=params['M'],\n",
    "                   cv=params['cv'], Cs=params['Cs'], \n",
    "                   max_iter=params['max_iter'],\n",
    "                   random_state=params['random_state'])\n",
    "original_srr.fit(X_train, y_train,\n",
    "                 train_size=params['train_size'], \n",
    "                 seed=params['seed'], \n",
    "                 nbins=params['nbins'])\n",
    "\n",
    "original_srr.show_scoring_table()"
   ]
  },
  {
   "cell_type": "markdown",
   "metadata": {},
   "source": [
    "### Removing features"
   ]
  },
  {
   "cell_type": "code",
   "execution_count": 12,
   "metadata": {},
   "outputs": [
    {
     "name": "stderr",
     "output_type": "stream",
     "text": [
      "\r",
      "  0%|          | 0/5 [00:00<?, ?it/s]"
     ]
    },
    {
     "name": "stdout",
     "output_type": "stream",
     "text": [
      "-----> competitiveness\n"
     ]
    },
    {
     "name": "stderr",
     "output_type": "stream",
     "text": [
      "  0%|          | 0/5 [00:00<?, ?it/s]        "
     ]
    },
    {
     "name": "stdout",
     "output_type": "stream",
     "text": [
      "Attack failed, removed too many columns. Tried removals:\n",
      "['industrial_risk', 'management_risk', 'operating_risk']\n",
      "-----> credibility\n"
     ]
    },
    {
     "name": "stderr",
     "output_type": "stream",
     "text": [
      "  0%|          | 0/5 [00:00<?, ?it/s]        "
     ]
    },
    {
     "name": "stdout",
     "output_type": "stream",
     "text": [
      "Attack failed, removed too many columns. Tried removals:\n",
      "['industrial_risk', 'management_risk', 'operating_risk']\n",
      "-----> financial_flex\n"
     ]
    },
    {
     "name": "stderr",
     "output_type": "stream",
     "text": [
      "                                             "
     ]
    },
    {
     "name": "stdout",
     "output_type": "stream",
     "text": [
      "Attack failed, removed too many columns. Tried removals:\n",
      "['industrial_risk', 'management_risk', 'operating_risk']\n"
     ]
    },
    {
     "name": "stderr",
     "output_type": "stream",
     "text": [
      "\r"
     ]
    }
   ],
   "source": [
    "for feat in original_srr.features:\n",
    "    print(f'-----> {feat}')\n",
    "    poisoning_attack_drop_columns(original_srr, X_train, y_train, \n",
    "                                  feature=feat,\n",
    "                                  goal='remove_feature',\n",
    "                                  greedy=True)"
   ]
  },
  {
   "cell_type": "markdown",
   "metadata": {},
   "source": [
    "### Nullifying"
   ]
  },
  {
   "cell_type": "code",
   "execution_count": 15,
   "metadata": {},
   "outputs": [
    {
     "name": "stderr",
     "output_type": "stream",
     "text": [
      "\r",
      "  0%|          | 0/5 [00:00<?, ?it/s]"
     ]
    },
    {
     "name": "stdout",
     "output_type": "stream",
     "text": [
      "--- > competitiveness - N\n"
     ]
    },
    {
     "name": "stderr",
     "output_type": "stream",
     "text": [
      "  0%|          | 0/5 [00:00<?, ?it/s]        "
     ]
    },
    {
     "name": "stdout",
     "output_type": "stream",
     "text": [
      "Attack failed, removed too many columns. Tried removals:\n",
      "['industrial_risk', 'management_risk', 'operating_risk']\n",
      "\n",
      "\n",
      "\n",
      "--- > competitiveness - P\n"
     ]
    },
    {
     "name": "stderr",
     "output_type": "stream",
     "text": [
      "  0%|          | 0/5 [00:00<?, ?it/s]        "
     ]
    },
    {
     "name": "stdout",
     "output_type": "stream",
     "text": [
      "Attack failed, removed too many columns. Tried removals:\n",
      "['financial_flex', 'industrial_risk', 'management_risk']\n",
      "\n",
      "\n",
      "\n",
      "--- > credibility - N\n"
     ]
    },
    {
     "name": "stderr",
     "output_type": "stream",
     "text": [
      "  0%|          | 0/5 [00:00<?, ?it/s]        "
     ]
    },
    {
     "name": "stdout",
     "output_type": "stream",
     "text": [
      "Attack failed, removed too many columns. Tried removals:\n",
      "['industrial_risk', 'competitiveness', 'management_risk']\n",
      "\n",
      "\n",
      "\n",
      "--- > financial_flex - N\n"
     ]
    },
    {
     "name": "stderr",
     "output_type": "stream",
     "text": [
      "                                             "
     ]
    },
    {
     "name": "stdout",
     "output_type": "stream",
     "text": [
      "Attack failed, removed too many columns. Tried removals:\n",
      "['industrial_risk', 'management_risk', 'operating_risk']\n",
      "\n",
      "\n",
      "\n"
     ]
    },
    {
     "name": "stderr",
     "output_type": "stream",
     "text": [
      "\r"
     ]
    }
   ],
   "source": [
    "for feat in original_srr.features:\n",
    "    for cat in original_srr.df.loc[feat].index:\n",
    "        if original_srr.get_weight(feat, cat) != 0:\n",
    "            print(f'--- > {feat} - {cat}')\n",
    "            poisoning_attack_drop_columns(original_srr, X_train, y_train, \n",
    "                                          feature=feat,\n",
    "                                          category=cat,\n",
    "                                          goal='nullify',\n",
    "                                          greedy=True)\n",
    "            print('\\n\\n')"
   ]
  },
  {
   "cell_type": "markdown",
   "metadata": {},
   "source": [
    "### Flip sign"
   ]
  },
  {
   "cell_type": "code",
   "execution_count": 16,
   "metadata": {},
   "outputs": [
    {
     "name": "stderr",
     "output_type": "stream",
     "text": [
      "\r",
      "  0%|          | 0/5 [00:00<?, ?it/s]"
     ]
    },
    {
     "name": "stdout",
     "output_type": "stream",
     "text": [
      "--- > competitiveness - N\n"
     ]
    },
    {
     "name": "stderr",
     "output_type": "stream",
     "text": [
      "  0%|          | 0/5 [00:00<?, ?it/s]        "
     ]
    },
    {
     "name": "stdout",
     "output_type": "stream",
     "text": [
      "Attack failed, removed too many columns. Tried removals:\n",
      "['industrial_risk', 'management_risk', 'operating_risk']\n",
      "\n",
      "\n",
      "\n",
      "--- > competitiveness - P\n"
     ]
    },
    {
     "name": "stderr",
     "output_type": "stream",
     "text": [
      "  0%|          | 0/5 [00:00<?, ?it/s]        "
     ]
    },
    {
     "name": "stdout",
     "output_type": "stream",
     "text": [
      "Attack failed, removed too many columns. Tried removals:\n",
      "['financial_flex', 'industrial_risk', 'management_risk']\n",
      "\n",
      "\n",
      "\n",
      "--- > credibility - N\n"
     ]
    },
    {
     "name": "stderr",
     "output_type": "stream",
     "text": [
      "  0%|          | 0/5 [00:00<?, ?it/s]        "
     ]
    },
    {
     "name": "stdout",
     "output_type": "stream",
     "text": [
      "Attack failed, removed too many columns. Tried removals:\n",
      "['industrial_risk', 'competitiveness', 'management_risk']\n",
      "\n",
      "\n",
      "\n",
      "--- > financial_flex - N\n"
     ]
    },
    {
     "name": "stderr",
     "output_type": "stream",
     "text": [
      "                                             "
     ]
    },
    {
     "name": "stdout",
     "output_type": "stream",
     "text": [
      "Attack failed, removed too many columns. Tried removals:\n",
      "['industrial_risk', 'management_risk', 'operating_risk']\n",
      "\n",
      "\n",
      "\n"
     ]
    },
    {
     "name": "stderr",
     "output_type": "stream",
     "text": [
      "\r"
     ]
    }
   ],
   "source": [
    "for feat in original_srr.features:\n",
    "    for cat in original_srr.df.loc[feat].index:\n",
    "        if original_srr.get_weight(feat, cat) != 0:\n",
    "            print(f'--- > {feat} - {cat}')\n",
    "            poisoning_attack_drop_columns(original_srr, X_train, y_train, \n",
    "                                          feature=feat,\n",
    "                                          category=cat,\n",
    "                                          goal='flip_sign',\n",
    "                                          greedy=True)\n",
    "            print('\\n\\n')"
   ]
  },
  {
   "cell_type": "code",
   "execution_count": null,
   "metadata": {},
   "outputs": [],
   "source": []
  }
 ],
 "metadata": {
  "kernelspec": {
   "display_name": "SPRING (Python 3)",
   "language": "python",
   "name": "python3"
  },
  "language_info": {
   "codemirror_mode": {
    "name": "ipython",
    "version": 3
   },
   "file_extension": ".py",
   "mimetype": "text/x-python",
   "name": "python",
   "nbconvert_exporter": "python",
   "pygments_lexer": "ipython3",
   "version": "3.8.5"
  }
 },
 "nbformat": 4,
 "nbformat_minor": 4
}
