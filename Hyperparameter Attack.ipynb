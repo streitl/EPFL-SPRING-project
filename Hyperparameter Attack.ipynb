{
 "cells": [
  {
   "cell_type": "markdown",
   "metadata": {},
   "source": [
    "# Links to dataset information\n",
    "\n",
    "**UCI**:\n",
    "- __[adult](http://archive.ics.uci.edu/ml/datasets/Adult)__\n",
    "- __[annealing](https://archive.ics.uci.edu/ml/datasets/Annealing)__\n",
    "- __[audiology-std](https://archive.ics.uci.edu/ml/datasets/Audiology+%28Standardized%29)__\n",
    "- __[bank](https://archive.ics.uci.edu/ml/datasets/Bank%2BMarketing)__\n",
    "- __[bankruptcy](http://archive.ics.uci.edu/ml/datasets/Qualitative_Bankruptcy)__\n",
    "- __[car](https://archive.ics.uci.edu/ml/datasets/Car+Evaluation)__\n",
    "- __[chess-krvk](https://archive.ics.uci.edu/ml/datasets/Chess+%28King-Rook+vs.+King%29)__\n",
    "- __[chess-krvkp](http://archive.ics.uci.edu/ml/datasets/Chess+%28King-Rook+vs.+King-Pawn%29)__\n",
    "- __[congress-voting](https://archive.ics.uci.edu/ml/datasets/Congressional+Voting+Records)__\n",
    "- __[contrac](https://archive.ics.uci.edu/ml/datasets/Contraceptive+Method+Choice)__\n",
    "- __[credit-approval](http://archive.ics.uci.edu/ml/datasets/Credit+Approval)__\n",
    "- **unsure about this one**: __[ctg](https://www.kaggle.com/akshat0007/fetalhr)__\n",
    "- __[cylinder-bands](http://archive.ics.uci.edu/ml/datasets/Cylinder+Bands)__\n",
    "- __[dermatology](https://archive.ics.uci.edu/ml/datasets/Dermatology)__\n",
    "- __[german_credit](https://archive.ics.uci.edu/ml/datasets/Statlog+%28German+Credit+Data%29)__\n",
    "- __[heart-cleveland](https://archive.ics.uci.edu/ml/datasets/Heart+Disease)__\n",
    "- __[ilpd](http://archive.ics.uci.edu/ml/datasets/ILPD+%28Indian+Liver+Patient+Dataset%29)__\n",
    "- __[mammo](https://archive.ics.uci.edu/ml/datasets/Mammographic+Mass)__\n",
    "- __[mushroom](https://archive.ics.uci.edu/ml/datasets/Mushroom)__\n",
    "- __[wine](https://archive.ics.uci.edu/ml/datasets/wine)__\n",
    "- __[wine_qual](https://archive.ics.uci.edu/ml/datasets/Wine+Quality)__\n",
    "\n",
    "Others:\n",
    "- __[texas](https://www.dshs.texas.gov/thcic/hospitals/UserManual1Q2013.pdf)__\n",
    "- __[IEEECIS](https://www.kaggle.com/c/ieee-fraud-detection/discussion/101203)__\n"
   ]
  },
  {
   "cell_type": "markdown",
   "metadata": {},
   "source": [
    "# Imports"
   ]
  },
  {
   "cell_type": "code",
   "execution_count": 1,
   "metadata": {},
   "outputs": [],
   "source": [
    "import pandas as pd\n",
    "import numpy as np\n",
    "\n",
    "import matplotlib.pyplot as plt\n",
    "import seaborn as sns\n",
    "\n",
    "from sklearn.metrics import accuracy_score\n",
    "from sklearn.model_selection import train_test_split\n",
    "\n",
    "from tqdm import tqdm"
   ]
  },
  {
   "cell_type": "code",
   "execution_count": 2,
   "metadata": {},
   "outputs": [],
   "source": [
    "from src.loader import load_dataset\n",
    "from src.models import SRR\n",
    "from src.preprocessing import one_hot_encode_pair, processing_pipeline, bin_features\n",
    "from src.feature_selection import forward_stepwise_regression\n",
    "from src.vulnerabilities import *"
   ]
  },
  {
   "cell_type": "code",
   "execution_count": 3,
   "metadata": {},
   "outputs": [],
   "source": [
    "uci_datasets = ['adult', 'annealing', 'audiology-std', 'bank', 'bankruptcy', 'car',\n",
    "                'chess-krvk', 'chess-krvkp', 'congress-voting', 'contrac', 'credit-approval',\n",
    "                'ctg', 'cylinder-bands', 'dermatology', 'german_credit', 'heart-cleveland',\n",
    "                'ilpd', 'mammo', 'mushroom', 'wine', 'wine_qual']\n",
    "\n",
    "all_datasets = uci_datasets + ['texas', 'ieeecis']"
   ]
  },
  {
   "cell_type": "markdown",
   "metadata": {},
   "source": [
    "# Hyperparameter Attack"
   ]
  },
  {
   "cell_type": "code",
   "execution_count": 5,
   "metadata": {},
   "outputs": [
    {
     "name": "stdout",
     "output_type": "stream",
     "text": [
      "-> german_credit dataset\n",
      "Loading german_credit...\n",
      "Select-Regress-Round (SRR) [k=3, M=5]\n",
      "\n",
      "                    Feature                                                     Category  Score\n",
      " Status_of_checking_account                                                   ... < 0 DM     -3\n",
      " Status_of_checking_account       ... >= 200 DM / salary assignments for at least 1 year      2\n",
      " Status_of_checking_account                                            0 <= ... < 200 DM     -1\n",
      " Status_of_checking_account                                          no checking account      5\n",
      "             Credit_history                      all credits at this bank paid back duly     -3\n",
      "             Credit_history  critical account/ other credits existing (not at this bank)      3\n",
      "             Credit_history                              delay in paying off in the past      0\n",
      "             Credit_history                     existing credits paid back duly till now      0\n",
      "             Credit_history                 no credits taken/ all credits paid back duly     -3\n",
      "         Duration_in_months                                                 (-inf, 11.5]      3\n",
      "         Duration_in_months                                                 (11.5, 23.0]      0\n",
      "         Duration_in_months                                                  (23.0, inf]     -2\n",
      "\n",
      "Model's bias: 3\n",
      "\n",
      "Predict class 1 if sum of scores and bias is >= 0, otherwise predict 0.\n"
     ]
    }
   ],
   "source": [
    "# Load the data\n",
    "X, y = load_dataset(name='german_credit')\n",
    "\n",
    "# Apply the processing pipeline\n",
    "X_train, X_test, y_train, y_test = processing_pipeline(X, y)\n",
    "\n",
    "# Construct and train Select-Regress-Round model\n",
    "original_srr = SRR(k=3, M=5)\n",
    "original_srr.fit(X_train, y_train)\n",
    "\n",
    "original_model.show_scoring_table()"
   ]
  },
  {
   "cell_type": "code",
   "execution_count": 6,
   "metadata": {},
   "outputs": [
    {
     "name": "stderr",
     "output_type": "stream",
     "text": [
      "  4%|▎         | 1/27 [01:13<31:53, 73.58s/it]"
     ]
    },
    {
     "name": "stdout",
     "output_type": "stream",
     "text": [
      "Achieved goal! Resulting model:\n",
      "Select-Regress-Round (SRR) [k=3, M=5]\n",
      "\n",
      "                    Feature                                                     Category  Score\n",
      " Status_of_checking_account                                                   ... < 0 DM     -3\n",
      " Status_of_checking_account       ... >= 200 DM / salary assignments for at least 1 year      2\n",
      " Status_of_checking_account                                            0 <= ... < 200 DM     -1\n",
      " Status_of_checking_account                                          no checking account      4\n",
      "             Credit_history                      all credits at this bank paid back duly     -3\n",
      "             Credit_history  critical account/ other credits existing (not at this bank)      2\n",
      "             Credit_history                              delay in paying off in the past      0\n",
      "             Credit_history                     existing credits paid back duly till now      0\n",
      "             Credit_history                 no credits taken/ all credits paid back duly     -5\n",
      "              Other_debtors                                                 co-applicant     -2\n",
      "              Other_debtors                                                    guarantor      4\n",
      "              Other_debtors                                                         none      0\n",
      "\n",
      "Model's bias: 3\n",
      "\n",
      "Predict class 1 if sum of scores and bias is >= 0, otherwise predict 0.\n",
      "{'k': 3, 'M': 5, 'train_size': 0.8, 'seed': 0, 'nbins': 4, 'cv': 5, 'Cs': 10, 'max_iter': 50, 'random_state': 0}\n"
     ]
    },
    {
     "name": "stderr",
     "output_type": "stream",
     "text": [
      "\n"
     ]
    }
   ],
   "source": [
    "res = poisoning_attack_hyperparameters(original_srr, X, y,\n",
    "                                       feature='Duration_in_months', goal='remove_feature',\n",
    "                                       greedy=False,\n",
    "                                       train_size_list=[0.8, 0.85, 0.9],\n",
    "                                       seed_list=[0, 42, 1337],\n",
    "                                       nbins_list=[3, 4, 5],\n",
    "                                       cv_list=[5, 10], Cs_list=[10, 100, 1000],\n",
    "                                       max_iter_list=[50, 100],\n",
    "                                       random_state_list=[0, 42, 1337])\n",
    "print(res)"
   ]
  },
  {
   "cell_type": "code",
   "execution_count": 9,
   "metadata": {
    "scrolled": true
   },
   "outputs": [
    {
     "name": "stderr",
     "output_type": "stream",
     "text": [
      "100%|██████████| 72/72 [02:03<00:00,  1.71s/it]"
     ]
    },
    {
     "name": "stdout",
     "output_type": "stream",
     "text": [
      "None\n"
     ]
    },
    {
     "name": "stderr",
     "output_type": "stream",
     "text": [
      "\n"
     ]
    }
   ],
   "source": [
    "res = poisoning_attack_hyperparameters(original_srr, X_train_bin, y_train,\n",
    "                                       feature='Duration_in_months', category='(23.0, inf]', goal='nullify',\n",
    "                                       greedy=False,\n",
    "                                       cv_list=[2, 5, 10], Cs_list=[10, 100, 1000],\n",
    "                                       max_iter_list=[10, 200], random_state_list=[0, 42, 1337, 2020])\n",
    "print(res)"
   ]
  }
 ],
 "metadata": {
  "kernelspec": {
   "display_name": "SPRING (Python 3)",
   "language": "python",
   "name": "python3"
  },
  "language_info": {
   "codemirror_mode": {
    "name": "ipython",
    "version": 3
   },
   "file_extension": ".py",
   "mimetype": "text/x-python",
   "name": "python",
   "nbconvert_exporter": "python",
   "pygments_lexer": "ipython3",
   "version": "3.8.5"
  }
 },
 "nbformat": 4,
 "nbformat_minor": 4
}
